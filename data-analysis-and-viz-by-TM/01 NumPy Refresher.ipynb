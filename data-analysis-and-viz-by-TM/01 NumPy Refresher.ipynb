{
 "cells": [
  {
   "cell_type": "code",
   "execution_count": 1,
   "metadata": {},
   "outputs": [],
   "source": [
    "import numpy as np"
   ]
  },
  {
   "cell_type": "markdown",
   "metadata": {},
   "source": [
    "## Array creation, shape and data type"
   ]
  },
  {
   "cell_type": "code",
   "execution_count": 8,
   "metadata": {},
   "outputs": [
    {
     "name": "stdout",
     "output_type": "stream",
     "text": [
      "[1 2 3 4]\n"
     ]
    }
   ],
   "source": [
    "my_list1 = [1,2,3,4]\n",
    "\n",
    "my_array1 = np.array(my_list1)\n",
    "print(my_array1)"
   ]
  },
  {
   "cell_type": "code",
   "execution_count": 25,
   "metadata": {},
   "outputs": [
    {
     "name": "stdout",
     "output_type": "stream",
     "text": [
      "[[1 2 3 4]\n",
      " [5 6 7 8]]\n",
      "(2, 4)\n"
     ]
    }
   ],
   "source": [
    "my_list2 = [5,6,7,8]\n",
    "\n",
    "my_array2 = np.array([my_list1, my_list2])\n",
    "print(my_array2)\n",
    "print(my_array2.shape)"
   ]
  },
  {
   "cell_type": "code",
   "execution_count": 12,
   "metadata": {},
   "outputs": [
    {
     "name": "stdout",
     "output_type": "stream",
     "text": [
      "int64\n"
     ]
    }
   ],
   "source": [
    "print(my_array2.dtype)"
   ]
  },
  {
   "cell_type": "markdown",
   "metadata": {},
   "source": [
    "## zeros, ones, empty, eye, arange"
   ]
  },
  {
   "cell_type": "code",
   "execution_count": 14,
   "metadata": {},
   "outputs": [
    {
     "name": "stdout",
     "output_type": "stream",
     "text": [
      "[0. 0. 0. 0. 0.]\n"
     ]
    }
   ],
   "source": [
    "zeros_array = np.zeros(5)\n",
    "print(zeros_array)"
   ]
  },
  {
   "cell_type": "code",
   "execution_count": 16,
   "metadata": {},
   "outputs": [
    {
     "name": "stdout",
     "output_type": "stream",
     "text": [
      "[[1. 1. 1. 1. 1.]\n",
      " [1. 1. 1. 1. 1.]\n",
      " [1. 1. 1. 1. 1.]\n",
      " [1. 1. 1. 1. 1.]\n",
      " [1. 1. 1. 1. 1.]]\n"
     ]
    }
   ],
   "source": [
    "ones_array = np.ones([5,5])\n",
    "print(ones_array)"
   ]
  },
  {
   "cell_type": "code",
   "execution_count": 17,
   "metadata": {},
   "outputs": [
    {
     "name": "stdout",
     "output_type": "stream",
     "text": [
      "[0. 0. 0. 0. 0.]\n"
     ]
    }
   ],
   "source": [
    "empty_array = np.empty(5)\n",
    "print(empty_array)"
   ]
  },
  {
   "cell_type": "code",
   "execution_count": 19,
   "metadata": {},
   "outputs": [
    {
     "name": "stdout",
     "output_type": "stream",
     "text": [
      "[[1. 0. 0. 0. 0.]\n",
      " [0. 1. 0. 0. 0.]\n",
      " [0. 0. 1. 0. 0.]\n",
      " [0. 0. 0. 1. 0.]\n",
      " [0. 0. 0. 0. 1.]]\n"
     ]
    }
   ],
   "source": [
    "eye_array = np.eye(5) # identity matrix\n",
    "print(eye_array)"
   ]
  },
  {
   "cell_type": "code",
   "execution_count": 20,
   "metadata": {},
   "outputs": [
    {
     "name": "stdout",
     "output_type": "stream",
     "text": [
      "[ 5  8 11 14 17 20 23 26 29 32 35 38 41 44 47]\n"
     ]
    }
   ],
   "source": [
    "arange_array = np.arange(5, 50, 3)\n",
    "print(arange_array)"
   ]
  },
  {
   "cell_type": "markdown",
   "metadata": {},
   "source": [
    "## Scalar operations on arrays"
   ]
  },
  {
   "cell_type": "code",
   "execution_count": 26,
   "metadata": {},
   "outputs": [
    {
     "name": "stdout",
     "output_type": "stream",
     "text": [
      "[[1 2 3 4]\n",
      " [5 6 7 8]]\n"
     ]
    }
   ],
   "source": [
    "print(my_array2)"
   ]
  },
  {
   "cell_type": "code",
   "execution_count": 27,
   "metadata": {},
   "outputs": [
    {
     "name": "stdout",
     "output_type": "stream",
     "text": [
      "[[ 1  4  9 16]\n",
      " [25 36 49 64]]\n"
     ]
    }
   ],
   "source": [
    "print(my_array2 * my_array2)"
   ]
  },
  {
   "cell_type": "code",
   "execution_count": 33,
   "metadata": {},
   "outputs": [
    {
     "name": "stdout",
     "output_type": "stream",
     "text": [
      "[[  1   8  27  64]\n",
      " [125 216 343 512]]\n"
     ]
    }
   ],
   "source": [
    "print(my_array2 ** 3) # exponential"
   ]
  },
  {
   "cell_type": "code",
   "execution_count": 29,
   "metadata": {},
   "outputs": [
    {
     "name": "stdout",
     "output_type": "stream",
     "text": [
      "[[0 0 0 0]\n",
      " [0 0 0 0]]\n"
     ]
    }
   ],
   "source": [
    "print(my_array2 - my_array2)"
   ]
  },
  {
   "cell_type": "code",
   "execution_count": 32,
   "metadata": {},
   "outputs": [
    {
     "name": "stdout",
     "output_type": "stream",
     "text": [
      "[[1.         0.5        0.33333333 0.25      ]\n",
      " [0.2        0.16666667 0.14285714 0.125     ]]\n"
     ]
    }
   ],
   "source": [
    "print(1 / my_array2) # reciprocal"
   ]
  },
  {
   "cell_type": "markdown",
   "metadata": {},
   "source": [
    "## Array Indexing"
   ]
  },
  {
   "cell_type": "code",
   "execution_count": 34,
   "metadata": {},
   "outputs": [
    {
     "name": "stdout",
     "output_type": "stream",
     "text": [
      "[ 0  1  2  3  4  5  6  7  8  9 10 11]\n"
     ]
    }
   ],
   "source": [
    "my_array3 = np.arange(0,12)\n",
    "print(my_array3)"
   ]
  },
  {
   "cell_type": "code",
   "execution_count": 38,
   "metadata": {},
   "outputs": [
    {
     "name": "stdout",
     "output_type": "stream",
     "text": [
      "0\n",
      "11\n",
      "[0 1 2 3 4]\n",
      "[2 3 4 5]\n"
     ]
    }
   ],
   "source": [
    "print(my_array3[0])\n",
    "print(my_array3[-1])\n",
    "print(my_array3[0:5])\n",
    "print(my_array3[2:6])"
   ]
  },
  {
   "cell_type": "code",
   "execution_count": 39,
   "metadata": {},
   "outputs": [
    {
     "name": "stdout",
     "output_type": "stream",
     "text": [
      "[20 20 20 20 20  5  6  7  8  9 10 11]\n"
     ]
    }
   ],
   "source": [
    "my_array3[0:5] = 20\n",
    "print(my_array3)"
   ]
  },
  {
   "cell_type": "code",
   "execution_count": 43,
   "metadata": {},
   "outputs": [
    {
     "name": "stdout",
     "output_type": "stream",
     "text": [
      "[29 29 29 29 29 29]\n"
     ]
    }
   ],
   "source": [
    "my_array4 = my_array3[0:6] # slicing\n",
    "print(my_array4)"
   ]
  },
  {
   "cell_type": "code",
   "execution_count": 41,
   "metadata": {},
   "outputs": [
    {
     "name": "stdout",
     "output_type": "stream",
     "text": [
      "[29 29 29 29 29 29]\n"
     ]
    }
   ],
   "source": [
    "my_array4[:] =  29\n",
    "print(my_array4)"
   ]
  },
  {
   "cell_type": "code",
   "execution_count": 42,
   "metadata": {},
   "outputs": [
    {
     "name": "stdout",
     "output_type": "stream",
     "text": [
      "[29 29 29 29 29 29  6  7  8  9 10 11]\n"
     ]
    }
   ],
   "source": [
    "print(my_array3)"
   ]
  },
  {
   "cell_type": "code",
   "execution_count": 44,
   "metadata": {},
   "outputs": [
    {
     "name": "stdout",
     "output_type": "stream",
     "text": [
      "[29 29 29 29 29 29  6  7  8  9 10 11]\n"
     ]
    }
   ],
   "source": [
    "# create a copy of an array - different memory locations\n",
    "\n",
    "my_array3_copy = my_array3.copy()\n",
    "print(my_array3_copy)"
   ]
  },
  {
   "cell_type": "code",
   "execution_count": 45,
   "metadata": {},
   "outputs": [
    {
     "name": "stdout",
     "output_type": "stream",
     "text": [
      "[100 100 100 100 100 100   6   7   8   9  10  11]\n",
      "[29 29 29 29 29 29  6  7  8  9 10 11]\n"
     ]
    }
   ],
   "source": [
    "my_array3_copy[0:6] = 100\n",
    "print(my_array3_copy)\n",
    "print(my_array3)"
   ]
  },
  {
   "cell_type": "markdown",
   "metadata": {},
   "source": [
    "## Indexing Multidimensional Arrays"
   ]
  },
  {
   "cell_type": "code",
   "execution_count": 46,
   "metadata": {},
   "outputs": [
    {
     "name": "stdout",
     "output_type": "stream",
     "text": [
      "[[1 2 3]\n",
      " [4 5 6]\n",
      " [7 8 9]]\n"
     ]
    }
   ],
   "source": [
    "my_2d_array = np.array([[1,2,3],[4,5,6],[7,8,9]])\n",
    "print(my_2d_array)"
   ]
  },
  {
   "cell_type": "code",
   "execution_count": 49,
   "metadata": {},
   "outputs": [
    {
     "name": "stdout",
     "output_type": "stream",
     "text": [
      "[1 2 3]\n",
      "1\n"
     ]
    }
   ],
   "source": [
    "print(my_2d_array[0]) # first row\n",
    "print(my_2d_array[0][0]) # first element"
   ]
  },
  {
   "cell_type": "code",
   "execution_count": 53,
   "metadata": {},
   "outputs": [
    {
     "name": "stdout",
     "output_type": "stream",
     "text": [
      "[[1 2]\n",
      " [4 5]]\n"
     ]
    }
   ],
   "source": [
    "# Slices of 2d arrays\n",
    "\n",
    "slice1 = my_2d_array[0:2, 0:2]\n",
    "print(slice1)\n"
   ]
  },
  {
   "cell_type": "code",
   "execution_count": 54,
   "metadata": {},
   "outputs": [
    {
     "name": "stdout",
     "output_type": "stream",
     "text": [
      "[[2 3]\n",
      " [5 6]]\n"
     ]
    }
   ],
   "source": [
    "slice2 = my_2d_array[:2, 1:]\n",
    "print(slice2)"
   ]
  },
  {
   "cell_type": "code",
   "execution_count": 55,
   "metadata": {},
   "outputs": [
    {
     "name": "stdout",
     "output_type": "stream",
     "text": [
      "[[ 1 15 15]\n",
      " [ 4 15 15]\n",
      " [ 7  8  9]]\n"
     ]
    }
   ],
   "source": [
    "my_2d_array[:2, 1:] = 15\n",
    "print(my_2d_array)"
   ]
  },
  {
   "cell_type": "code",
   "execution_count": 57,
   "metadata": {},
   "outputs": [
    {
     "name": "stdout",
     "output_type": "stream",
     "text": [
      "[[0 0 0]\n",
      " [1 1 1]\n",
      " [2 2 2]]\n"
     ]
    }
   ],
   "source": [
    "# Using loops to index\n",
    "\n",
    "my_2d_array_len = my_2d_array.shape[0]\n",
    "# print(my_2d_array_len)\n",
    "\n",
    "for i in range(my_2d_array_len):\n",
    "    my_2d_array[i] = i\n",
    "    \n",
    "print(my_2d_array)"
   ]
  },
  {
   "cell_type": "code",
   "execution_count": 60,
   "metadata": {},
   "outputs": [
    {
     "name": "stdout",
     "output_type": "stream",
     "text": [
      "[[0 0 0]\n",
      " [1 1 1]]\n",
      "[[1 1 1]\n",
      " [0 0 0]]\n"
     ]
    }
   ],
   "source": [
    "# One more way of accessing the rows\n",
    "print(my_2d_array[[0,1]])\n",
    "print(my_2d_array[[1,0]])"
   ]
  },
  {
   "cell_type": "markdown",
   "metadata": {},
   "source": [
    "## Universal Array Functions\n",
    "\n",
    "arange, sqrt, exp, random, addition, maximum, etc"
   ]
  },
  {
   "cell_type": "code",
   "execution_count": 63,
   "metadata": {},
   "outputs": [
    {
     "name": "stdout",
     "output_type": "stream",
     "text": [
      "[ 0  1  2  3  4  5  6  7  8  9 10 11 12 13 14]\n",
      "[ 1  3  5  7  9 11 13]\n"
     ]
    }
   ],
   "source": [
    "A = np.arange(15)\n",
    "print(A)\n",
    "\n",
    "B = np.arange(1,15,2)\n",
    "print(B)"
   ]
  },
  {
   "cell_type": "code",
   "execution_count": 67,
   "metadata": {},
   "outputs": [
    {
     "name": "stdout",
     "output_type": "stream",
     "text": [
      "C is: [0.         1.         1.41421356 1.73205081 2.         2.23606798\n",
      " 2.44948974 2.64575131 2.82842712 3.         3.16227766 3.31662479\n",
      " 3.46410162 3.60555128 3.74165739]\n"
     ]
    }
   ],
   "source": [
    "C = np.sqrt(A)\n",
    "\n",
    "print('C is:',C)"
   ]
  },
  {
   "cell_type": "code",
   "execution_count": 68,
   "metadata": {},
   "outputs": [
    {
     "name": "stdout",
     "output_type": "stream",
     "text": [
      "[1.00000000e+00 2.71828183e+00 7.38905610e+00 2.00855369e+01\n",
      " 5.45981500e+01 1.48413159e+02 4.03428793e+02 1.09663316e+03\n",
      " 2.98095799e+03 8.10308393e+03 2.20264658e+04 5.98741417e+04\n",
      " 1.62754791e+05 4.42413392e+05 1.20260428e+06]\n"
     ]
    }
   ],
   "source": [
    "D = np.exp(A)\n",
    "print(D)"
   ]
  },
  {
   "cell_type": "code",
   "execution_count": 70,
   "metadata": {},
   "outputs": [
    {
     "name": "stdout",
     "output_type": "stream",
     "text": [
      "[ 0.          2.          3.41421356  4.73205081  6.          7.23606798\n",
      "  8.44948974  9.64575131 10.82842712 12.         13.16227766 14.31662479\n",
      " 15.46410162 16.60555128 17.74165739]\n"
     ]
    }
   ],
   "source": [
    "E = np.add(A, C)\n",
    "print(E)"
   ]
  },
  {
   "cell_type": "code",
   "execution_count": 71,
   "metadata": {},
   "outputs": [
    {
     "name": "stdout",
     "output_type": "stream",
     "text": [
      "[ 0.  1.  2.  3.  4.  5.  6.  7.  8.  9. 10. 11. 12. 13. 14.]\n"
     ]
    }
   ],
   "source": [
    "print(np.maximum(A, C))"
   ]
  },
  {
   "cell_type": "markdown",
   "metadata": {},
   "source": [
    "## Loading and Saving Arrays"
   ]
  },
  {
   "cell_type": "code",
   "execution_count": 73,
   "metadata": {},
   "outputs": [
    {
     "name": "stdout",
     "output_type": "stream",
     "text": [
      "[0 1 2 3 4 5 6 7 8 9]\n"
     ]
    }
   ],
   "source": [
    "my_array6 = np.arange(10)\n",
    "print(my_array6)"
   ]
  },
  {
   "cell_type": "code",
   "execution_count": 76,
   "metadata": {},
   "outputs": [
    {
     "name": "stdout",
     "output_type": "stream",
     "text": [
      "[0 1 2 3 4 5 6 7 8 9]\n"
     ]
    }
   ],
   "source": [
    "# Saving a single array - in memomy\n",
    "np.save('saved_array', my_array6) # create a new saved_array.npy file\n",
    "\n",
    "new_array = np.load('saved_array.npy')\n",
    "print(new_array)"
   ]
  },
  {
   "cell_type": "code",
   "execution_count": 83,
   "metadata": {},
   "outputs": [
    {
     "name": "stdout",
     "output_type": "stream",
     "text": [
      "[ 0  1  2  3  4  5  6  7  8  9 10 11 12 13 14 15 16 17 18 19 20 21 22 23\n",
      " 24]\n",
      "[ 0  1  2  3  4  5  6  7  8  9 10 11 12 13 14 15 16 17 18 19 20 21 22 23\n",
      " 24 25 26 27 28 29]\n"
     ]
    }
   ],
   "source": [
    "# Saving multiple arrays\n",
    "\n",
    "my_array7 = np.arange(25)\n",
    "my_array8 = np.arange(30)\n",
    "\n",
    "np.savez('saved_archive.npz', x = my_array7, y = my_array8)\n",
    "\n",
    "loaded_archive = np.load('saved_archive.npz')\n",
    "\n",
    "print(loaded_archive['x'])\n",
    "print(loaded_archive['y'])"
   ]
  },
  {
   "cell_type": "code",
   "execution_count": 85,
   "metadata": {},
   "outputs": [
    {
     "name": "stdout",
     "output_type": "stream",
     "text": [
      "[ 0.  1.  2.  3.  4.  5.  6.  7.  8.  9. 10. 11. 12. 13. 14. 15. 16. 17.\n",
      " 18. 19. 20. 21. 22. 23. 24.]\n"
     ]
    }
   ],
   "source": [
    "# Save to a text file\n",
    "np.savetxt('textfile.txt', my_array7, delimiter=',')\n",
    "\n",
    "# Loading the text file\n",
    "loaded_textfile = np.loadtxt('textfile.txt', delimiter=',')\n",
    "print(loaded_textfile)\n",
    "\n"
   ]
  },
  {
   "cell_type": "markdown",
   "metadata": {},
   "source": [
    "## Statitical and Mathematical Processing"
   ]
  },
  {
   "cell_type": "code",
   "execution_count": 86,
   "metadata": {},
   "outputs": [],
   "source": [
    "import matplotlib.pyplot as plt"
   ]
  },
  {
   "cell_type": "code",
   "execution_count": 92,
   "metadata": {},
   "outputs": [
    {
     "name": "stdout",
     "output_type": "stream",
     "text": [
      "[[-500 -480 -460 -440 -420 -400 -380 -360 -340 -320 -300 -280 -260 -240\n",
      "  -220 -200 -180 -160 -140 -120]\n",
      " [-470 -450 -430 -410 -390 -370 -350 -330 -310 -290 -270 -250 -230 -210\n",
      "  -190 -170 -150 -130 -110  -90]\n",
      " [-440 -420 -400 -380 -360 -340 -320 -300 -280 -260 -240 -220 -200 -180\n",
      "  -160 -140 -120 -100  -80  -60]\n",
      " [-410 -390 -370 -350 -330 -310 -290 -270 -250 -230 -210 -190 -170 -150\n",
      "  -130 -110  -90  -70  -50  -30]\n",
      " [-380 -360 -340 -320 -300 -280 -260 -240 -220 -200 -180 -160 -140 -120\n",
      "  -100  -80  -60  -40  -20    0]\n",
      " [-350 -330 -310 -290 -270 -250 -230 -210 -190 -170 -150 -130 -110  -90\n",
      "   -70  -50  -30  -10   10   30]\n",
      " [-320 -300 -280 -260 -240 -220 -200 -180 -160 -140 -120 -100  -80  -60\n",
      "   -40  -20    0   20   40   60]\n",
      " [-290 -270 -250 -230 -210 -190 -170 -150 -130 -110  -90  -70  -50  -30\n",
      "   -10   10   30   50   70   90]\n",
      " [-260 -240 -220 -200 -180 -160 -140 -120 -100  -80  -60  -40  -20    0\n",
      "    20   40   60   80  100  120]\n",
      " [-230 -210 -190 -170 -150 -130 -110  -90  -70  -50  -30  -10   10   30\n",
      "    50   70   90  110  130  150]\n",
      " [-200 -180 -160 -140 -120 -100  -80  -60  -40  -20    0   20   40   60\n",
      "    80  100  120  140  160  180]\n",
      " [-170 -150 -130 -110  -90  -70  -50  -30  -10   10   30   50   70   90\n",
      "   110  130  150  170  190  210]\n",
      " [-140 -120 -100  -80  -60  -40  -20    0   20   40   60   80  100  120\n",
      "   140  160  180  200  220  240]\n",
      " [-110  -90  -70  -50  -30  -10   10   30   50   70   90  110  130  150\n",
      "   170  190  210  230  250  270]\n",
      " [ -80  -60  -40  -20    0   20   40   60   80  100  120  140  160  180\n",
      "   200  220  240  260  280  300]\n",
      " [ -50  -30  -10   10   30   50   70   90  110  130  150  170  190  210\n",
      "   230  250  270  290  310  330]\n",
      " [ -20    0   20   40   60   80  100  120  140  160  180  200  220  240\n",
      "   260  280  300  320  340  360]\n",
      " [  10   30   50   70   90  110  130  150  170  190  210  230  250  270\n",
      "   290  310  330  350  370  390]\n",
      " [  40   60   80  100  120  140  160  180  200  220  240  260  280  300\n",
      "   320  340  360  380  400  420]\n",
      " [  70   90  110  130  150  170  190  210  230  250  270  290  310  330\n",
      "   350  370  390  410  430  450]]\n"
     ]
    },
    {
     "data": {
      "image/png": "[encoded data removed]",
      "text/plain": [
       "<Figure size 432x288 with 2 Axes>"
      ]
     },
     "metadata": {
      "needs_background": "light"
     },
     "output_type": "display_data"
    }
   ],
   "source": [
    "axes_values = np.arange(-100, 100, 10)\n",
    "\n",
    "dx, dy = np.meshgrid(axes_values, axes_values)\n",
    "\n",
    "# print('dx:', dx)\n",
    "# print('dy:', dy)\n",
    "\n",
    "function = 2*dx + 3*dy\n",
    "print(function)\n",
    "\n",
    "plt.imshow(function)\n",
    "plt.title('function of plot 2*dx + 3*dy')\n",
    "plt.colorbar()\n",
    "plt.savefig('myfig.png')"
   ]
  },
  {
   "cell_type": "code",
   "execution_count": 95,
   "metadata": {},
   "outputs": [
    {
     "data": {
      "image/png": "[encoded data removed]",
      "text/plain": [
       "<Figure size 432x288 with 2 Axes>"
      ]
     },
     "metadata": {
      "needs_background": "light"
     },
     "output_type": "display_data"
    }
   ],
   "source": [
    "function2 = np.cos(dx) + np.cos(dy)\n",
    "plt.imshow(function2)\n",
    "plt.title('function cos plot')\n",
    "plt.colorbar()\n",
    "plt.savefig('myfig2.png')"
   ]
  },
  {
   "cell_type": "markdown",
   "metadata": {},
   "source": [
    "## Conditional and Boolean Operations"
   ]
  },
  {
   "cell_type": "code",
   "execution_count": 96,
   "metadata": {},
   "outputs": [
    {
     "name": "stdout",
     "output_type": "stream",
     "text": [
      "[100, 400, 20, 25]\n"
     ]
    }
   ],
   "source": [
    "x = np.array([100, 400, 500, 600]) # each member - a\n",
    "y = np.array([10, 15, 20, 25]) # each member - b\n",
    "condition = np.array([True, True, False, False]) # each member - cond \n",
    "\n",
    "\n",
    "z = [a if cond else b for a, b, cond in zip(x, y, condition)]\n",
    "print(z)"
   ]
  },
  {
   "cell_type": "code",
   "execution_count": 97,
   "metadata": {},
   "outputs": [
    {
     "name": "stdout",
     "output_type": "stream",
     "text": [
      "[100 400  20  25]\n"
     ]
    }
   ],
   "source": [
    "# Simple way\n",
    "z2 = np.where(condition, x, y)\n",
    "print(z2)"
   ]
  },
  {
   "cell_type": "code",
   "execution_count": 99,
   "metadata": {},
   "outputs": [
    {
     "name": "stdout",
     "output_type": "stream",
     "text": [
      "[0 0 0 0]\n"
     ]
    }
   ],
   "source": [
    "z3 = np.where(x>0, 0, 1) # replace x with 0 if greater than 0, ortherwise replace with 1\n",
    "print(z3)"
   ]
  },
  {
   "cell_type": "code",
   "execution_count": 107,
   "metadata": {},
   "outputs": [
    {
     "name": "stdout",
     "output_type": "stream",
     "text": [
      "1600\n",
      "[4 6]\n",
      "400.0\n",
      "187.08286933869707\n",
      "35000.0\n"
     ]
    }
   ],
   "source": [
    "# Standard functions with Numpy\n",
    "\n",
    "print(x.sum()) # sum of all elements\n",
    "\n",
    "n = np.array([[1,2],[3,4]])\n",
    "\n",
    "print(n.sum(0)) # column sum\n",
    "\n",
    "print(x.mean())\n",
    "\n",
    "print(x.std())\n",
    "\n",
    "print(x.var())\n"
   ]
  },
  {
   "cell_type": "code",
   "execution_count": 111,
   "metadata": {},
   "outputs": [
    {
     "name": "stdout",
     "output_type": "stream",
     "text": [
      "True\n",
      "False\n"
     ]
    }
   ],
   "source": [
    "# Logical Operations - AND - OR\n",
    "\n",
    "condition2 = np.array([True, False, True])\n",
    "\n",
    "print(condition2.any()) # OR operator\n",
    "\n",
    "print(condition2.all()) # AND operator"
   ]
  },
  {
   "cell_type": "code",
   "execution_count": 115,
   "metadata": {},
   "outputs": [
    {
     "name": "stdout",
     "output_type": "stream",
     "text": [
      "[ 1  2  3  7  8 10]\n"
     ]
    }
   ],
   "source": [
    "# Sorting numpy arrays\n",
    "\n",
    "unsorted_array = np.array([1,2,8,10,7,3])\n",
    "unsorted_array.sort()\n",
    "print(unsorted_array)"
   ]
  },
  {
   "cell_type": "code",
   "execution_count": 116,
   "metadata": {},
   "outputs": [
    {
     "name": "stdout",
     "output_type": "stream",
     "text": [
      "['gaz' 'liquid' 'solid']\n"
     ]
    }
   ],
   "source": [
    "arr2 = np.array(['solid', 'solid', 'solid', 'liquid', 'liquid', 'gaz', 'gaz'])\n",
    "\n",
    "print(np.unique(arr2))"
   ]
  },
  {
   "cell_type": "code",
   "execution_count": 117,
   "metadata": {},
   "outputs": [
    {
     "data": {
      "text/plain": [
       "array([ True,  True, False])"
      ]
     },
     "execution_count": 117,
     "metadata": {},
     "output_type": "execute_result"
    }
   ],
   "source": [
    "np.in1d(['solid', 'gaz', 'plasma'], arr2)"
   ]
  },
  {
   "cell_type": "code",
   "execution_count": null,
   "metadata": {},
   "outputs": [],
   "source": []
  }
 ],
 "metadata": {
  "kernelspec": {
   "display_name": "Python 3",
   "language": "python",
   "name": "python3"
  },
  "language_info": {
   "codemirror_mode": {
    "name": "ipython",
    "version": 3
   },
   "file_extension": ".py",
   "mimetype": "text/x-python",
   "name": "python",
   "nbconvert_exporter": "python",
   "pygments_lexer": "ipython3",
   "version": "3.7.4"
  }
 },
 "nbformat": 4,
 "nbformat_minor": 2
}
