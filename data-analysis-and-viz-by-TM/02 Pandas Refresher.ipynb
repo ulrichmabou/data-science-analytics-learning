{
 "cells": [
  {
   "cell_type": "code",
   "execution_count": 216,
   "metadata": {},
   "outputs": [],
   "source": [
    "import pandas as pd\n",
    "from pandas import Series, DataFrame\n",
    "\n",
    "import numpy as np\n",
    "from numpy.random import randn\n",
    "\n",
    "import matplotlib.pyplot as plt"
   ]
  },
  {
   "cell_type": "markdown",
   "metadata": {},
   "source": [
    "## Pandas Series"
   ]
  },
  {
   "cell_type": "code",
   "execution_count": 3,
   "metadata": {},
   "outputs": [
    {
     "name": "stdout",
     "output_type": "stream",
     "text": [
      "0     5\n",
      "1    10\n",
      "2    15\n",
      "3    20\n",
      "dtype: int64\n"
     ]
    }
   ],
   "source": [
    "object = Series([5,10,15,20])\n",
    "print(object)"
   ]
  },
  {
   "cell_type": "code",
   "execution_count": 4,
   "metadata": {},
   "outputs": [
    {
     "name": "stdout",
     "output_type": "stream",
     "text": [
      "[ 5 10 15 20]\n"
     ]
    }
   ],
   "source": [
    "print(object.values)"
   ]
  },
  {
   "cell_type": "code",
   "execution_count": 6,
   "metadata": {},
   "outputs": [
    {
     "name": "stdout",
     "output_type": "stream",
     "text": [
      "RangeIndex(start=0, stop=4, step=1)\n"
     ]
    }
   ],
   "source": [
    "print(object.index)"
   ]
  },
  {
   "cell_type": "code",
   "execution_count": 8,
   "metadata": {},
   "outputs": [
    {
     "name": "stdout",
     "output_type": "stream",
     "text": [
      "0    a\n",
      "1    b\n",
      "2    c\n",
      "dtype: object\n"
     ]
    }
   ],
   "source": [
    "# Create a series from a numpy array\n",
    "\n",
    "data_array = np.array(['a', 'b', 'c'])\n",
    "s = Series (data_array)\n",
    "print(s)"
   ]
  },
  {
   "cell_type": "code",
   "execution_count": 9,
   "metadata": {},
   "outputs": [
    {
     "name": "stdout",
     "output_type": "stream",
     "text": [
      "100    a\n",
      "101    b\n",
      "102    c\n",
      "dtype: object\n"
     ]
    }
   ],
   "source": [
    "# Custom index\n",
    "\n",
    "s = Series(data_array, index=[100, 101, 102])\n",
    "print(s)"
   ]
  },
  {
   "cell_type": "code",
   "execution_count": 10,
   "metadata": {},
   "outputs": [
    {
     "name": "stdout",
     "output_type": "stream",
     "text": [
      "index1    a\n",
      "index2    b\n",
      "index3    c\n",
      "dtype: object\n"
     ]
    }
   ],
   "source": [
    "s = Series(data_array, index=['index1', 'index2', 'index3'])\n",
    "print(s)"
   ]
  },
  {
   "cell_type": "code",
   "execution_count": 12,
   "metadata": {},
   "outputs": [
    {
     "name": "stdout",
     "output_type": "stream",
     "text": [
      "ola      20\n",
      "uber     80\n",
      "grab     40\n",
      "gojek    35\n",
      "dtype: int64\n"
     ]
    }
   ],
   "source": [
    "# Example\n",
    "\n",
    "revenues = Series([20, 80, 40, 35], index=['ola', 'uber', 'grab', 'gojek'])\n",
    "print(revenues)"
   ]
  },
  {
   "cell_type": "code",
   "execution_count": 20,
   "metadata": {},
   "outputs": [
    {
     "name": "stdout",
     "output_type": "stream",
     "text": [
      "The revenue of Ola is: 20\n",
      "The revenues equal to - or above - 35 millions are: \n",
      " uber     80\n",
      "grab     40\n",
      "gojek    35\n",
      "dtype: int64\n"
     ]
    }
   ],
   "source": [
    "# Indexing\n",
    "\n",
    "print('The revenue of Ola is:', revenues['ola'])\n",
    "\n",
    "# Conditional indexing\n",
    "print('The revenues equal to - or above - 35 millions are: \\n', revenues[revenues >= 35])"
   ]
  },
  {
   "cell_type": "code",
   "execution_count": 22,
   "metadata": {},
   "outputs": [
    {
     "name": "stdout",
     "output_type": "stream",
     "text": [
      "True\n",
      "False\n"
     ]
    }
   ],
   "source": [
    "# Boolean conditions\n",
    "\n",
    "print('ola' in revenues)\n",
    "\n",
    "print('lyft' in revenues)"
   ]
  },
  {
   "cell_type": "code",
   "execution_count": 23,
   "metadata": {},
   "outputs": [
    {
     "name": "stdout",
     "output_type": "stream",
     "text": [
      "{'ola': 20, 'uber': 80, 'grab': 40, 'gojek': 35}\n"
     ]
    }
   ],
   "source": [
    "# Convert a Pandas series to a Python dictionary\n",
    "revenues_dict = revenues.to_dict()\n",
    "print(revenues_dict)"
   ]
  },
  {
   "cell_type": "code",
   "execution_count": 25,
   "metadata": {},
   "outputs": [
    {
     "name": "stdout",
     "output_type": "stream",
     "text": [
      "ola      20.0\n",
      "uber     80.0\n",
      "grab     40.0\n",
      "gojek    35.0\n",
      "lyft      NaN\n",
      "dtype: float64\n"
     ]
    }
   ],
   "source": [
    "# NaN values - missing values\n",
    "\n",
    "index_2 = ['ola', 'uber', 'grab', 'gojek', 'lyft']\n",
    "revenues_2 = Series(revenues, index_2)\n",
    "print(revenues_2)"
   ]
  },
  {
   "cell_type": "code",
   "execution_count": 30,
   "metadata": {},
   "outputs": [
    {
     "name": "stdout",
     "output_type": "stream",
     "text": [
      "ola      False\n",
      "uber     False\n",
      "grab     False\n",
      "gojek    False\n",
      "lyft      True\n",
      "dtype: bool\n",
      "ola       True\n",
      "uber      True\n",
      "grab      True\n",
      "gojek     True\n",
      "lyft     False\n",
      "dtype: bool\n",
      "ola       True\n",
      "uber      True\n",
      "grab      True\n",
      "gojek     True\n",
      "lyft     False\n",
      "dtype: bool\n",
      "ola      False\n",
      "uber     False\n",
      "grab     False\n",
      "gojek    False\n",
      "lyft      True\n",
      "dtype: bool\n"
     ]
    }
   ],
   "source": [
    "# isnull, notnull, isna, notna\n",
    "\n",
    "print(pd.isnull(revenues_2))\n",
    "\n",
    "print(pd.notnull(revenues_2))\n",
    "\n",
    "print(pd.notna(revenues_2))\n",
    "\n",
    "print(pd.isna(revenues_2))"
   ]
  },
  {
   "cell_type": "code",
   "execution_count": 31,
   "metadata": {},
   "outputs": [
    {
     "name": "stdout",
     "output_type": "stream",
     "text": [
      "gojek     70.0\n",
      "grab      80.0\n",
      "lyft       NaN\n",
      "ola       40.0\n",
      "uber     160.0\n",
      "dtype: float64\n"
     ]
    }
   ],
   "source": [
    "# Addition of series\n",
    "\n",
    "print(revenues + revenues_2)"
   ]
  },
  {
   "cell_type": "markdown",
   "metadata": {},
   "source": [
    "## Pandas DataFrames"
   ]
  },
  {
   "cell_type": "code",
   "execution_count": 49,
   "metadata": {},
   "outputs": [
    {
     "name": "stdout",
     "output_type": "stream",
     "text": [
      "   Rank                   Company         Country     Revenues ($ Mil.)  \\\n",
      "0     1                   Walmart            U.S.               514,405   \n",
      "1     2             Sinopec Group           China               414,649   \n",
      "2     3         Royal Dutch Shell     Netherlands               396,556   \n",
      "3     4  China National Petroleum           China               392,976   \n",
      "4     5                State Grid           China               387,056   \n",
      "5     6              Saudi Aramco    Saudi Arabia               355,905   \n",
      "6     7                        BP  United Kingdom               303,738   \n",
      "7     8               Exxon Mobil            U.S.               290,212   \n",
      "8     9                Volkswagen         Germany               278,342   \n",
      "9    10              Toyota Motor           Japan               272,162   \n",
      "\n",
      "   Revenues % Change           Profits ($ Mil.)  Profits % Change  \n",
      "0                2.8                      6,670             -32.4  \n",
      "1               26.8                      5,845             280.1  \n",
      "2               27.2                     23,352              79.9  \n",
      "3               20.5                      2,271               NaN  \n",
      "4               10.9                      8,175             -14.3  \n",
      "5               35.3                    110,975              46.9  \n",
      "6               24.2                      9,383             176.9  \n",
      "7               18.8                     20,840               5.7  \n",
      "8                7.0                     14,323               9.3  \n",
      "9                2.8                     16,982             -24.6  \n"
     ]
    }
   ],
   "source": [
    "# Example - revenues of large companies\n",
    "\n",
    "revenues_df = pd.read_clipboard()\n",
    "print(revenues_df)"
   ]
  },
  {
   "cell_type": "code",
   "execution_count": 53,
   "metadata": {},
   "outputs": [
    {
     "name": "stdout",
     "output_type": "stream",
     "text": [
      "Index(['Rank', 'Company', 'Country', '    Revenues ($ Mil.)',\n",
      "       'Revenues % Change', '          Profits ($ Mil.)', 'Profits % Change'],\n",
      "      dtype='object')\n",
      "0     1\n",
      "1     2\n",
      "2     3\n",
      "3     4\n",
      "4     5\n",
      "5     6\n",
      "6     7\n",
      "7     8\n",
      "8     9\n",
      "9    10\n",
      "Name: Rank, dtype: int64\n"
     ]
    },
    {
     "data": {
      "text/html": [
       "<div>\n",
       "<style scoped>\n",
       "    .dataframe tbody tr th:only-of-type {\n",
       "        vertical-align: middle;\n",
       "    }\n",
       "\n",
       "    .dataframe tbody tr th {\n",
       "        vertical-align: top;\n",
       "    }\n",
       "\n",
       "    .dataframe thead th {\n",
       "        text-align: right;\n",
       "    }\n",
       "</style>\n",
       "<table border=\"1\" class=\"dataframe\">\n",
       "  <thead>\n",
       "    <tr style=\"text-align: right;\">\n",
       "      <th></th>\n",
       "      <th>Rank</th>\n",
       "      <th>Company</th>\n",
       "      <th>Country</th>\n",
       "    </tr>\n",
       "  </thead>\n",
       "  <tbody>\n",
       "    <tr>\n",
       "      <td>0</td>\n",
       "      <td>1</td>\n",
       "      <td>Walmart</td>\n",
       "      <td>U.S.</td>\n",
       "    </tr>\n",
       "    <tr>\n",
       "      <td>1</td>\n",
       "      <td>2</td>\n",
       "      <td>Sinopec Group</td>\n",
       "      <td>China</td>\n",
       "    </tr>\n",
       "    <tr>\n",
       "      <td>2</td>\n",
       "      <td>3</td>\n",
       "      <td>Royal Dutch Shell</td>\n",
       "      <td>Netherlands</td>\n",
       "    </tr>\n",
       "    <tr>\n",
       "      <td>3</td>\n",
       "      <td>4</td>\n",
       "      <td>China National Petroleum</td>\n",
       "      <td>China</td>\n",
       "    </tr>\n",
       "    <tr>\n",
       "      <td>4</td>\n",
       "      <td>5</td>\n",
       "      <td>State Grid</td>\n",
       "      <td>China</td>\n",
       "    </tr>\n",
       "    <tr>\n",
       "      <td>5</td>\n",
       "      <td>6</td>\n",
       "      <td>Saudi Aramco</td>\n",
       "      <td>Saudi Arabia</td>\n",
       "    </tr>\n",
       "    <tr>\n",
       "      <td>6</td>\n",
       "      <td>7</td>\n",
       "      <td>BP</td>\n",
       "      <td>United Kingdom</td>\n",
       "    </tr>\n",
       "    <tr>\n",
       "      <td>7</td>\n",
       "      <td>8</td>\n",
       "      <td>Exxon Mobil</td>\n",
       "      <td>U.S.</td>\n",
       "    </tr>\n",
       "    <tr>\n",
       "      <td>8</td>\n",
       "      <td>9</td>\n",
       "      <td>Volkswagen</td>\n",
       "      <td>Germany</td>\n",
       "    </tr>\n",
       "    <tr>\n",
       "      <td>9</td>\n",
       "      <td>10</td>\n",
       "      <td>Toyota Motor</td>\n",
       "      <td>Japan</td>\n",
       "    </tr>\n",
       "  </tbody>\n",
       "</table>\n",
       "</div>"
      ],
      "text/plain": [
       "   Rank                   Company         Country\n",
       "0     1                   Walmart            U.S.\n",
       "1     2             Sinopec Group           China\n",
       "2     3         Royal Dutch Shell     Netherlands\n",
       "3     4  China National Petroleum           China\n",
       "4     5                State Grid           China\n",
       "5     6              Saudi Aramco    Saudi Arabia\n",
       "6     7                        BP  United Kingdom\n",
       "7     8               Exxon Mobil            U.S.\n",
       "8     9                Volkswagen         Germany\n",
       "9    10              Toyota Motor           Japan"
      ]
     },
     "execution_count": 53,
     "metadata": {},
     "output_type": "execute_result"
    }
   ],
   "source": [
    "# Index and columns\n",
    "\n",
    "print(revenues_df.columns)\n",
    "\n",
    "print(revenues_df['Rank'])\n",
    "\n",
    "# Multiple columns\n",
    "DataFrame(revenues_df, columns=['Rank', 'Company', 'Country'])"
   ]
  },
  {
   "cell_type": "code",
   "execution_count": 58,
   "metadata": {},
   "outputs": [
    {
     "name": "stdout",
     "output_type": "stream",
     "text": [
      "   Rank                   Company         Country  Profits\n",
      "0     1                   Walmart            U.S.      NaN\n",
      "1     2             Sinopec Group           China      NaN\n",
      "2     3         Royal Dutch Shell     Netherlands      NaN\n",
      "3     4  China National Petroleum           China      NaN\n",
      "4     5                State Grid           China      NaN\n",
      "5     6              Saudi Aramco    Saudi Arabia      NaN\n",
      "6     7                        BP  United Kingdom      NaN\n",
      "7     8               Exxon Mobil            U.S.      NaN\n",
      "8     9                Volkswagen         Germany      NaN\n",
      "9    10              Toyota Motor           Japan      NaN\n"
     ]
    }
   ],
   "source": [
    "# NaN values\n",
    "\n",
    "revenues_df2 = DataFrame(revenues_df, columns=['Rank','Company','Country','Profits'])\n",
    "print(revenues_df2)"
   ]
  },
  {
   "cell_type": "code",
   "execution_count": 61,
   "metadata": {},
   "outputs": [
    {
     "data": {
      "text/html": [
       "<div>\n",
       "<style scoped>\n",
       "    .dataframe tbody tr th:only-of-type {\n",
       "        vertical-align: middle;\n",
       "    }\n",
       "\n",
       "    .dataframe tbody tr th {\n",
       "        vertical-align: top;\n",
       "    }\n",
       "\n",
       "    .dataframe thead th {\n",
       "        text-align: right;\n",
       "    }\n",
       "</style>\n",
       "<table border=\"1\" class=\"dataframe\">\n",
       "  <thead>\n",
       "    <tr style=\"text-align: right;\">\n",
       "      <th></th>\n",
       "      <th>Rank</th>\n",
       "      <th>Company</th>\n",
       "      <th>Country</th>\n",
       "      <th>Revenues ($ Mil.)</th>\n",
       "      <th>Revenues % Change</th>\n",
       "      <th>Profits ($ Mil.)</th>\n",
       "      <th>Profits % Change</th>\n",
       "    </tr>\n",
       "  </thead>\n",
       "  <tbody>\n",
       "    <tr>\n",
       "      <td>0</td>\n",
       "      <td>1</td>\n",
       "      <td>Walmart</td>\n",
       "      <td>U.S.</td>\n",
       "      <td>514,405</td>\n",
       "      <td>2.8</td>\n",
       "      <td>6,670</td>\n",
       "      <td>-32.4</td>\n",
       "    </tr>\n",
       "    <tr>\n",
       "      <td>1</td>\n",
       "      <td>2</td>\n",
       "      <td>Sinopec Group</td>\n",
       "      <td>China</td>\n",
       "      <td>414,649</td>\n",
       "      <td>26.8</td>\n",
       "      <td>5,845</td>\n",
       "      <td>280.1</td>\n",
       "    </tr>\n",
       "    <tr>\n",
       "      <td>2</td>\n",
       "      <td>3</td>\n",
       "      <td>Royal Dutch Shell</td>\n",
       "      <td>Netherlands</td>\n",
       "      <td>396,556</td>\n",
       "      <td>27.2</td>\n",
       "      <td>23,352</td>\n",
       "      <td>79.9</td>\n",
       "    </tr>\n",
       "    <tr>\n",
       "      <td>3</td>\n",
       "      <td>4</td>\n",
       "      <td>China National Petroleum</td>\n",
       "      <td>China</td>\n",
       "      <td>392,976</td>\n",
       "      <td>20.5</td>\n",
       "      <td>2,271</td>\n",
       "      <td>NaN</td>\n",
       "    </tr>\n",
       "    <tr>\n",
       "      <td>4</td>\n",
       "      <td>5</td>\n",
       "      <td>State Grid</td>\n",
       "      <td>China</td>\n",
       "      <td>387,056</td>\n",
       "      <td>10.9</td>\n",
       "      <td>8,175</td>\n",
       "      <td>-14.3</td>\n",
       "    </tr>\n",
       "  </tbody>\n",
       "</table>\n",
       "</div>"
      ],
      "text/plain": [
       "   Rank                   Company      Country     Revenues ($ Mil.)  \\\n",
       "0     1                   Walmart         U.S.               514,405   \n",
       "1     2             Sinopec Group        China               414,649   \n",
       "2     3         Royal Dutch Shell  Netherlands               396,556   \n",
       "3     4  China National Petroleum        China               392,976   \n",
       "4     5                State Grid        China               387,056   \n",
       "\n",
       "   Revenues % Change           Profits ($ Mil.)  Profits % Change  \n",
       "0                2.8                      6,670             -32.4  \n",
       "1               26.8                      5,845             280.1  \n",
       "2               27.2                     23,352              79.9  \n",
       "3               20.5                      2,271               NaN  \n",
       "4               10.9                      8,175             -14.3  "
      ]
     },
     "execution_count": 61,
     "metadata": {},
     "output_type": "execute_result"
    }
   ],
   "source": [
    "# head and tail\n",
    "\n",
    "revenues_df.head()"
   ]
  },
  {
   "cell_type": "code",
   "execution_count": 63,
   "metadata": {},
   "outputs": [
    {
     "data": {
      "text/html": [
       "<div>\n",
       "<style scoped>\n",
       "    .dataframe tbody tr th:only-of-type {\n",
       "        vertical-align: middle;\n",
       "    }\n",
       "\n",
       "    .dataframe tbody tr th {\n",
       "        vertical-align: top;\n",
       "    }\n",
       "\n",
       "    .dataframe thead th {\n",
       "        text-align: right;\n",
       "    }\n",
       "</style>\n",
       "<table border=\"1\" class=\"dataframe\">\n",
       "  <thead>\n",
       "    <tr style=\"text-align: right;\">\n",
       "      <th></th>\n",
       "      <th>Rank</th>\n",
       "      <th>Company</th>\n",
       "      <th>Country</th>\n",
       "      <th>Revenues ($ Mil.)</th>\n",
       "      <th>Revenues % Change</th>\n",
       "      <th>Profits ($ Mil.)</th>\n",
       "      <th>Profits % Change</th>\n",
       "    </tr>\n",
       "  </thead>\n",
       "  <tbody>\n",
       "    <tr>\n",
       "      <td>8</td>\n",
       "      <td>9</td>\n",
       "      <td>Volkswagen</td>\n",
       "      <td>Germany</td>\n",
       "      <td>278,342</td>\n",
       "      <td>7.0</td>\n",
       "      <td>14,323</td>\n",
       "      <td>9.3</td>\n",
       "    </tr>\n",
       "    <tr>\n",
       "      <td>9</td>\n",
       "      <td>10</td>\n",
       "      <td>Toyota Motor</td>\n",
       "      <td>Japan</td>\n",
       "      <td>272,162</td>\n",
       "      <td>2.8</td>\n",
       "      <td>16,982</td>\n",
       "      <td>-24.6</td>\n",
       "    </tr>\n",
       "  </tbody>\n",
       "</table>\n",
       "</div>"
      ],
      "text/plain": [
       "   Rank       Company  Country     Revenues ($ Mil.)  Revenues % Change  \\\n",
       "8     9    Volkswagen  Germany               278,342                7.0   \n",
       "9    10  Toyota Motor    Japan               272,162                2.8   \n",
       "\n",
       "            Profits ($ Mil.)  Profits % Change  \n",
       "8                     14,323               9.3  \n",
       "9                     16,982             -24.6  "
      ]
     },
     "execution_count": 63,
     "metadata": {},
     "output_type": "execute_result"
    }
   ],
   "source": [
    "revenues_df.tail(2)"
   ]
  },
  {
   "cell_type": "code",
   "execution_count": 67,
   "metadata": {},
   "outputs": [
    {
     "name": "stdout",
     "output_type": "stream",
     "text": [
      "Rank                                1\n",
      "Company                       Walmart\n",
      "Country                          U.S.\n",
      "    Revenues ($ Mil.)         514,405\n",
      "Revenues % Change                 2.8\n",
      "          Profits ($ Mil.)      6,670\n",
      "Profits % Change                -32.4\n",
      "Name: 0, dtype: object\n"
     ]
    }
   ],
   "source": [
    "# Access rows in dataframes\n",
    "\n",
    "print(revenues_df.iloc[0]) # row 1\n"
   ]
  },
  {
   "cell_type": "code",
   "execution_count": 98,
   "metadata": {},
   "outputs": [
    {
     "name": "stdout",
     "output_type": "stream",
     "text": [
      "   Rank                   Company         Country  Profits  profits\n",
      "0     1                   Walmart            U.S.        1      NaN\n",
      "1     2             Sinopec Group           China        2      NaN\n",
      "2     3         Royal Dutch Shell     Netherlands        3      NaN\n",
      "3     4  China National Petroleum           China        4    900.0\n",
      "4     5                State Grid           China        5      NaN\n",
      "5     6              Saudi Aramco    Saudi Arabia        6   1000.0\n",
      "6     7                        BP  United Kingdom        7      NaN\n",
      "7     8               Exxon Mobil            U.S.        8      NaN\n",
      "8     9                Volkswagen         Germany        9      NaN\n",
      "9    10              Toyota Motor           Japan       10      NaN\n"
     ]
    }
   ],
   "source": [
    "# Assign values to dataframes\n",
    "\n",
    "# with a numpy array\n",
    "array1 = np.arange(1, 11)\n",
    "# print(array1)\n",
    "\n",
    "revenues_df2['Profits'] = array1\n",
    "print(revenues_df2)"
   ]
  },
  {
   "cell_type": "code",
   "execution_count": 99,
   "metadata": {},
   "outputs": [
    {
     "name": "stdout",
     "output_type": "stream",
     "text": [
      "   Rank                   Company         Country  Profits  profits\n",
      "0     1                   Walmart            U.S.      NaN      NaN\n",
      "1     2             Sinopec Group           China      NaN      NaN\n",
      "2     3         Royal Dutch Shell     Netherlands      NaN      NaN\n",
      "3     4  China National Petroleum           China    900.0    900.0\n",
      "4     5                State Grid           China      NaN      NaN\n",
      "5     6              Saudi Aramco    Saudi Arabia   1000.0   1000.0\n",
      "6     7                        BP  United Kingdom      NaN      NaN\n",
      "7     8               Exxon Mobil            U.S.      NaN      NaN\n",
      "8     9                Volkswagen         Germany      NaN      NaN\n",
      "9    10              Toyota Motor           Japan      NaN      NaN\n"
     ]
    }
   ],
   "source": [
    "# with a seris\n",
    "profits = Series([900, 1000], index=[3,5])\n",
    "# print(profits)\n",
    "\n",
    "revenues_df2['Profits'] = profits\n",
    "print(revenues_df2)"
   ]
  },
  {
   "cell_type": "code",
   "execution_count": 100,
   "metadata": {},
   "outputs": [
    {
     "data": {
      "text/html": [
       "<div>\n",
       "<style scoped>\n",
       "    .dataframe tbody tr th:only-of-type {\n",
       "        vertical-align: middle;\n",
       "    }\n",
       "\n",
       "    .dataframe tbody tr th {\n",
       "        vertical-align: top;\n",
       "    }\n",
       "\n",
       "    .dataframe thead th {\n",
       "        text-align: right;\n",
       "    }\n",
       "</style>\n",
       "<table border=\"1\" class=\"dataframe\">\n",
       "  <thead>\n",
       "    <tr style=\"text-align: right;\">\n",
       "      <th></th>\n",
       "      <th>Rank</th>\n",
       "      <th>Company</th>\n",
       "      <th>Country</th>\n",
       "    </tr>\n",
       "  </thead>\n",
       "  <tbody>\n",
       "    <tr>\n",
       "      <td>0</td>\n",
       "      <td>1</td>\n",
       "      <td>Walmart</td>\n",
       "      <td>U.S.</td>\n",
       "    </tr>\n",
       "    <tr>\n",
       "      <td>1</td>\n",
       "      <td>2</td>\n",
       "      <td>Sinopec Group</td>\n",
       "      <td>China</td>\n",
       "    </tr>\n",
       "    <tr>\n",
       "      <td>2</td>\n",
       "      <td>3</td>\n",
       "      <td>Royal Dutch Shell</td>\n",
       "      <td>Netherlands</td>\n",
       "    </tr>\n",
       "    <tr>\n",
       "      <td>3</td>\n",
       "      <td>4</td>\n",
       "      <td>China National Petroleum</td>\n",
       "      <td>China</td>\n",
       "    </tr>\n",
       "    <tr>\n",
       "      <td>4</td>\n",
       "      <td>5</td>\n",
       "      <td>State Grid</td>\n",
       "      <td>China</td>\n",
       "    </tr>\n",
       "    <tr>\n",
       "      <td>5</td>\n",
       "      <td>6</td>\n",
       "      <td>Saudi Aramco</td>\n",
       "      <td>Saudi Arabia</td>\n",
       "    </tr>\n",
       "    <tr>\n",
       "      <td>6</td>\n",
       "      <td>7</td>\n",
       "      <td>BP</td>\n",
       "      <td>United Kingdom</td>\n",
       "    </tr>\n",
       "    <tr>\n",
       "      <td>7</td>\n",
       "      <td>8</td>\n",
       "      <td>Exxon Mobil</td>\n",
       "      <td>U.S.</td>\n",
       "    </tr>\n",
       "    <tr>\n",
       "      <td>8</td>\n",
       "      <td>9</td>\n",
       "      <td>Volkswagen</td>\n",
       "      <td>Germany</td>\n",
       "    </tr>\n",
       "    <tr>\n",
       "      <td>9</td>\n",
       "      <td>10</td>\n",
       "      <td>Toyota Motor</td>\n",
       "      <td>Japan</td>\n",
       "    </tr>\n",
       "  </tbody>\n",
       "</table>\n",
       "</div>"
      ],
      "text/plain": [
       "   Rank                   Company         Country\n",
       "0     1                   Walmart            U.S.\n",
       "1     2             Sinopec Group           China\n",
       "2     3         Royal Dutch Shell     Netherlands\n",
       "3     4  China National Petroleum           China\n",
       "4     5                State Grid           China\n",
       "5     6              Saudi Aramco    Saudi Arabia\n",
       "6     7                        BP  United Kingdom\n",
       "7     8               Exxon Mobil            U.S.\n",
       "8     9                Volkswagen         Germany\n",
       "9    10              Toyota Motor           Japan"
      ]
     },
     "execution_count": 100,
     "metadata": {},
     "output_type": "execute_result"
    }
   ],
   "source": [
    "# Deleting\n",
    "\n",
    "revenues_df2.drop(['profits', 'Profits'], axis=1)\n",
    "# print(revenues_df2)"
   ]
  },
  {
   "cell_type": "code",
   "execution_count": 102,
   "metadata": {},
   "outputs": [
    {
     "name": "stdout",
     "output_type": "stream",
     "text": [
      "{'Company': ['A', 'B'], 'Profit': [1000, 5000]}\n",
      "  Company  Profit\n",
      "0       A    1000\n",
      "1       B    5000\n"
     ]
    }
   ],
   "source": [
    "# Creating a dataframe from a dictionary\n",
    "\n",
    "sample = {'Company':['A','B'], 'Profit':[1000, 5000]}\n",
    "print(sample)\n",
    "\n",
    "sample_df = DataFrame(sample)\n",
    "print(sample_df)"
   ]
  },
  {
   "cell_type": "markdown",
   "metadata": {},
   "source": [
    "## More on Indexing"
   ]
  },
  {
   "cell_type": "code",
   "execution_count": 103,
   "metadata": {},
   "outputs": [
    {
     "name": "stdout",
     "output_type": "stream",
     "text": [
      "a    10\n",
      "b    20\n",
      "c    30\n",
      "d    40\n",
      "dtype: int64\n"
     ]
    }
   ],
   "source": [
    "series1 = Series([10,20,30,40], index=['a','b','c','d'])\n",
    "print(series1)"
   ]
  },
  {
   "cell_type": "code",
   "execution_count": 105,
   "metadata": {},
   "outputs": [
    {
     "name": "stdout",
     "output_type": "stream",
     "text": [
      "Index(['a', 'b', 'c', 'd'], dtype='object')\n"
     ]
    }
   ],
   "source": [
    "index1 = series1.index\n",
    "print(index1)"
   ]
  },
  {
   "cell_type": "code",
   "execution_count": 115,
   "metadata": {},
   "outputs": [
    {
     "name": "stdout",
     "output_type": "stream",
     "text": [
      "c\n",
      "Index(['c', 'd'], dtype='object')\n",
      "Index(['c', 'd'], dtype='object')\n",
      "Index(['a', 'b'], dtype='object')\n",
      "Index(['c', 'd'], dtype='object')\n"
     ]
    }
   ],
   "source": [
    "print(index1[2])\n",
    "\n",
    "print(index1[2:])\n",
    "\n",
    "print(index1[-2:])\n",
    "\n",
    "print(index1[:-2])\n",
    "\n",
    "print(index1[2:4])\n"
   ]
  },
  {
   "cell_type": "code",
   "execution_count": 120,
   "metadata": {},
   "outputs": [
    {
     "name": "stdout",
     "output_type": "stream",
     "text": [
      "e    1\n",
      "f    2\n",
      "g    3\n",
      "h    4\n",
      "dtype: int64\n",
      "e    1.0\n",
      "f    2.0\n",
      "g    3.0\n",
      "h    4.0\n",
      "i    NaN\n",
      "j    NaN\n",
      "dtype: float64\n",
      "e     1.0\n",
      "f     2.0\n",
      "g     3.0\n",
      "h     4.0\n",
      "i     NaN\n",
      "j     NaN\n",
      "k    10.0\n",
      "dtype: float64\n"
     ]
    }
   ],
   "source": [
    "# Re-indexing\n",
    "\n",
    "series2 = Series([1,2,3,4], index=['e','f','g','h'])\n",
    "print(series2)\n",
    "\n",
    "\n",
    "series3 = series2.reindex(['e','f','g','h','i','j'])\n",
    "print(series3)\n",
    "\n",
    "series4 = series3.reindex(['e','f','g','h','i','j','k'], fill_value=10)\n",
    "print(series4)"
   ]
  },
  {
   "cell_type": "code",
   "execution_count": 126,
   "metadata": {},
   "outputs": [
    {
     "name": "stdout",
     "output_type": "stream",
     "text": [
      "0        Audi\n",
      "4    Mercedez\n",
      "8         BMW\n",
      "dtype: object\n",
      "range(0, 13)\n",
      "0         Audi\n",
      "1         Audi\n",
      "2         Audi\n",
      "3         Audi\n",
      "4     Mercedez\n",
      "5     Mercedez\n",
      "6     Mercedez\n",
      "7     Mercedez\n",
      "8          BMW\n",
      "9          BMW\n",
      "10         BMW\n",
      "11         BMW\n",
      "12         BMW\n",
      "dtype: object\n"
     ]
    }
   ],
   "source": [
    "cars = Series(['Audi','Mercedez','BMW'], index=[0,4,8])\n",
    "print(cars)\n",
    "\n",
    "ranger = range(13)\n",
    "print(ranger)\n",
    "\n",
    "cars2 = cars.reindex(ranger, method=\"ffill\") #forward_fill\n",
    "print(cars2)\n"
   ]
  },
  {
   "cell_type": "code",
   "execution_count": 136,
   "metadata": {},
   "outputs": [
    {
     "name": "stdout",
     "output_type": "stream",
     "text": [
      "         c1        c2        c3        c4        c5\n",
      "a  1.069357  0.460528  0.229408 -0.541070  1.269801\n",
      "b -0.167951 -0.968569 -0.897686  0.157568 -0.346601\n",
      "c -0.730018  0.380559  0.833746  1.176817  0.418367\n",
      "d  0.762632  1.796924  0.534247 -1.131023 -0.368027\n",
      "e -1.215863 -1.685614 -1.175833 -1.455391  0.276115\n",
      "         c1        c2        c3        c4        c5\n",
      "a  1.069357  0.460528  0.229408 -0.541070  1.269801\n",
      "b -0.167951 -0.968569 -0.897686  0.157568 -0.346601\n",
      "c -0.730018  0.380559  0.833746  1.176817  0.418367\n",
      "d  0.762632  1.796924  0.534247 -1.131023 -0.368027\n",
      "e -1.215863 -1.685614 -1.175833 -1.455391  0.276115\n",
      "f       NaN       NaN       NaN       NaN       NaN\n",
      "         c1        c2        c3        c4        c5  c6\n",
      "a  1.069357  0.460528  0.229408 -0.541070  1.269801 NaN\n",
      "b -0.167951 -0.968569 -0.897686  0.157568 -0.346601 NaN\n",
      "c -0.730018  0.380559  0.833746  1.176817  0.418367 NaN\n",
      "d  0.762632  1.796924  0.534247 -1.131023 -0.368027 NaN\n",
      "e -1.215863 -1.685614 -1.175833 -1.455391  0.276115 NaN\n",
      "f       NaN       NaN       NaN       NaN       NaN NaN\n"
     ]
    }
   ],
   "source": [
    "df_1 = DataFrame(randn(25).reshape(5,5), index=['a','b','c','d','e'], columns=['c1','c2','c3','c4','c5'])\n",
    "print(df_1)\n",
    "\n",
    "df_2 = df_1.reindex(['a','b','c','d','e','f'])\n",
    "print(df_2)\n",
    "\n",
    "# Re-indexing columns\n",
    "df_3 = df_2.reindex(columns=['c1','c2','c3','c4','c5','c6'])\n",
    "print(df_3)\n",
    "\n",
    "# Using ix to reindex\n",
    "# df_4 = df_1.ix[['a','b','c','d','e','f'], ['c1','c2','c3','c4','c5','c6']]\n",
    "# print(df_4)"
   ]
  },
  {
   "cell_type": "markdown",
   "metadata": {},
   "source": [
    "## Dropping Entries"
   ]
  },
  {
   "cell_type": "code",
   "execution_count": 146,
   "metadata": {},
   "outputs": [
    {
     "name": "stdout",
     "output_type": "stream",
     "text": [
      "a         BMW\n",
      "b        Audi\n",
      "c    Mercedez\n",
      "dtype: object\n"
     ]
    }
   ],
   "source": [
    "cars = Series(['BMW','Audi','Mercedez'], index=['a','b','c'])\n",
    "print(cars)"
   ]
  },
  {
   "cell_type": "code",
   "execution_count": 147,
   "metadata": {},
   "outputs": [
    {
     "data": {
      "text/plain": [
       "b        Audi\n",
       "c    Mercedez\n",
       "dtype: object"
      ]
     },
     "execution_count": 147,
     "metadata": {},
     "output_type": "execute_result"
    }
   ],
   "source": [
    "cars.drop('a')"
   ]
  },
  {
   "cell_type": "code",
   "execution_count": 148,
   "metadata": {},
   "outputs": [
    {
     "name": "stdout",
     "output_type": "stream",
     "text": [
      "          revenues  profits  expenses\n",
      "BMW              0        1         2\n",
      "Audi             3        4         5\n",
      "Mercedez         6        7         8\n"
     ]
    }
   ],
   "source": [
    "cars_df = DataFrame(np.arange(9).reshape(3,3), \n",
    "                    index=['BMW','Audi','Mercedez'], \n",
    "                    columns=['revenues', 'profits','expenses'])\n",
    "print(cars_df)"
   ]
  },
  {
   "cell_type": "code",
   "execution_count": 149,
   "metadata": {},
   "outputs": [
    {
     "data": {
      "text/html": [
       "<div>\n",
       "<style scoped>\n",
       "    .dataframe tbody tr th:only-of-type {\n",
       "        vertical-align: middle;\n",
       "    }\n",
       "\n",
       "    .dataframe tbody tr th {\n",
       "        vertical-align: top;\n",
       "    }\n",
       "\n",
       "    .dataframe thead th {\n",
       "        text-align: right;\n",
       "    }\n",
       "</style>\n",
       "<table border=\"1\" class=\"dataframe\">\n",
       "  <thead>\n",
       "    <tr style=\"text-align: right;\">\n",
       "      <th></th>\n",
       "      <th>revenues</th>\n",
       "      <th>profits</th>\n",
       "      <th>expenses</th>\n",
       "    </tr>\n",
       "  </thead>\n",
       "  <tbody>\n",
       "    <tr>\n",
       "      <td>Audi</td>\n",
       "      <td>3</td>\n",
       "      <td>4</td>\n",
       "      <td>5</td>\n",
       "    </tr>\n",
       "    <tr>\n",
       "      <td>Mercedez</td>\n",
       "      <td>6</td>\n",
       "      <td>7</td>\n",
       "      <td>8</td>\n",
       "    </tr>\n",
       "  </tbody>\n",
       "</table>\n",
       "</div>"
      ],
      "text/plain": [
       "          revenues  profits  expenses\n",
       "Audi             3        4         5\n",
       "Mercedez         6        7         8"
      ]
     },
     "execution_count": 149,
     "metadata": {},
     "output_type": "execute_result"
    }
   ],
   "source": [
    "cars_df.drop('BMW')"
   ]
  },
  {
   "cell_type": "code",
   "execution_count": 152,
   "metadata": {},
   "outputs": [
    {
     "data": {
      "text/html": [
       "<div>\n",
       "<style scoped>\n",
       "    .dataframe tbody tr th:only-of-type {\n",
       "        vertical-align: middle;\n",
       "    }\n",
       "\n",
       "    .dataframe tbody tr th {\n",
       "        vertical-align: top;\n",
       "    }\n",
       "\n",
       "    .dataframe thead th {\n",
       "        text-align: right;\n",
       "    }\n",
       "</style>\n",
       "<table border=\"1\" class=\"dataframe\">\n",
       "  <thead>\n",
       "    <tr style=\"text-align: right;\">\n",
       "      <th></th>\n",
       "      <th>revenues</th>\n",
       "      <th>profits</th>\n",
       "    </tr>\n",
       "  </thead>\n",
       "  <tbody>\n",
       "    <tr>\n",
       "      <td>BMW</td>\n",
       "      <td>0</td>\n",
       "      <td>1</td>\n",
       "    </tr>\n",
       "    <tr>\n",
       "      <td>Audi</td>\n",
       "      <td>3</td>\n",
       "      <td>4</td>\n",
       "    </tr>\n",
       "    <tr>\n",
       "      <td>Mercedez</td>\n",
       "      <td>6</td>\n",
       "      <td>7</td>\n",
       "    </tr>\n",
       "  </tbody>\n",
       "</table>\n",
       "</div>"
      ],
      "text/plain": [
       "          revenues  profits\n",
       "BMW              0        1\n",
       "Audi             3        4\n",
       "Mercedez         6        7"
      ]
     },
     "execution_count": 152,
     "metadata": {},
     "output_type": "execute_result"
    }
   ],
   "source": [
    "cars_df.drop('expenses', axis=1)"
   ]
  },
  {
   "cell_type": "markdown",
   "metadata": {},
   "source": [
    "## Handling NaN/null data"
   ]
  },
  {
   "cell_type": "code",
   "execution_count": 153,
   "metadata": {},
   "outputs": [
    {
     "name": "stdout",
     "output_type": "stream",
     "text": [
      "0      A\n",
      "1      B\n",
      "2      C\n",
      "3      D\n",
      "4    NaN\n",
      "dtype: object\n"
     ]
    }
   ],
   "source": [
    "series1 = Series(['A','B','C','D', np.nan])\n",
    "print(series1)"
   ]
  },
  {
   "cell_type": "code",
   "execution_count": 154,
   "metadata": {},
   "outputs": [
    {
     "name": "stdout",
     "output_type": "stream",
     "text": [
      "0    False\n",
      "1    False\n",
      "2    False\n",
      "3    False\n",
      "4     True\n",
      "dtype: bool\n"
     ]
    }
   ],
   "source": [
    "# Validate\n",
    "print(series1.isnull())"
   ]
  },
  {
   "cell_type": "code",
   "execution_count": 155,
   "metadata": {},
   "outputs": [
    {
     "name": "stdout",
     "output_type": "stream",
     "text": [
      "0    A\n",
      "1    B\n",
      "2    C\n",
      "3    D\n",
      "dtype: object\n"
     ]
    }
   ],
   "source": [
    "# Drop\n",
    "print(series1.dropna())"
   ]
  },
  {
   "cell_type": "code",
   "execution_count": 158,
   "metadata": {},
   "outputs": [
    {
     "name": "stdout",
     "output_type": "stream",
     "text": [
      "     0    1     2\n",
      "0  1.0  2.0   4.0\n",
      "1  5.0  6.0   NaN\n",
      "2  7.0  NaN  10.0\n",
      "3  NaN  NaN   NaN\n"
     ]
    }
   ],
   "source": [
    "# On Dataframes\n",
    "\n",
    "df1 = DataFrame([[1,2,4],[5,6, np.nan],[7, np.nan, 10],[np.nan, np.nan, np.nan]])\n",
    "print(df1)\n"
   ]
  },
  {
   "cell_type": "code",
   "execution_count": 159,
   "metadata": {},
   "outputs": [
    {
     "name": "stdout",
     "output_type": "stream",
     "text": [
      "     0    1    2\n",
      "0  1.0  2.0  4.0\n"
     ]
    }
   ],
   "source": [
    "print(df1.dropna()) # drop all the affected rows"
   ]
  },
  {
   "cell_type": "code",
   "execution_count": 161,
   "metadata": {},
   "outputs": [
    {
     "name": "stdout",
     "output_type": "stream",
     "text": [
      "     0    1     2\n",
      "0  1.0  2.0   4.0\n",
      "1  5.0  6.0   NaN\n",
      "2  7.0  NaN  10.0\n"
     ]
    }
   ],
   "source": [
    "print(df1.dropna(how='all')) # only drop the rows where all the elements are null"
   ]
  },
  {
   "cell_type": "code",
   "execution_count": 163,
   "metadata": {},
   "outputs": [
    {
     "name": "stdout",
     "output_type": "stream",
     "text": [
      "Empty DataFrame\n",
      "Columns: []\n",
      "Index: [0, 1, 2, 3]\n"
     ]
    }
   ],
   "source": [
    "print(df1.dropna(axis=1)) # drop all the affected columns"
   ]
  },
  {
   "cell_type": "code",
   "execution_count": 164,
   "metadata": {},
   "outputs": [
    {
     "name": "stdout",
     "output_type": "stream",
     "text": [
      "    0    1    2    3   4\n",
      "0   1  2.0  3.0  4.0 NaN\n",
      "1   4  5.0  6.0  7.0 NaN\n",
      "2   8  9.0  NaN  NaN NaN\n",
      "3  12  NaN  NaN  NaN NaN\n"
     ]
    }
   ],
   "source": [
    "df2 = DataFrame([[1,2,3,4, np.nan],[4,5,6,7],[8,9, np.nan, np.nan],[12, np.nan, np.nan, np.nan]])\n",
    "print(df2)"
   ]
  },
  {
   "cell_type": "code",
   "execution_count": 167,
   "metadata": {},
   "outputs": [
    {
     "name": "stdout",
     "output_type": "stream",
     "text": [
      "   0    1    2    3   4\n",
      "0  1  2.0  3.0  4.0 NaN\n",
      "1  4  5.0  6.0  7.0 NaN\n"
     ]
    }
   ],
   "source": [
    "print(df2.dropna(thresh=3)) # drop a row if there is at least 3 NaNs - threshold"
   ]
  },
  {
   "cell_type": "code",
   "execution_count": 168,
   "metadata": {},
   "outputs": [
    {
     "name": "stdout",
     "output_type": "stream",
     "text": [
      "   0    1    2    3   4\n",
      "0  1  2.0  3.0  4.0 NaN\n",
      "1  4  5.0  6.0  7.0 NaN\n",
      "2  8  9.0  NaN  NaN NaN\n"
     ]
    }
   ],
   "source": [
    "print(df2.dropna(thresh=2))"
   ]
  },
  {
   "cell_type": "code",
   "execution_count": 170,
   "metadata": {},
   "outputs": [
    {
     "name": "stdout",
     "output_type": "stream",
     "text": [
      "    0    1    2    3    4\n",
      "0   1  2.0  3.0  4.0  0.0\n",
      "1   4  5.0  6.0  7.0  0.0\n",
      "2   8  9.0  0.0  0.0  0.0\n",
      "3  12  0.0  0.0  0.0  0.0\n"
     ]
    }
   ],
   "source": [
    "# Replace NaN values\n",
    "print(df2.fillna(0)) # replace all NaN values with the provided number"
   ]
  },
  {
   "cell_type": "code",
   "execution_count": 172,
   "metadata": {},
   "outputs": [
    {
     "name": "stdout",
     "output_type": "stream",
     "text": [
      "    0     1      2      3   4\n",
      "0   1   2.0    3.0    4.0 NaN\n",
      "1   4   5.0    6.0    7.0 NaN\n",
      "2   8   9.0  100.0  200.0 NaN\n",
      "3  12  50.0  100.0  200.0 NaN\n"
     ]
    }
   ],
   "source": [
    "print(df2.fillna({0:0, 1:50, 2:100, 3:200})) # a different fill value for each column"
   ]
  },
  {
   "cell_type": "markdown",
   "metadata": {},
   "source": [
    "## Selecting and Modifying Entries"
   ]
  },
  {
   "cell_type": "code",
   "execution_count": 173,
   "metadata": {},
   "outputs": [
    {
     "name": "stdout",
     "output_type": "stream",
     "text": [
      "A    100\n",
      "B    200\n",
      "C    300\n",
      "dtype: int64\n"
     ]
    }
   ],
   "source": [
    "series1 = Series([100,200,300], index=['A','B','C'])\n",
    "print(series1)"
   ]
  },
  {
   "cell_type": "code",
   "execution_count": 174,
   "metadata": {},
   "outputs": [
    {
     "name": "stdout",
     "output_type": "stream",
     "text": [
      "100\n"
     ]
    }
   ],
   "source": [
    "print(series1['A'])"
   ]
  },
  {
   "cell_type": "code",
   "execution_count": 176,
   "metadata": {},
   "outputs": [
    {
     "name": "stdout",
     "output_type": "stream",
     "text": [
      "A    100\n",
      "B    200\n",
      "dtype: int64\n"
     ]
    }
   ],
   "source": [
    "print(series1[['A','B']])"
   ]
  },
  {
   "cell_type": "code",
   "execution_count": 177,
   "metadata": {},
   "outputs": [
    {
     "name": "stdout",
     "output_type": "stream",
     "text": [
      "100\n"
     ]
    }
   ],
   "source": [
    "print(series1[0])"
   ]
  },
  {
   "cell_type": "code",
   "execution_count": 178,
   "metadata": {},
   "outputs": [
    {
     "name": "stdout",
     "output_type": "stream",
     "text": [
      "A    100\n",
      "B    200\n",
      "dtype: int64\n"
     ]
    }
   ],
   "source": [
    "print(series1[0:2])"
   ]
  },
  {
   "cell_type": "code",
   "execution_count": 180,
   "metadata": {},
   "outputs": [
    {
     "name": "stdout",
     "output_type": "stream",
     "text": [
      "B    200\n",
      "C    300\n",
      "dtype: int64\n"
     ]
    }
   ],
   "source": [
    "print(series1[series1 > 150])"
   ]
  },
  {
   "cell_type": "code",
   "execution_count": 182,
   "metadata": {},
   "outputs": [
    {
     "name": "stdout",
     "output_type": "stream",
     "text": [
      "C    300\n",
      "dtype: int64\n"
     ]
    }
   ],
   "source": [
    "print(series1[series1 == 300])"
   ]
  },
  {
   "cell_type": "code",
   "execution_count": 183,
   "metadata": {},
   "outputs": [
    {
     "name": "stdout",
     "output_type": "stream",
     "text": [
      "       A  B  C\n",
      "car    0  1  2\n",
      "bike   3  4  5\n",
      "cycle  6  7  8\n"
     ]
    }
   ],
   "source": [
    "df1 = DataFrame(np.arange(9).reshape(3,3), index=['car', 'bike', 'cycle'], columns=['A','B','C'])\n",
    "print(df1)"
   ]
  },
  {
   "cell_type": "code",
   "execution_count": 186,
   "metadata": {},
   "outputs": [
    {
     "data": {
      "text/plain": [
       "car      0\n",
       "bike     3\n",
       "cycle    6\n",
       "Name: A, dtype: int64"
      ]
     },
     "execution_count": 186,
     "metadata": {},
     "output_type": "execute_result"
    }
   ],
   "source": [
    "df1['A']"
   ]
  },
  {
   "cell_type": "code",
   "execution_count": 187,
   "metadata": {},
   "outputs": [
    {
     "data": {
      "text/html": [
       "<div>\n",
       "<style scoped>\n",
       "    .dataframe tbody tr th:only-of-type {\n",
       "        vertical-align: middle;\n",
       "    }\n",
       "\n",
       "    .dataframe tbody tr th {\n",
       "        vertical-align: top;\n",
       "    }\n",
       "\n",
       "    .dataframe thead th {\n",
       "        text-align: right;\n",
       "    }\n",
       "</style>\n",
       "<table border=\"1\" class=\"dataframe\">\n",
       "  <thead>\n",
       "    <tr style=\"text-align: right;\">\n",
       "      <th></th>\n",
       "      <th>A</th>\n",
       "      <th>B</th>\n",
       "    </tr>\n",
       "  </thead>\n",
       "  <tbody>\n",
       "    <tr>\n",
       "      <td>car</td>\n",
       "      <td>0</td>\n",
       "      <td>1</td>\n",
       "    </tr>\n",
       "    <tr>\n",
       "      <td>bike</td>\n",
       "      <td>3</td>\n",
       "      <td>4</td>\n",
       "    </tr>\n",
       "    <tr>\n",
       "      <td>cycle</td>\n",
       "      <td>6</td>\n",
       "      <td>7</td>\n",
       "    </tr>\n",
       "  </tbody>\n",
       "</table>\n",
       "</div>"
      ],
      "text/plain": [
       "       A  B\n",
       "car    0  1\n",
       "bike   3  4\n",
       "cycle  6  7"
      ]
     },
     "execution_count": 187,
     "metadata": {},
     "output_type": "execute_result"
    }
   ],
   "source": [
    "df1[['A','B']]"
   ]
  },
  {
   "cell_type": "code",
   "execution_count": 188,
   "metadata": {},
   "outputs": [
    {
     "data": {
      "text/html": [
       "<div>\n",
       "<style scoped>\n",
       "    .dataframe tbody tr th:only-of-type {\n",
       "        vertical-align: middle;\n",
       "    }\n",
       "\n",
       "    .dataframe tbody tr th {\n",
       "        vertical-align: top;\n",
       "    }\n",
       "\n",
       "    .dataframe thead th {\n",
       "        text-align: right;\n",
       "    }\n",
       "</style>\n",
       "<table border=\"1\" class=\"dataframe\">\n",
       "  <thead>\n",
       "    <tr style=\"text-align: right;\">\n",
       "      <th></th>\n",
       "      <th>A</th>\n",
       "      <th>B</th>\n",
       "      <th>C</th>\n",
       "    </tr>\n",
       "  </thead>\n",
       "  <tbody>\n",
       "    <tr>\n",
       "      <td>car</td>\n",
       "      <td>False</td>\n",
       "      <td>False</td>\n",
       "      <td>False</td>\n",
       "    </tr>\n",
       "    <tr>\n",
       "      <td>bike</td>\n",
       "      <td>False</td>\n",
       "      <td>False</td>\n",
       "      <td>False</td>\n",
       "    </tr>\n",
       "    <tr>\n",
       "      <td>cycle</td>\n",
       "      <td>True</td>\n",
       "      <td>True</td>\n",
       "      <td>True</td>\n",
       "    </tr>\n",
       "  </tbody>\n",
       "</table>\n",
       "</div>"
      ],
      "text/plain": [
       "           A      B      C\n",
       "car    False  False  False\n",
       "bike   False  False  False\n",
       "cycle   True   True   True"
      ]
     },
     "execution_count": 188,
     "metadata": {},
     "output_type": "execute_result"
    }
   ],
   "source": [
    "df1>5"
   ]
  },
  {
   "cell_type": "code",
   "execution_count": 192,
   "metadata": {},
   "outputs": [
    {
     "data": {
      "text/plain": [
       "A    3\n",
       "B    4\n",
       "C    5\n",
       "Name: bike, dtype: int64"
      ]
     },
     "execution_count": 192,
     "metadata": {},
     "output_type": "execute_result"
    }
   ],
   "source": [
    "df1.loc['bike']"
   ]
  },
  {
   "cell_type": "code",
   "execution_count": 193,
   "metadata": {},
   "outputs": [
    {
     "data": {
      "text/plain": [
       "A    3\n",
       "B    4\n",
       "C    5\n",
       "Name: bike, dtype: int64"
      ]
     },
     "execution_count": 193,
     "metadata": {},
     "output_type": "execute_result"
    }
   ],
   "source": [
    "df1.iloc[1]"
   ]
  },
  {
   "cell_type": "markdown",
   "metadata": {},
   "source": [
    "## Data Alignment"
   ]
  },
  {
   "cell_type": "code",
   "execution_count": 194,
   "metadata": {},
   "outputs": [
    {
     "data": {
      "text/plain": [
       "A    200.0\n",
       "B    400.0\n",
       "C    600.0\n",
       "D      NaN\n",
       "dtype: float64"
      ]
     },
     "execution_count": 194,
     "metadata": {},
     "output_type": "execute_result"
    }
   ],
   "source": [
    "series_a = Series([100,200,300], index=['A','B','C'])\n",
    "series_b = Series([100,200,300,400], index=['A','B','C','D'])\n",
    "\n",
    "# sum of series\n",
    "series_a + series_b"
   ]
  },
  {
   "cell_type": "code",
   "execution_count": 198,
   "metadata": {},
   "outputs": [
    {
     "name": "stdout",
     "output_type": "stream",
     "text": [
      "      a  b\n",
      "car   0  1\n",
      "bike  2  3\n",
      "       a  b  c\n",
      "car    0  1  2\n",
      "bike   3  4  5\n",
      "cycle  6  7  8\n"
     ]
    },
    {
     "data": {
      "text/html": [
       "<div>\n",
       "<style scoped>\n",
       "    .dataframe tbody tr th:only-of-type {\n",
       "        vertical-align: middle;\n",
       "    }\n",
       "\n",
       "    .dataframe tbody tr th {\n",
       "        vertical-align: top;\n",
       "    }\n",
       "\n",
       "    .dataframe thead th {\n",
       "        text-align: right;\n",
       "    }\n",
       "</style>\n",
       "<table border=\"1\" class=\"dataframe\">\n",
       "  <thead>\n",
       "    <tr style=\"text-align: right;\">\n",
       "      <th></th>\n",
       "      <th>a</th>\n",
       "      <th>b</th>\n",
       "      <th>c</th>\n",
       "    </tr>\n",
       "  </thead>\n",
       "  <tbody>\n",
       "    <tr>\n",
       "      <td>bike</td>\n",
       "      <td>5.0</td>\n",
       "      <td>7.0</td>\n",
       "      <td>NaN</td>\n",
       "    </tr>\n",
       "    <tr>\n",
       "      <td>car</td>\n",
       "      <td>0.0</td>\n",
       "      <td>2.0</td>\n",
       "      <td>NaN</td>\n",
       "    </tr>\n",
       "    <tr>\n",
       "      <td>cycle</td>\n",
       "      <td>NaN</td>\n",
       "      <td>NaN</td>\n",
       "      <td>NaN</td>\n",
       "    </tr>\n",
       "  </tbody>\n",
       "</table>\n",
       "</div>"
      ],
      "text/plain": [
       "         a    b   c\n",
       "bike   5.0  7.0 NaN\n",
       "car    0.0  2.0 NaN\n",
       "cycle  NaN  NaN NaN"
      ]
     },
     "execution_count": 198,
     "metadata": {},
     "output_type": "execute_result"
    }
   ],
   "source": [
    "df1 = DataFrame(np.arange(4).reshape(2,2), columns=['a', 'b'], index=['car','bike'])\n",
    "df2 = DataFrame(np.arange(9).reshape(3,3), columns=['a', 'b', 'c'], index=['car','bike','cycle'])\n",
    "                                                                      \n",
    "# summing dataframes\n",
    "print(df1)\n",
    "print(df2)\n",
    "df1 +  df2"
   ]
  },
  {
   "cell_type": "code",
   "execution_count": 200,
   "metadata": {},
   "outputs": [
    {
     "data": {
      "text/html": [
       "<div>\n",
       "<style scoped>\n",
       "    .dataframe tbody tr th:only-of-type {\n",
       "        vertical-align: middle;\n",
       "    }\n",
       "\n",
       "    .dataframe tbody tr th {\n",
       "        vertical-align: top;\n",
       "    }\n",
       "\n",
       "    .dataframe thead th {\n",
       "        text-align: right;\n",
       "    }\n",
       "</style>\n",
       "<table border=\"1\" class=\"dataframe\">\n",
       "  <thead>\n",
       "    <tr style=\"text-align: right;\">\n",
       "      <th></th>\n",
       "      <th>a</th>\n",
       "      <th>b</th>\n",
       "      <th>c</th>\n",
       "    </tr>\n",
       "  </thead>\n",
       "  <tbody>\n",
       "    <tr>\n",
       "      <td>bike</td>\n",
       "      <td>5.0</td>\n",
       "      <td>7.0</td>\n",
       "      <td>5.0</td>\n",
       "    </tr>\n",
       "    <tr>\n",
       "      <td>car</td>\n",
       "      <td>0.0</td>\n",
       "      <td>2.0</td>\n",
       "      <td>2.0</td>\n",
       "    </tr>\n",
       "    <tr>\n",
       "      <td>cycle</td>\n",
       "      <td>6.0</td>\n",
       "      <td>7.0</td>\n",
       "      <td>8.0</td>\n",
       "    </tr>\n",
       "  </tbody>\n",
       "</table>\n",
       "</div>"
      ],
      "text/plain": [
       "         a    b    c\n",
       "bike   5.0  7.0  5.0\n",
       "car    0.0  2.0  2.0\n",
       "cycle  6.0  7.0  8.0"
      ]
     },
     "execution_count": 200,
     "metadata": {},
     "output_type": "execute_result"
    }
   ],
   "source": [
    "df1.add(df2, fill_value=0)"
   ]
  },
  {
   "cell_type": "code",
   "execution_count": 205,
   "metadata": {},
   "outputs": [
    {
     "name": "stdout",
     "output_type": "stream",
     "text": [
      "       a  b  c\n",
      "car    0  0  0\n",
      "bike   3  3  3\n",
      "cycle  6  6  6\n"
     ]
    }
   ],
   "source": [
    "series_c = df2.iloc[0]\n",
    "print(df2 - series_c)"
   ]
  },
  {
   "cell_type": "markdown",
   "metadata": {},
   "source": [
    "## Ranking and Sorting"
   ]
  },
  {
   "cell_type": "code",
   "execution_count": 207,
   "metadata": {},
   "outputs": [
    {
     "name": "stdout",
     "output_type": "stream",
     "text": [
      "a     500\n",
      "c    1000\n",
      "b    1500\n",
      "dtype: int64\n"
     ]
    },
    {
     "data": {
      "text/plain": [
       "a     500\n",
       "b    1500\n",
       "c    1000\n",
       "dtype: int64"
      ]
     },
     "execution_count": 207,
     "metadata": {},
     "output_type": "execute_result"
    }
   ],
   "source": [
    "ser1 = Series([500, 1000, 1500], index=['a','c','b'])\n",
    "print(ser1)\n",
    "\n",
    "# Sorting by index\n",
    "ser1.sort_index()\n"
   ]
  },
  {
   "cell_type": "code",
   "execution_count": 208,
   "metadata": {},
   "outputs": [
    {
     "data": {
      "text/plain": [
       "a     500\n",
       "c    1000\n",
       "b    1500\n",
       "dtype: int64"
      ]
     },
     "execution_count": 208,
     "metadata": {},
     "output_type": "execute_result"
    }
   ],
   "source": [
    "# Sorting by values\n",
    "ser1.sort_values()"
   ]
  },
  {
   "cell_type": "code",
   "execution_count": 210,
   "metadata": {},
   "outputs": [
    {
     "data": {
      "text/plain": [
       "a    1.0\n",
       "c    2.0\n",
       "b    3.0\n",
       "dtype: float64"
      ]
     },
     "execution_count": 210,
     "metadata": {},
     "output_type": "execute_result"
    }
   ],
   "source": [
    "ser1.rank()"
   ]
  },
  {
   "cell_type": "code",
   "execution_count": 212,
   "metadata": {},
   "outputs": [
    {
     "name": "stdout",
     "output_type": "stream",
     "text": [
      "0    0.177349\n",
      "1   -1.716591\n",
      "2    0.507779\n",
      "3    0.291033\n",
      "4   -0.750625\n",
      "5    1.125461\n",
      "6    1.616404\n",
      "7   -0.504723\n",
      "8    1.577420\n",
      "9    0.885784\n",
      "dtype: float64\n"
     ]
    },
    {
     "data": {
      "text/plain": [
       "0     4.0\n",
       "1     1.0\n",
       "2     6.0\n",
       "3     5.0\n",
       "4     2.0\n",
       "5     8.0\n",
       "6    10.0\n",
       "7     3.0\n",
       "8     9.0\n",
       "9     7.0\n",
       "dtype: float64"
      ]
     },
     "execution_count": 212,
     "metadata": {},
     "output_type": "execute_result"
    }
   ],
   "source": [
    "# ranking of series\n",
    "\n",
    "ser2 = Series(randn(10))\n",
    "print(ser2)\n",
    "\n",
    "ser2.rank()"
   ]
  },
  {
   "cell_type": "code",
   "execution_count": 213,
   "metadata": {},
   "outputs": [
    {
     "data": {
      "text/plain": [
       "1   -1.716591\n",
       "4   -0.750625\n",
       "7   -0.504723\n",
       "0    0.177349\n",
       "3    0.291033\n",
       "2    0.507779\n",
       "9    0.885784\n",
       "5    1.125461\n",
       "8    1.577420\n",
       "6    1.616404\n",
       "dtype: float64"
      ]
     },
     "execution_count": 213,
     "metadata": {},
     "output_type": "execute_result"
    }
   ],
   "source": [
    "ser2.sort_values()"
   ]
  },
  {
   "cell_type": "markdown",
   "metadata": {},
   "source": [
    "## Statistics"
   ]
  },
  {
   "cell_type": "code",
   "execution_count": 217,
   "metadata": {},
   "outputs": [
    {
     "name": "stdout",
     "output_type": "stream",
     "text": [
      "[[10. nan 20.]\n",
      " [30. 40. nan]]\n"
     ]
    }
   ],
   "source": [
    "array1 = np.array([[10, np.nan, 20],[30, 40, np.nan]])\n",
    "print(array1)"
   ]
  },
  {
   "cell_type": "code",
   "execution_count": 218,
   "metadata": {},
   "outputs": [
    {
     "name": "stdout",
     "output_type": "stream",
     "text": [
      "      A     B     C\n",
      "1  10.0   NaN  20.0\n",
      "2  30.0  40.0   NaN\n"
     ]
    }
   ],
   "source": [
    "df1 = DataFrame(array1, index=[1,2], columns=list('ABC'))\n",
    "print(df1)"
   ]
  },
  {
   "cell_type": "code",
   "execution_count": 220,
   "metadata": {},
   "outputs": [
    {
     "data": {
      "text/plain": [
       "A    40.0\n",
       "B    40.0\n",
       "C    20.0\n",
       "dtype: float64"
      ]
     },
     "execution_count": 220,
     "metadata": {},
     "output_type": "execute_result"
    }
   ],
   "source": [
    "# sum()\n",
    "df1.sum() # sum along each column - NaN values treated as 0"
   ]
  },
  {
   "cell_type": "code",
   "execution_count": 221,
   "metadata": {},
   "outputs": [
    {
     "data": {
      "text/plain": [
       "1    30.0\n",
       "2    70.0\n",
       "dtype: float64"
      ]
     },
     "execution_count": 221,
     "metadata": {},
     "output_type": "execute_result"
    }
   ],
   "source": [
    "df1.sum(axis=1) # sum along the rows"
   ]
  },
  {
   "cell_type": "code",
   "execution_count": 224,
   "metadata": {},
   "outputs": [
    {
     "data": {
      "text/plain": [
       "A    30.0\n",
       "B    40.0\n",
       "C    20.0\n",
       "dtype: float64"
      ]
     },
     "execution_count": 224,
     "metadata": {},
     "output_type": "execute_result"
    }
   ],
   "source": [
    "df1.min() # min value in each column\n"
   ]
  },
  {
   "cell_type": "code",
   "execution_count": 225,
   "metadata": {},
   "outputs": [
    {
     "data": {
      "text/plain": [
       "A    30.0\n",
       "B    40.0\n",
       "C    20.0\n",
       "dtype: float64"
      ]
     },
     "execution_count": 225,
     "metadata": {},
     "output_type": "execute_result"
    }
   ],
   "source": [
    "df1.max()"
   ]
  },
  {
   "cell_type": "code",
   "execution_count": 227,
   "metadata": {},
   "outputs": [
    {
     "data": {
      "text/plain": [
       "A    2\n",
       "B    2\n",
       "C    1\n",
       "dtype: int64"
      ]
     },
     "execution_count": 227,
     "metadata": {},
     "output_type": "execute_result"
    }
   ],
   "source": [
    "df1.idxmax() # index where the max value for each column is"
   ]
  },
  {
   "cell_type": "code",
   "execution_count": 228,
   "metadata": {},
   "outputs": [
    {
     "data": {
      "text/html": [
       "<div>\n",
       "<style scoped>\n",
       "    .dataframe tbody tr th:only-of-type {\n",
       "        vertical-align: middle;\n",
       "    }\n",
       "\n",
       "    .dataframe tbody tr th {\n",
       "        vertical-align: top;\n",
       "    }\n",
       "\n",
       "    .dataframe thead th {\n",
       "        text-align: right;\n",
       "    }\n",
       "</style>\n",
       "<table border=\"1\" class=\"dataframe\">\n",
       "  <thead>\n",
       "    <tr style=\"text-align: right;\">\n",
       "      <th></th>\n",
       "      <th>A</th>\n",
       "      <th>B</th>\n",
       "      <th>C</th>\n",
       "    </tr>\n",
       "  </thead>\n",
       "  <tbody>\n",
       "    <tr>\n",
       "      <td>1</td>\n",
       "      <td>10.0</td>\n",
       "      <td>NaN</td>\n",
       "      <td>20.0</td>\n",
       "    </tr>\n",
       "    <tr>\n",
       "      <td>2</td>\n",
       "      <td>40.0</td>\n",
       "      <td>40.0</td>\n",
       "      <td>NaN</td>\n",
       "    </tr>\n",
       "  </tbody>\n",
       "</table>\n",
       "</div>"
      ],
      "text/plain": [
       "      A     B     C\n",
       "1  10.0   NaN  20.0\n",
       "2  40.0  40.0   NaN"
      ]
     },
     "execution_count": 228,
     "metadata": {},
     "output_type": "execute_result"
    }
   ],
   "source": [
    "df1.cumsum() # cumulative sum on columns"
   ]
  },
  {
   "cell_type": "code",
   "execution_count": 229,
   "metadata": {},
   "outputs": [
    {
     "data": {
      "text/html": [
       "<div>\n",
       "<style scoped>\n",
       "    .dataframe tbody tr th:only-of-type {\n",
       "        vertical-align: middle;\n",
       "    }\n",
       "\n",
       "    .dataframe tbody tr th {\n",
       "        vertical-align: top;\n",
       "    }\n",
       "\n",
       "    .dataframe thead th {\n",
       "        text-align: right;\n",
       "    }\n",
       "</style>\n",
       "<table border=\"1\" class=\"dataframe\">\n",
       "  <thead>\n",
       "    <tr style=\"text-align: right;\">\n",
       "      <th></th>\n",
       "      <th>A</th>\n",
       "      <th>B</th>\n",
       "      <th>C</th>\n",
       "    </tr>\n",
       "  </thead>\n",
       "  <tbody>\n",
       "    <tr>\n",
       "      <td>count</td>\n",
       "      <td>2.000000</td>\n",
       "      <td>1.0</td>\n",
       "      <td>1.0</td>\n",
       "    </tr>\n",
       "    <tr>\n",
       "      <td>mean</td>\n",
       "      <td>20.000000</td>\n",
       "      <td>40.0</td>\n",
       "      <td>20.0</td>\n",
       "    </tr>\n",
       "    <tr>\n",
       "      <td>std</td>\n",
       "      <td>14.142136</td>\n",
       "      <td>NaN</td>\n",
       "      <td>NaN</td>\n",
       "    </tr>\n",
       "    <tr>\n",
       "      <td>min</td>\n",
       "      <td>10.000000</td>\n",
       "      <td>40.0</td>\n",
       "      <td>20.0</td>\n",
       "    </tr>\n",
       "    <tr>\n",
       "      <td>25%</td>\n",
       "      <td>15.000000</td>\n",
       "      <td>40.0</td>\n",
       "      <td>20.0</td>\n",
       "    </tr>\n",
       "    <tr>\n",
       "      <td>50%</td>\n",
       "      <td>20.000000</td>\n",
       "      <td>40.0</td>\n",
       "      <td>20.0</td>\n",
       "    </tr>\n",
       "    <tr>\n",
       "      <td>75%</td>\n",
       "      <td>25.000000</td>\n",
       "      <td>40.0</td>\n",
       "      <td>20.0</td>\n",
       "    </tr>\n",
       "    <tr>\n",
       "      <td>max</td>\n",
       "      <td>30.000000</td>\n",
       "      <td>40.0</td>\n",
       "      <td>20.0</td>\n",
       "    </tr>\n",
       "  </tbody>\n",
       "</table>\n",
       "</div>"
      ],
      "text/plain": [
       "               A     B     C\n",
       "count   2.000000   1.0   1.0\n",
       "mean   20.000000  40.0  20.0\n",
       "std    14.142136   NaN   NaN\n",
       "min    10.000000  40.0  20.0\n",
       "25%    15.000000  40.0  20.0\n",
       "50%    20.000000  40.0  20.0\n",
       "75%    25.000000  40.0  20.0\n",
       "max    30.000000  40.0  20.0"
      ]
     },
     "execution_count": 229,
     "metadata": {},
     "output_type": "execute_result"
    }
   ],
   "source": [
    "df1.describe() # statistical summary"
   ]
  },
  {
   "cell_type": "code",
   "execution_count": 237,
   "metadata": {},
   "outputs": [
    {
     "name": "stdout",
     "output_type": "stream",
     "text": [
      "          A         B         C\n",
      "1  0.382755  0.808822 -1.227610\n",
      "2 -0.870302 -1.798075  0.753737\n",
      "3  0.413784  0.642072  2.229001\n"
     ]
    }
   ],
   "source": [
    "df2 = DataFrame(randn(9).reshape(3,3), index=[1,2,3], columns=['A','B','C'])\n",
    "print(df2)"
   ]
  },
  {
   "cell_type": "code",
   "execution_count": 239,
   "metadata": {},
   "outputs": [
    {
     "data": {
      "image/png": "[encoded data removed]",
      "text/plain": [
       "<Figure size 432x288 with 1 Axes>"
      ]
     },
     "metadata": {
      "needs_background": "light"
     },
     "output_type": "display_data"
    }
   ],
   "source": [
    "plt.plot(df2)\n",
    "plt.legend(df2.columns, loc='lower right')\n",
    "plt.savefig('samplepic.png')\n",
    "plt.show()"
   ]
  },
  {
   "cell_type": "code",
   "execution_count": 240,
   "metadata": {},
   "outputs": [
    {
     "name": "stdout",
     "output_type": "stream",
     "text": [
      "0    a\n",
      "1    b\n",
      "2    c\n",
      "3    c\n",
      "4    c\n",
      "5    a\n",
      "6    a\n",
      "7    b\n",
      "8    d\n",
      "dtype: object\n"
     ]
    }
   ],
   "source": [
    "ser1 = Series(list('abcccaabd'))\n",
    "print(ser1)"
   ]
  },
  {
   "cell_type": "code",
   "execution_count": 242,
   "metadata": {},
   "outputs": [
    {
     "data": {
      "text/plain": [
       "array(['a', 'b', 'c', 'd'], dtype=object)"
      ]
     },
     "execution_count": 242,
     "metadata": {},
     "output_type": "execute_result"
    }
   ],
   "source": [
    "ser1.unique() # unique values"
   ]
  },
  {
   "cell_type": "code",
   "execution_count": 243,
   "metadata": {},
   "outputs": [
    {
     "data": {
      "text/plain": [
       "c    3\n",
       "a    3\n",
       "b    2\n",
       "d    1\n",
       "dtype: int64"
      ]
     },
     "execution_count": 243,
     "metadata": {},
     "output_type": "execute_result"
    }
   ],
   "source": [
    "ser1.value_counts() # occurence of each unique value"
   ]
  },
  {
   "cell_type": "code",
   "execution_count": null,
   "metadata": {},
   "outputs": [],
   "source": []
  },
  {
   "cell_type": "code",
   "execution_count": null,
   "metadata": {},
   "outputs": [],
   "source": []
  }
 ],
 "metadata": {
  "kernelspec": {
   "display_name": "Python 3",
   "language": "python",
   "name": "python3"
  },
  "language_info": {
   "codemirror_mode": {
    "name": "ipython",
    "version": 3
   },
   "file_extension": ".py",
   "mimetype": "text/x-python",
   "name": "python",
   "nbconvert_exporter": "python",
   "pygments_lexer": "ipython3",
   "version": "3.7.4"
  }
 },
 "nbformat": 4,
 "nbformat_minor": 2
}
