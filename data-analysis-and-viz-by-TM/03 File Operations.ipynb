{
 "cells": [
  {
   "cell_type": "code",
   "execution_count": 1,
   "metadata": {},
   "outputs": [],
   "source": [
    "import numpy as np\n",
    "import pandas as pd\n",
    "from pandas import Series, DataFrame, read_html\n"
   ]
  },
  {
   "cell_type": "markdown",
   "metadata": {},
   "source": [
    "## CSV"
   ]
  },
  {
   "cell_type": "code",
   "execution_count": 2,
   "metadata": {},
   "outputs": [
    {
     "name": "stdout",
     "output_type": "stream",
     "text": [
      "    Cab  Revenue  Loss\n",
      "0  Uber      100  1000\n",
      "1  Grab       10   200\n",
      "2  Lyft       30   500\n",
      "3   Ola       90   900\n"
     ]
    }
   ],
   "source": [
    "dframe = pd.read_csv('demo.csv')\n",
    "print(dframe)"
   ]
  },
  {
   "cell_type": "code",
   "execution_count": 3,
   "metadata": {},
   "outputs": [
    {
     "name": "stdout",
     "output_type": "stream",
     "text": [
      "   Uber  100  1000\n",
      "0  Grab   10   200\n",
      "1  Lyft   30   500\n",
      "2   Ola   90   900\n"
     ]
    }
   ],
   "source": [
    "dframe2 = pd.read_csv('demo2.csv') # No header\n",
    "print(dframe2)"
   ]
  },
  {
   "cell_type": "code",
   "execution_count": 4,
   "metadata": {},
   "outputs": [
    {
     "name": "stdout",
     "output_type": "stream",
     "text": [
      "      0    1     2\n",
      "0  Uber  100  1000\n",
      "1  Grab   10   200\n",
      "2  Lyft   30   500\n",
      "3   Ola   90   900\n"
     ]
    }
   ],
   "source": [
    "dframe2 = pd.read_csv('demo2.csv', header=None) \n",
    "print(dframe2)"
   ]
  },
  {
   "cell_type": "code",
   "execution_count": 5,
   "metadata": {},
   "outputs": [
    {
     "name": "stdout",
     "output_type": "stream",
     "text": [
      "    Cab  Revenue  Loss\n",
      "0  Uber      100  1000\n",
      "1  Grab       10   200\n",
      "2  Lyft       30   500\n",
      "3   Ola       90   900\n"
     ]
    }
   ],
   "source": [
    "# readtable\n",
    "\n",
    "dframe3 = pd.read_table('demo.csv', sep=',') # the separator doesn't have to be a comma\n",
    "print(dframe3)"
   ]
  },
  {
   "cell_type": "code",
   "execution_count": 6,
   "metadata": {},
   "outputs": [
    {
     "name": "stdout",
     "output_type": "stream",
     "text": [
      "      0    1     2\n",
      "0  Uber  100  1000\n",
      "1  Grab   10   200\n"
     ]
    }
   ],
   "source": [
    "# partial rows importing\n",
    "\n",
    "print(pd.read_csv('demo2.csv', nrows=2, header=None))"
   ]
  },
  {
   "cell_type": "code",
   "execution_count": 7,
   "metadata": {},
   "outputs": [],
   "source": [
    "# dumping data into a csv file\n",
    "\n",
    "dframe2.to_csv('outputCSV.csv')\n",
    "\n",
    "dframe2.to_csv('outputCSV2.csv', sep='!')\n"
   ]
  },
  {
   "cell_type": "code",
   "execution_count": 8,
   "metadata": {},
   "outputs": [],
   "source": [
    "# selecting specific columns\n",
    "\n",
    "dframe2.to_csv('dataoutput.csv', columns=[0,1])"
   ]
  },
  {
   "cell_type": "markdown",
   "metadata": {},
   "source": [
    "## Excel Files"
   ]
  },
  {
   "cell_type": "code",
   "execution_count": 9,
   "metadata": {},
   "outputs": [
    {
     "name": "stdout",
     "output_type": "stream",
     "text": [
      "    Cab  Revenue  Loss\n",
      "0  Uber      100  1000\n",
      "1  Grab       10   200\n",
      "2  Lyft       30   500\n",
      "3   Ola       90   900\n"
     ]
    }
   ],
   "source": [
    "excelfile = pd.read_excel('demo3.xlsx')\n",
    "print(excelfile)"
   ]
  },
  {
   "cell_type": "markdown",
   "metadata": {},
   "source": [
    "## HTML Pages"
   ]
  },
  {
   "cell_type": "code",
   "execution_count": 10,
   "metadata": {},
   "outputs": [
    {
     "name": "stdout",
     "output_type": "stream",
     "text": [
      "               COUNTRY COUNTRY CODE ISO CODES  POPULATION  AREA KM2  \\\n",
      "0          Afghanistan           93  AF / AFG    29121286    647500   \n",
      "1              Albania          355  AL / ALB     2986952     28748   \n",
      "2              Algeria          213  DZ / DZA    34586184   2381740   \n",
      "3       American Samoa        1-684  AS / ASM       57881       199   \n",
      "4              Andorra          376  AD / AND       84000       468   \n",
      "..                 ...          ...       ...         ...       ...   \n",
      "235  Wallis and Futuna          681  WF / WLF       16025       274   \n",
      "236     Western Sahara          212  EH / ESH      273008    266000   \n",
      "237              Yemen          967  YE / YEM    23495361    527970   \n",
      "238             Zambia          260  ZM / ZMB    13460305    752614   \n",
      "239           Zimbabwe          263  ZW / ZWE    11651858    390580   \n",
      "\n",
      "          GDP $USD  \n",
      "0    20.65 Billion  \n",
      "1     12.8 Billion  \n",
      "2    215.7 Billion  \n",
      "3    462.2 Million  \n",
      "4      4.8 Billion  \n",
      "..             ...  \n",
      "235            NaN  \n",
      "236            NaN  \n",
      "237  43.89 Billion  \n",
      "238  22.24 Billion  \n",
      "239  10.48 Billion  \n",
      "\n",
      "[240 rows x 6 columns]\n"
     ]
    }
   ],
   "source": [
    "url = \"https://countrycode.org/\"\n",
    "\n",
    "dflist = pd.io.html.read_html(url)\n",
    "dframe = dflist[0]\n",
    "print(dframe)"
   ]
  },
  {
   "cell_type": "code",
   "execution_count": 11,
   "metadata": {},
   "outputs": [
    {
     "data": {
      "text/plain": [
       "array(['COUNTRY', 'COUNTRY CODE', 'ISO CODES', 'POPULATION', 'AREA KM2',\n",
       "       'GDP $USD'], dtype=object)"
      ]
     },
     "execution_count": 11,
     "metadata": {},
     "output_type": "execute_result"
    }
   ],
   "source": [
    "dframe.columns.values"
   ]
  },
  {
   "cell_type": "code",
   "execution_count": null,
   "metadata": {},
   "outputs": [],
   "source": []
  },
  {
   "cell_type": "code",
   "execution_count": null,
   "metadata": {},
   "outputs": [],
   "source": []
  },
  {
   "cell_type": "code",
   "execution_count": null,
   "metadata": {},
   "outputs": [],
   "source": []
  },
  {
   "cell_type": "code",
   "execution_count": null,
   "metadata": {},
   "outputs": [],
   "source": []
  }
 ],
 "metadata": {
  "kernelspec": {
   "display_name": "Python 3",
   "language": "python",
   "name": "python3"
  },
  "language_info": {
   "codemirror_mode": {
    "name": "ipython",
    "version": 3
   },
   "file_extension": ".py",
   "mimetype": "text/x-python",
   "name": "python",
   "nbconvert_exporter": "python",
   "pygments_lexer": "ipython3",
   "version": "3.7.4"
  }
 },
 "nbformat": 4,
 "nbformat_minor": 2
}
