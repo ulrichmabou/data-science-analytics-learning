{
 "cells": [
  {
   "cell_type": "code",
   "execution_count": 1,
   "metadata": {},
   "outputs": [],
   "source": [
    "import numpy as np\n",
    "from numpy import random\n",
    "\n",
    "import pandas as pd\n",
    "from pandas import Series, DataFrame"
   ]
  },
  {
   "cell_type": "markdown",
   "metadata": {},
   "source": [
    "## Merging Datasets on Columns"
   ]
  },
  {
   "cell_type": "markdown",
   "metadata": {},
   "source": [
    "### Many to one merging"
   ]
  },
  {
   "cell_type": "code",
   "execution_count": 2,
   "metadata": {},
   "outputs": [
    {
     "name": "stdout",
     "output_type": "stream",
     "text": [
      "  reference  revenue\n",
      "0       ola        1\n",
      "1      uber        2\n",
      "2      lyft        3\n",
      "3     gojek        4\n",
      "4      grab        5\n",
      "  reference  revenue\n",
      "0       ola        1\n",
      "1      uber        2\n",
      "2      uber        3\n",
      "3       ola        4\n"
     ]
    }
   ],
   "source": [
    "dframe1 = DataFrame({'reference': ['ola', 'uber', 'lyft', 'gojek', 'grab'], 'revenue': [1,2,3,4,5]})\n",
    "dframe2 = DataFrame({'reference': ['ola', 'uber', 'uber', 'ola'], 'revenue': [1,2,3,4]})\n",
    "\n",
    "print(dframe1)\n",
    "print(dframe2)"
   ]
  },
  {
   "cell_type": "code",
   "execution_count": 3,
   "metadata": {},
   "outputs": [
    {
     "name": "stdout",
     "output_type": "stream",
     "text": [
      "  reference  revenue\n",
      "0       ola        1\n",
      "1      uber        2\n"
     ]
    }
   ],
   "source": [
    "dframe3 = pd.merge(dframe1, dframe2) # index\n",
    "print(dframe3)"
   ]
  },
  {
   "cell_type": "code",
   "execution_count": 4,
   "metadata": {},
   "outputs": [
    {
     "name": "stdout",
     "output_type": "stream",
     "text": [
      "  reference  revenue_x  revenue_y\n",
      "0       ola          1          1\n",
      "1       ola          1          4\n",
      "2      uber          2          2\n",
      "3      uber          2          3\n"
     ]
    }
   ],
   "source": [
    "dframe3 = pd.merge(dframe1, dframe2, on='reference') # reference\n",
    "print(dframe3)"
   ]
  },
  {
   "cell_type": "code",
   "execution_count": 5,
   "metadata": {},
   "outputs": [
    {
     "name": "stdout",
     "output_type": "stream",
     "text": [
      "  reference  revenue_x  revenue_y\n",
      "0       ola          1        1.0\n",
      "1       ola          1        4.0\n",
      "2      uber          2        2.0\n",
      "3      uber          2        3.0\n",
      "4      lyft          3        NaN\n",
      "5     gojek          4        NaN\n",
      "6      grab          5        NaN\n"
     ]
    }
   ],
   "source": [
    "dframe4 = pd.merge(dframe1, dframe2, on='reference', how='left') # similar to left outer join in sql?\n",
    "print(dframe4)"
   ]
  },
  {
   "cell_type": "code",
   "execution_count": 6,
   "metadata": {},
   "outputs": [
    {
     "name": "stdout",
     "output_type": "stream",
     "text": [
      "  reference  revenue_x  revenue_y\n",
      "0       ola          1        1.0\n",
      "1       ola          1        4.0\n",
      "2      uber          2        2.0\n",
      "3      uber          2        3.0\n",
      "4      lyft          3        NaN\n",
      "5     gojek          4        NaN\n",
      "6      grab          5        NaN\n"
     ]
    }
   ],
   "source": [
    "dframe5 = pd.merge(dframe1, dframe2, on='reference', how='outer') # similar to full outer join in sql?\n",
    "print(dframe5)"
   ]
  },
  {
   "cell_type": "markdown",
   "metadata": {},
   "source": [
    "### Many to many merging"
   ]
  },
  {
   "cell_type": "code",
   "execution_count": 7,
   "metadata": {},
   "outputs": [
    {
     "name": "stdout",
     "output_type": "stream",
     "text": [
      "  reference  revenue\n",
      "0       ola        1\n",
      "1       ola        2\n",
      "2      lyft        3\n",
      "3      lyft        4\n",
      "4      uber        5\n",
      "5      uber        6\n",
      "6       ola        7\n",
      "  reference  revenue\n",
      "0      uber        1\n",
      "1      uber        2\n",
      "2      lyft        3\n",
      "3       ola        4\n",
      "4       ola        5\n"
     ]
    }
   ],
   "source": [
    "dframe6 = DataFrame({'reference': ['ola', 'ola','lyft', 'lyft', 'uber', 'uber', 'ola'], \n",
    "                     'revenue': [1,2,3,4,5,6,7]})\n",
    "\n",
    "dframe7 = DataFrame({'reference': ['uber', 'uber','lyft', 'ola', 'ola'], \n",
    "                     'revenue': [1,2,3,4,5]})\n",
    "\n",
    "print(dframe6)\n",
    "print(dframe7)\n",
    "\n",
    "\n"
   ]
  },
  {
   "cell_type": "code",
   "execution_count": 8,
   "metadata": {},
   "outputs": [
    {
     "name": "stdout",
     "output_type": "stream",
     "text": [
      "  reference  revenue\n",
      "0      lyft        3\n"
     ]
    }
   ],
   "source": [
    "print(pd.merge(dframe6, dframe7))"
   ]
  },
  {
   "cell_type": "code",
   "execution_count": 9,
   "metadata": {},
   "outputs": [
    {
     "name": "stdout",
     "output_type": "stream",
     "text": [
      "  reference revenue  profit_x  profit_y\n",
      "0       ola     one       1.0       4.0\n",
      "1       ola     one       1.0       5.0\n",
      "2       ola     two       2.0       NaN\n",
      "3      lyft   three       3.0       7.0\n",
      "4      lyft     one       NaN       6.0\n"
     ]
    }
   ],
   "source": [
    "# multiple references\n",
    "\n",
    "dframe8 = DataFrame({'reference': ['ola', 'ola','lyft'], \n",
    "                     'revenue': ['one','two','three'],\n",
    "                     'profit': [1,2,3]})\n",
    "\n",
    "dframe9 = DataFrame({'reference': ['ola', 'ola','lyft','lyft'], \n",
    "                     'revenue': ['one','one','one','three'],\n",
    "                     'profit': [4,5,6,7]})\n",
    "\n",
    "print(pd.merge(dframe8, dframe9, on=['reference','revenue'], how='outer'))\n"
   ]
  },
  {
   "cell_type": "code",
   "execution_count": 10,
   "metadata": {},
   "outputs": [
    {
     "name": "stdout",
     "output_type": "stream",
     "text": [
      "  reference revenue  profit_first  profit_second\n",
      "0       ola     one           1.0            4.0\n",
      "1       ola     one           1.0            5.0\n",
      "2       ola     two           2.0            NaN\n",
      "3      lyft   three           3.0            7.0\n",
      "4      lyft     one           NaN            6.0\n"
     ]
    }
   ],
   "source": [
    "print(pd.merge(dframe8, dframe9, on=['reference','revenue'], how='outer', suffixes=('_first', '_second')))"
   ]
  },
  {
   "cell_type": "markdown",
   "metadata": {},
   "source": [
    "## Merging on indexes - rows"
   ]
  },
  {
   "cell_type": "code",
   "execution_count": 11,
   "metadata": {},
   "outputs": [
    {
     "name": "stdout",
     "output_type": "stream",
     "text": [
      "  reference  data\n",
      "0         O     0\n",
      "1         U     1\n",
      "2         L     2\n",
      "3         O     3\n",
      "4         U     4\n",
      "   profit\n",
      "O      10\n",
      "U      20\n",
      "  reference  data  profit\n",
      "0         O     0      10\n",
      "3         O     3      10\n",
      "1         U     1      20\n",
      "4         U     4      20\n"
     ]
    }
   ],
   "source": [
    "df_1 = DataFrame({'reference': ['O', 'U','L','O','U'], \n",
    "                     'data':range(5)})\n",
    "print(df_1)\n",
    "\n",
    "df_2 = DataFrame({'profit': [10, 20]}, index = ['O','U'])\n",
    "print(df_2)\n",
    "\n",
    "print(pd.merge(df_1, df_2, left_on='reference', right_index=True))"
   ]
  },
  {
   "cell_type": "code",
   "execution_count": 12,
   "metadata": {},
   "outputs": [
    {
     "name": "stdout",
     "output_type": "stream",
     "text": [
      "  ref1  ref2  ref3\n",
      "0    A     5   0.0\n",
      "1    A    10   1.0\n",
      "2    O    15   2.0\n",
      "3    O    20   3.0\n",
      "4    A    25   4.0\n",
      "  ref1  ref2  ref3\n",
      "0    A    15     2\n",
      "1    A    20     3\n",
      "2    O    25     4\n",
      "3    O    30     5\n",
      "4    O    35     6\n"
     ]
    }
   ],
   "source": [
    "df_3 = DataFrame({'ref1':['A','A','O','O','A'], \n",
    "                  'ref2': [5,10,15,20,25], \n",
    "                  'ref3': np.arange(5.)})\n",
    "print(df_3)\n",
    "\n",
    "df_4 = DataFrame({'ref1':['A','A','O','O','O'], \n",
    "                  'ref2': [15,20,25,30,35], \n",
    "                  'ref3':[2,3,4,5,6]})\n",
    "print(df_4)"
   ]
  },
  {
   "cell_type": "code",
   "execution_count": 13,
   "metadata": {},
   "outputs": [],
   "source": [
    "# print(pd.merge(df_3, df_4, left_on=['ref1','ref2'], right_index=True)) "
   ]
  },
  {
   "cell_type": "code",
   "execution_count": 14,
   "metadata": {},
   "outputs": [
    {
     "name": "stdout",
     "output_type": "stream",
     "text": [
      "  ref1x  ref2x  ref3x ref1y  ref2y  ref3y\n",
      "0     A      5    0.0     A     15      2\n",
      "1     A     10    1.0     A     20      3\n",
      "2     O     15    2.0     O     25      4\n",
      "3     O     20    3.0     O     30      5\n",
      "4     A     25    4.0     O     35      6\n"
     ]
    }
   ],
   "source": [
    "# join functions\n",
    "\n",
    "print(df_3.join(df_4, lsuffix='x', rsuffix='y'))"
   ]
  },
  {
   "cell_type": "markdown",
   "metadata": {},
   "source": [
    "## Concatenation"
   ]
  },
  {
   "cell_type": "code",
   "execution_count": 15,
   "metadata": {},
   "outputs": [
    {
     "name": "stdout",
     "output_type": "stream",
     "text": [
      "[[-1.28557573  0.69066735 -1.13947156 -2.90391716  0.45627614]\n",
      " [ 0.0212049  -0.24086658 -1.13621684  0.73379938  0.43673302]\n",
      " [-0.70025799 -1.19836535  0.86551416  0.45712687 -0.54995556]\n",
      " [-1.40432006  1.37016342  0.35541927 -0.02030833  1.59206378]\n",
      " [ 0.13403064  1.41773868  1.29840541  0.18748752  0.91219775]]\n",
      "[[ 0  1  2  3  4]\n",
      " [ 5  6  7  8  9]\n",
      " [10 11 12 13 14]\n",
      " [15 16 17 18 19]\n",
      " [20 21 22 23 24]]\n"
     ]
    }
   ],
   "source": [
    "A1 = random.randn(25).reshape(5,5)\n",
    "B1 = np.arange(25).reshape(5,5)\n",
    "\n",
    "print(A1)\n",
    "print(B1)"
   ]
  },
  {
   "cell_type": "code",
   "execution_count": 16,
   "metadata": {},
   "outputs": [
    {
     "name": "stdout",
     "output_type": "stream",
     "text": [
      "[[-1.28557573e+00  6.90667350e-01 -1.13947156e+00 -2.90391716e+00\n",
      "   4.56276135e-01  0.00000000e+00  1.00000000e+00  2.00000000e+00\n",
      "   3.00000000e+00  4.00000000e+00]\n",
      " [ 2.12049013e-02 -2.40866583e-01 -1.13621684e+00  7.33799378e-01\n",
      "   4.36733018e-01  5.00000000e+00  6.00000000e+00  7.00000000e+00\n",
      "   8.00000000e+00  9.00000000e+00]\n",
      " [-7.00257989e-01 -1.19836535e+00  8.65514161e-01  4.57126866e-01\n",
      "  -5.49955564e-01  1.00000000e+01  1.10000000e+01  1.20000000e+01\n",
      "   1.30000000e+01  1.40000000e+01]\n",
      " [-1.40432006e+00  1.37016342e+00  3.55419265e-01 -2.03083251e-02\n",
      "   1.59206378e+00  1.50000000e+01  1.60000000e+01  1.70000000e+01\n",
      "   1.80000000e+01  1.90000000e+01]\n",
      " [ 1.34030640e-01  1.41773868e+00  1.29840541e+00  1.87487517e-01\n",
      "   9.12197750e-01  2.00000000e+01  2.10000000e+01  2.20000000e+01\n",
      "   2.30000000e+01  2.40000000e+01]]\n"
     ]
    }
   ],
   "source": [
    "print(np.concatenate([A1, B1], axis=1)) # Concatenate along the columns"
   ]
  },
  {
   "cell_type": "code",
   "execution_count": 17,
   "metadata": {},
   "outputs": [
    {
     "name": "stdout",
     "output_type": "stream",
     "text": [
      "[[-1.28557573e+00  6.90667350e-01 -1.13947156e+00 -2.90391716e+00\n",
      "   4.56276135e-01]\n",
      " [ 2.12049013e-02 -2.40866583e-01 -1.13621684e+00  7.33799378e-01\n",
      "   4.36733018e-01]\n",
      " [-7.00257989e-01 -1.19836535e+00  8.65514161e-01  4.57126866e-01\n",
      "  -5.49955564e-01]\n",
      " [-1.40432006e+00  1.37016342e+00  3.55419265e-01 -2.03083251e-02\n",
      "   1.59206378e+00]\n",
      " [ 1.34030640e-01  1.41773868e+00  1.29840541e+00  1.87487517e-01\n",
      "   9.12197750e-01]\n",
      " [ 0.00000000e+00  1.00000000e+00  2.00000000e+00  3.00000000e+00\n",
      "   4.00000000e+00]\n",
      " [ 5.00000000e+00  6.00000000e+00  7.00000000e+00  8.00000000e+00\n",
      "   9.00000000e+00]\n",
      " [ 1.00000000e+01  1.10000000e+01  1.20000000e+01  1.30000000e+01\n",
      "   1.40000000e+01]\n",
      " [ 1.50000000e+01  1.60000000e+01  1.70000000e+01  1.80000000e+01\n",
      "   1.90000000e+01]\n",
      " [ 2.00000000e+01  2.10000000e+01  2.20000000e+01  2.30000000e+01\n",
      "   2.40000000e+01]]\n"
     ]
    }
   ],
   "source": [
    "print(np.concatenate([A1, B1], axis=0)) # Concatenate along rows"
   ]
  },
  {
   "cell_type": "code",
   "execution_count": 19,
   "metadata": {},
   "outputs": [
    {
     "name": "stdout",
     "output_type": "stream",
     "text": [
      "A    100\n",
      "B    200\n",
      "C    300\n",
      "dtype: int64\n",
      "D    400\n",
      "E    500\n",
      "dtype: int64\n",
      "A    100\n",
      "B    200\n",
      "C    300\n",
      "D    400\n",
      "E    500\n",
      "dtype: int64\n"
     ]
    }
   ],
   "source": [
    "# Concatenation on series\n",
    "\n",
    "s1 = Series([100,200,300], index=['A','B','C'])\n",
    "s2 = Series([400,500], index=['D','E'])\n",
    "\n",
    "print(s1)\n",
    "print(s2)\n",
    "\n",
    "print(pd.concat([s1, s2])) # along the row - axis=0"
   ]
  },
  {
   "cell_type": "code",
   "execution_count": 21,
   "metadata": {},
   "outputs": [
    {
     "name": "stdout",
     "output_type": "stream",
     "text": [
      "       0      1\n",
      "A  100.0    NaN\n",
      "B  200.0    NaN\n",
      "C  300.0    NaN\n",
      "D    NaN  400.0\n",
      "E    NaN  500.0\n"
     ]
    }
   ],
   "source": [
    "print(pd.concat([s1, s2], axis=1, sort=True))"
   ]
  },
  {
   "cell_type": "code",
   "execution_count": 24,
   "metadata": {},
   "outputs": [
    {
     "name": "stdout",
     "output_type": "stream",
     "text": [
      "          A         B         C\n",
      "0  0.449809 -0.009022 -1.047535\n",
      "1  0.396444  0.420040 -1.843292\n",
      "2 -0.045809 -1.073572  0.832906\n",
      "3 -0.224239 -0.762498 -0.627374\n",
      "          B         D         A\n",
      "0 -0.297303 -0.749597  1.550847\n",
      "1  1.683691  0.570828 -1.203645\n",
      "2 -0.402549  1.183753 -0.779556\n",
      "          A         B         C         D\n",
      "0  0.449809 -0.009022 -1.047535       NaN\n",
      "1  0.396444  0.420040 -1.843292       NaN\n",
      "2 -0.045809 -1.073572  0.832906       NaN\n",
      "3 -0.224239 -0.762498 -0.627374       NaN\n",
      "0  1.550847 -0.297303       NaN -0.749597\n",
      "1 -1.203645  1.683691       NaN  0.570828\n",
      "2 -0.779556 -0.402549       NaN  1.183753\n"
     ]
    }
   ],
   "source": [
    "# Concatenation on dataframes\n",
    "\n",
    "df1 = DataFrame(random.randn(4,3), columns=['A','B','C'])\n",
    "df2 = DataFrame(random.randn(3,3), columns=['B','D','A'])\n",
    "\n",
    "print(df1)\n",
    "print(df2)\n",
    "\n",
    "print(pd.concat([df1, df2], sort=True)) "
   ]
  },
  {
   "cell_type": "code",
   "execution_count": 25,
   "metadata": {},
   "outputs": [
    {
     "name": "stdout",
     "output_type": "stream",
     "text": [
      "          A         B         C         D\n",
      "0  0.449809 -0.009022 -1.047535       NaN\n",
      "1  0.396444  0.420040 -1.843292       NaN\n",
      "2 -0.045809 -1.073572  0.832906       NaN\n",
      "3 -0.224239 -0.762498 -0.627374       NaN\n",
      "4  1.550847 -0.297303       NaN -0.749597\n",
      "5 -1.203645  1.683691       NaN  0.570828\n",
      "6 -0.779556 -0.402549       NaN  1.183753\n"
     ]
    }
   ],
   "source": [
    "print(pd.concat([df1, df2], ignore_index=True, sort=True)) # continous indexes"
   ]
  },
  {
   "cell_type": "markdown",
   "metadata": {},
   "source": [
    "## Combine, Stack & Unstack"
   ]
  },
  {
   "cell_type": "code",
   "execution_count": 26,
   "metadata": {},
   "outputs": [
    {
     "name": "stdout",
     "output_type": "stream",
     "text": [
      "A    5.0\n",
      "B    NaN\n",
      "C    6.0\n",
      "D    NaN\n",
      "dtype: float64\n",
      "A    0.0\n",
      "B    1.0\n",
      "C    2.0\n",
      "D    3.0\n",
      "dtype: float64\n"
     ]
    }
   ],
   "source": [
    "s1 = Series([5, np.nan, 6, np.nan], index=['A','B','C','D'])\n",
    "s2 = Series(np.arange(4), dtype=np.float64, index=s1.index)\n",
    "\n",
    "print(s1)\n",
    "print(s2)"
   ]
  },
  {
   "cell_type": "code",
   "execution_count": 31,
   "metadata": {},
   "outputs": [
    {
     "name": "stdout",
     "output_type": "stream",
     "text": [
      "A    5.0\n",
      "B    1.0\n",
      "C    6.0\n",
      "D    3.0\n",
      "dtype: float64\n"
     ]
    }
   ],
   "source": [
    "# Replacing the null values of s1 with the corresponding values of s2\n",
    "\n",
    "s3 = Series(np.where(pd.isnull(s1), s2, s1), \n",
    "            index=s1.index)\n",
    "print(s3)"
   ]
  },
  {
   "cell_type": "code",
   "execution_count": 34,
   "metadata": {},
   "outputs": [
    {
     "name": "stdout",
     "output_type": "stream",
     "text": [
      "A    5.0\n",
      "B    1.0\n",
      "C    6.0\n",
      "D    3.0\n",
      "dtype: float64\n"
     ]
    }
   ],
   "source": [
    "# Using the combine function - same as above, but simpler\n",
    "\n",
    "s4 = s1.combine_first(s2)\n",
    "print(s4)"
   ]
  },
  {
   "cell_type": "code",
   "execution_count": 35,
   "metadata": {},
   "outputs": [
    {
     "name": "stdout",
     "output_type": "stream",
     "text": [
      "   col1  col2  col3\n",
      "0   5.0  20.0   NaN\n",
      "1   NaN  25.0   NaN\n",
      "2  15.0   NaN  35.0\n",
      "   col1  col2\n",
      "0     0    10\n",
      "1    10    20\n",
      "2    20    30\n"
     ]
    }
   ],
   "source": [
    "# With dataframes\n",
    "\n",
    "df_5m = DataFrame({'col1': [5, np.nan, 15], \n",
    "                   'col2': [20, 25, np.nan], \n",
    "                   'col3': [np.nan, np.nan, 35]})\n",
    "\n",
    "df_10m = DataFrame({'col1': [0, 10, 20], \n",
    "                   'col2': [10, 20, 30]})\n",
    "\n",
    "print(df_5m)\n",
    "print(df_10m)"
   ]
  },
  {
   "cell_type": "code",
   "execution_count": 37,
   "metadata": {},
   "outputs": [
    {
     "name": "stdout",
     "output_type": "stream",
     "text": [
      "   col1  col2  col3\n",
      "0   5.0  20.0   NaN\n",
      "1  10.0  25.0   NaN\n",
      "2  15.0  30.0  35.0\n"
     ]
    }
   ],
   "source": [
    "print(df_5m.combine_first(df_10m))"
   ]
  },
  {
   "cell_type": "markdown",
   "metadata": {},
   "source": [
    "## Reshaping"
   ]
  },
  {
   "cell_type": "code",
   "execution_count": 43,
   "metadata": {},
   "outputs": [
    {
     "name": "stdout",
     "output_type": "stream",
     "text": [
      "attributes  c1  c2  c3  c4\n",
      "cabs                      \n",
      "Uber         0   1   2   3\n",
      "Grab         4   5   6   7\n"
     ]
    }
   ],
   "source": [
    "df1 = DataFrame(np.arange(8).reshape(2,4), index=pd.Index(['Uber','Grab'], name='cabs'), \n",
    "                columns=pd.Index(['c1','c2','c3','c4'], name='attributes'))\n",
    "print(df1)"
   ]
  },
  {
   "cell_type": "code",
   "execution_count": 44,
   "metadata": {},
   "outputs": [
    {
     "name": "stdout",
     "output_type": "stream",
     "text": [
      "cabs  attributes\n",
      "Uber  c1            0\n",
      "      c2            1\n",
      "      c3            2\n",
      "      c4            3\n",
      "Grab  c1            4\n",
      "      c2            5\n",
      "      c3            6\n",
      "      c4            7\n",
      "dtype: int64\n"
     ]
    }
   ],
   "source": [
    "# Stacking a dataframe - creating a series from the dataframe\n",
    "\n",
    "stack_df1 = df1.stack()\n",
    "print(stack_df1)"
   ]
  },
  {
   "cell_type": "code",
   "execution_count": 45,
   "metadata": {},
   "outputs": [
    {
     "name": "stdout",
     "output_type": "stream",
     "text": [
      "attributes  c1  c2  c3  c4\n",
      "cabs                      \n",
      "Uber         0   1   2   3\n",
      "Grab         4   5   6   7\n"
     ]
    }
   ],
   "source": [
    "# Unstacking\n",
    "\n",
    "unstack_df1 = stack_df1.unstack()\n",
    "print(unstack_df1)"
   ]
  },
  {
   "cell_type": "code",
   "execution_count": 41,
   "metadata": {},
   "outputs": [
    {
     "name": "stdout",
     "output_type": "stream",
     "text": [
      "attributes  cabs\n",
      "c1          Uber    0\n",
      "            Grab    4\n",
      "c2          Uber    1\n",
      "            Grab    5\n",
      "c3          Uber    2\n",
      "            Grab    6\n",
      "c4          Uber    3\n",
      "            Grab    7\n",
      "dtype: int64\n"
     ]
    }
   ],
   "source": [
    "df3 = df1.unstack('cabs')\n",
    "print(df3)"
   ]
  },
  {
   "cell_type": "code",
   "execution_count": 47,
   "metadata": {},
   "outputs": [],
   "source": [
    "# df4 = df1.unstack('attributes')\n",
    "# print(df4)"
   ]
  },
  {
   "cell_type": "code",
   "execution_count": 48,
   "metadata": {},
   "outputs": [
    {
     "name": "stdout",
     "output_type": "stream",
     "text": [
      "k1  A     5\n",
      "    B    10\n",
      "    C    15\n",
      "k2  B    15\n",
      "    C    20\n",
      "    D    25\n",
      "dtype: int64\n"
     ]
    }
   ],
   "source": [
    "# On Series\n",
    "\n",
    "s1 = Series([5,10,15], index=['A','B','C'])\n",
    "s2 = Series([15,20,25], index=['B','C','D'])\n",
    "\n",
    "s3 = pd.concat([s1, s2], keys=['k1','k2'])\n",
    "print(s3)"
   ]
  },
  {
   "cell_type": "code",
   "execution_count": 49,
   "metadata": {},
   "outputs": [
    {
     "name": "stdout",
     "output_type": "stream",
     "text": [
      "      A     B     C     D\n",
      "k1  5.0  10.0  15.0   NaN\n",
      "k2  NaN  15.0  20.0  25.0\n"
     ]
    }
   ],
   "source": [
    "df5 = s3.unstack()\n",
    "print(df5)"
   ]
  },
  {
   "cell_type": "code",
   "execution_count": 50,
   "metadata": {},
   "outputs": [
    {
     "name": "stdout",
     "output_type": "stream",
     "text": [
      "k1  A     5.0\n",
      "    B    10.0\n",
      "    C    15.0\n",
      "k2  B    15.0\n",
      "    C    20.0\n",
      "    D    25.0\n",
      "dtype: float64\n"
     ]
    }
   ],
   "source": [
    "print(df5.stack())"
   ]
  },
  {
   "cell_type": "code",
   "execution_count": 51,
   "metadata": {},
   "outputs": [
    {
     "name": "stdout",
     "output_type": "stream",
     "text": [
      "k1  A     5.0\n",
      "    B    10.0\n",
      "    C    15.0\n",
      "    D     NaN\n",
      "k2  A     NaN\n",
      "    B    15.0\n",
      "    C    20.0\n",
      "    D    25.0\n",
      "dtype: float64\n"
     ]
    }
   ],
   "source": [
    "print(df5.stack(dropna=False))"
   ]
  },
  {
   "cell_type": "markdown",
   "metadata": {},
   "source": [
    "## Pivot Tables"
   ]
  },
  {
   "cell_type": "code",
   "execution_count": 52,
   "metadata": {},
   "outputs": [
    {
     "name": "stdout",
     "output_type": "stream",
     "text": [
      "  Date of sale Sales person Item sold Color of item  Units sold  \\\n",
      "0     10/01/13        Jones  Notebook         Black           8   \n",
      "1     10/02/13       Prince    Laptop           Red           4   \n",
      "2     10/03/13       George     Mouse           Red           6   \n",
      "3     10/04/13        Larry  Notebook         White          10   \n",
      "4     10/05/13        Jones     Mouse         Black           4   \n",
      "\n",
      "   Per unit price  Total price  \n",
      "0           25000       200000  \n",
      "1           35000       140000  \n",
      "2             850         5100  \n",
      "3           27000       270000  \n",
      "4             700         2800  \n"
     ]
    }
   ],
   "source": [
    "url = \"https://en.wikipedia.org/wiki/Pivot_table\"\n",
    "dflist = pd.io.html.read_html(url)\n",
    "df = dflist[0]\n",
    "print(df)"
   ]
  },
  {
   "cell_type": "code",
   "execution_count": 53,
   "metadata": {},
   "outputs": [
    {
     "name": "stdout",
     "output_type": "stream",
     "text": [
      "Sales person  George     Jones     Larry    Prince\n",
      "Date of sale                                      \n",
      "10/01/13         NaN  200000.0       NaN       NaN\n",
      "10/02/13         NaN       NaN       NaN  140000.0\n",
      "10/03/13      5100.0       NaN       NaN       NaN\n",
      "10/04/13         NaN       NaN  270000.0       NaN\n",
      "10/05/13         NaN    2800.0       NaN       NaN\n"
     ]
    }
   ],
   "source": [
    "# pivot table\n",
    "\n",
    "print(df.pivot('Date of sale', 'Sales person', 'Total price'))"
   ]
  },
  {
   "cell_type": "markdown",
   "metadata": {},
   "source": [
    "## Dealing with Duplicates"
   ]
  },
  {
   "cell_type": "code",
   "execution_count": 59,
   "metadata": {},
   "outputs": [
    {
     "name": "stdout",
     "output_type": "stream",
     "text": [
      "   col1  col2\n",
      "0  uber     5\n",
      "1  uber     4\n",
      "2  uber     3\n",
      "3  grab     3\n",
      "4  grab     5\n"
     ]
    }
   ],
   "source": [
    "df = DataFrame({'col1': ['uber','uber','uber','grab','grab'], \n",
    "                'col2': [5,4,3,3,5]})\n",
    "print(df)"
   ]
  },
  {
   "cell_type": "code",
   "execution_count": 60,
   "metadata": {},
   "outputs": [
    {
     "name": "stdout",
     "output_type": "stream",
     "text": [
      "0    False\n",
      "1    False\n",
      "2    False\n",
      "3    False\n",
      "4    False\n",
      "dtype: bool\n"
     ]
    }
   ],
   "source": [
    "# Finding the duplicates\n",
    "\n",
    "print(df.duplicated())"
   ]
  },
  {
   "cell_type": "code",
   "execution_count": 62,
   "metadata": {},
   "outputs": [
    {
     "name": "stdout",
     "output_type": "stream",
     "text": [
      "   col1  col2\n",
      "0  uber     5\n",
      "1  uber     4\n",
      "2  uber     3\n",
      "3  uber     3\n",
      "4  grab     5\n",
      "0    False\n",
      "1    False\n",
      "2    False\n",
      "3     True\n",
      "4    False\n",
      "dtype: bool\n"
     ]
    }
   ],
   "source": [
    "df2 = DataFrame({'col1': ['uber','uber','uber','uber','grab'], \n",
    "                'col2': [5,4,3,3,5]})\n",
    "print(df2)\n",
    "\n",
    "print(df2.duplicated())"
   ]
  },
  {
   "cell_type": "code",
   "execution_count": 63,
   "metadata": {},
   "outputs": [
    {
     "name": "stdout",
     "output_type": "stream",
     "text": [
      "   col1  col2\n",
      "0  uber     5\n",
      "1  uber     4\n",
      "2  uber     3\n",
      "4  grab     5\n"
     ]
    }
   ],
   "source": [
    "# Dropping the duplicates\n",
    "\n",
    "print(df2.drop_duplicates())"
   ]
  },
  {
   "cell_type": "code",
   "execution_count": 64,
   "metadata": {},
   "outputs": [
    {
     "name": "stdout",
     "output_type": "stream",
     "text": [
      "   col1  col2\n",
      "0  uber     5\n",
      "4  grab     5\n"
     ]
    }
   ],
   "source": [
    "# Dropping duplicates in columns\n",
    "\n",
    "print(df2.drop_duplicates(['col1']))"
   ]
  },
  {
   "cell_type": "code",
   "execution_count": 67,
   "metadata": {},
   "outputs": [
    {
     "name": "stdout",
     "output_type": "stream",
     "text": [
      "   col1  col2\n",
      "3  uber     3\n",
      "4  grab     5\n"
     ]
    }
   ],
   "source": [
    "# Keeping the last last value among the duplicates\n",
    "\n",
    "print(df2.drop_duplicates(['col1'], keep='last'))"
   ]
  },
  {
   "cell_type": "markdown",
   "metadata": {},
   "source": [
    "## Mapping in a Dataframe"
   ]
  },
  {
   "cell_type": "code",
   "execution_count": 68,
   "metadata": {},
   "outputs": [
    {
     "name": "stdout",
     "output_type": "stream",
     "text": [
      "       country code\n",
      "0  Afghanistan   93\n",
      "1      Albania  355\n",
      "2      Algeria  213\n"
     ]
    }
   ],
   "source": [
    "df = DataFrame({'country': ['Afghanistan','Albania','Algeria'],\n",
    "               'code': ['93','355','213']})\n",
    "print(df)"
   ]
  },
  {
   "cell_type": "code",
   "execution_count": 69,
   "metadata": {},
   "outputs": [
    {
     "name": "stdout",
     "output_type": "stream",
     "text": [
      "{'Afghanistan': '20', 'Albania': '12.8', 'Algeria': '215'}\n"
     ]
    }
   ],
   "source": [
    "GDP_map = {'Afghanistan': '20', 'Albania': '12.8', 'Algeria': '215'}\n",
    "print(GDP_map)"
   ]
  },
  {
   "cell_type": "code",
   "execution_count": 71,
   "metadata": {},
   "outputs": [
    {
     "name": "stdout",
     "output_type": "stream",
     "text": [
      "       country code   GDP\n",
      "0  Afghanistan   93    20\n",
      "1      Albania  355  12.8\n",
      "2      Algeria  213   215\n"
     ]
    }
   ],
   "source": [
    "df['GDP'] = df['country'].map(GDP_map)\n",
    "print(df)"
   ]
  },
  {
   "cell_type": "markdown",
   "metadata": {},
   "source": [
    "## Replacing values in series"
   ]
  },
  {
   "cell_type": "code",
   "execution_count": 74,
   "metadata": {},
   "outputs": [
    {
     "name": "stdout",
     "output_type": "stream",
     "text": [
      "0    10\n",
      "1    20\n",
      "2    40\n",
      "3    50\n",
      "4    20\n",
      "5    10\n",
      "6    50\n",
      "7    40\n",
      "dtype: int64\n"
     ]
    }
   ],
   "source": [
    "s1 = Series([10,20,40,50,20,10,50,40])\n",
    "print(s1)"
   ]
  },
  {
   "cell_type": "code",
   "execution_count": 76,
   "metadata": {},
   "outputs": [
    {
     "name": "stdout",
     "output_type": "stream",
     "text": [
      "0    10.0\n",
      "1    20.0\n",
      "2    40.0\n",
      "3     NaN\n",
      "4    20.0\n",
      "5    10.0\n",
      "6     NaN\n",
      "7    40.0\n",
      "dtype: float64\n"
     ]
    }
   ],
   "source": [
    "print(s1.replace(50, np.nan)) # replacing 50 with null values"
   ]
  },
  {
   "cell_type": "code",
   "execution_count": 77,
   "metadata": {},
   "outputs": [
    {
     "name": "stdout",
     "output_type": "stream",
     "text": [
      "0    100\n",
      "1    200\n",
      "2     40\n",
      "3    500\n",
      "4    200\n",
      "5    100\n",
      "6    500\n",
      "7     40\n",
      "dtype: int64\n"
     ]
    }
   ],
   "source": [
    "print(s1.replace([10,20,50], [100,200,500])) # replacing multiple values"
   ]
  },
  {
   "cell_type": "code",
   "execution_count": 78,
   "metadata": {},
   "outputs": [
    {
     "name": "stdout",
     "output_type": "stream",
     "text": [
      "0    100.0\n",
      "1      NaN\n",
      "2    400.0\n",
      "3     50.0\n",
      "4      NaN\n",
      "5    100.0\n",
      "6     50.0\n",
      "7    400.0\n",
      "dtype: float64\n"
     ]
    }
   ],
   "source": [
    "print(s1.replace({10:100, 20:np.nan, 40:400})) # replacing values with a dictionary"
   ]
  },
  {
   "cell_type": "markdown",
   "metadata": {},
   "source": [
    "## Renaming Indexes"
   ]
  },
  {
   "cell_type": "code",
   "execution_count": 79,
   "metadata": {},
   "outputs": [
    {
     "name": "stdout",
     "output_type": "stream",
     "text": [
      "       RE  LO  QU  GR  AG\n",
      "UBER    0   1   2   3   4\n",
      "OLA     5   6   7   8   9\n",
      "GRAB   10  11  12  13  14\n",
      "GOJEK  15  16  17  18  19\n",
      "LYFT   20  21  22  23  24\n"
     ]
    }
   ],
   "source": [
    "df = DataFrame(np.arange(25).reshape(5,5), \n",
    "               index=['UBER','OLA','GRAB','GOJEK','LYFT'], \n",
    "               columns=['RE','LO','QU','GR','AG'])\n",
    "print(df)"
   ]
  },
  {
   "cell_type": "code",
   "execution_count": 81,
   "metadata": {},
   "outputs": [
    {
     "name": "stdout",
     "output_type": "stream",
     "text": [
      "       RE  LO  QU  GR  AG\n",
      "uber    0   1   2   3   4\n",
      "ola     5   6   7   8   9\n",
      "grab   10  11  12  13  14\n",
      "gojek  15  16  17  18  19\n",
      "lyft   20  21  22  23  24\n"
     ]
    }
   ],
   "source": [
    "# Using mapping to rename indexes\n",
    "\n",
    "df.index = df.index.map(str.lower) # indexes to lowercase\n",
    "print(df)"
   ]
  },
  {
   "cell_type": "code",
   "execution_count": 84,
   "metadata": {},
   "outputs": [
    {
     "name": "stdout",
     "output_type": "stream",
     "text": [
      "       re  lo  qu  gr  ag\n",
      "Uber    0   1   2   3   4\n",
      "Ola     5   6   7   8   9\n",
      "Grab   10  11  12  13  14\n",
      "Gojek  15  16  17  18  19\n",
      "Lyft   20  21  22  23  24\n"
     ]
    }
   ],
   "source": [
    "# Using the rename method to rename indexes\n",
    "\n",
    "print(df.rename(index=str.title, columns=str.lower))\n"
   ]
  },
  {
   "cell_type": "code",
   "execution_count": 86,
   "metadata": {},
   "outputs": [
    {
     "name": "stdout",
     "output_type": "stream",
     "text": [
      "          Revenue  LO  QU  GR  AG\n",
      "The best        0   1   2   3   4\n",
      "ola             5   6   7   8   9\n",
      "grab           10  11  12  13  14\n",
      "gojek          15  16  17  18  19\n",
      "lyft           20  21  22  23  24\n"
     ]
    }
   ],
   "source": [
    "# Using a dictionary to change indexes\n",
    "\n",
    "print(df.rename(index={'uber':'The best'}, columns={'RE':'Revenue'}))"
   ]
  },
  {
   "cell_type": "code",
   "execution_count": 87,
   "metadata": {},
   "outputs": [
    {
     "name": "stdout",
     "output_type": "stream",
     "text": [
      "          Revenue  LO  QU  GR  AG\n",
      "The best        0   1   2   3   4\n",
      "ola             5   6   7   8   9\n",
      "grab           10  11  12  13  14\n",
      "gojek          15  16  17  18  19\n",
      "lyft           20  21  22  23  24\n"
     ]
    }
   ],
   "source": [
    "# Renaming and saving in memory\n",
    "\n",
    "df.rename(index={'uber':'The best'}, columns={'RE':'Revenue'}, inplace=True)\n",
    "print(df)"
   ]
  },
  {
   "cell_type": "markdown",
   "metadata": {},
   "source": [
    "## Binning Values"
   ]
  },
  {
   "cell_type": "code",
   "execution_count": 88,
   "metadata": {},
   "outputs": [
    {
     "name": "stdout",
     "output_type": "stream",
     "text": [
      "[(0, 10], (0, 10], (0, 10], (0, 10], (10, 20], ..., (30, 40], (30, 40], (40, 50], (40, 50], (40, 50]]\n",
      "Length: 15\n",
      "Categories (5, interval[int64]): [(0, 10] < (10, 20] < (20, 30] < (30, 40] < (40, 50]]\n"
     ]
    }
   ],
   "source": [
    "prime_numbers = [2,3,5,7,11,13,17,19,23,29,31,37,41,43,47]\n",
    "\n",
    "number_bins = [0,10,20,30,40,50]\n",
    "\n",
    "category = pd.cut(prime_numbers, number_bins)\n",
    "\n",
    "print(category)"
   ]
  },
  {
   "cell_type": "code",
   "execution_count": 89,
   "metadata": {},
   "outputs": [
    {
     "name": "stdout",
     "output_type": "stream",
     "text": [
      "IntervalIndex([(0, 10], (10, 20], (20, 30], (30, 40], (40, 50]],\n",
      "              closed='right',\n",
      "              dtype='interval[int64]')\n"
     ]
    }
   ],
   "source": [
    "print(category.categories)"
   ]
  },
  {
   "cell_type": "code",
   "execution_count": 90,
   "metadata": {},
   "outputs": [
    {
     "name": "stdout",
     "output_type": "stream",
     "text": [
      "(10, 20]    4\n",
      "(0, 10]     4\n",
      "(40, 50]    3\n",
      "(30, 40]    2\n",
      "(20, 30]    2\n",
      "dtype: int64\n"
     ]
    }
   ],
   "source": [
    "print(pd.value_counts(category))"
   ]
  },
  {
   "cell_type": "code",
   "execution_count": 91,
   "metadata": {},
   "outputs": [
    {
     "name": "stdout",
     "output_type": "stream",
     "text": [
      "[(2.0, 17.0], (2.0, 17.0], (2.0, 17.0], (2.0, 17.0], (2.0, 17.0], ..., (17.0, 32.0], (32.0, 47.0], (32.0, 47.0], (32.0, 47.0], (32.0, 47.0]]\n",
      "Length: 15\n",
      "Categories (3, interval[float64]): [(2.0, 17.0] < (17.0, 32.0] < (32.0, 47.0]]\n"
     ]
    }
   ],
   "source": [
    "print(pd.cut(prime_numbers, 3, precision=1))"
   ]
  },
  {
   "cell_type": "markdown",
   "metadata": {},
   "source": [
    "## Observations on Dataframes"
   ]
  },
  {
   "cell_type": "code",
   "execution_count": 93,
   "metadata": {},
   "outputs": [
    {
     "name": "stdout",
     "output_type": "stream",
     "text": [
      "            0         1         2         3         4\n",
      "0    0.016981  0.507002 -0.007224 -0.124253  1.019130\n",
      "1    0.921940  2.584330 -0.150516 -1.066901  1.543648\n",
      "2   -0.607158  1.192339 -0.074251 -0.196025  1.547812\n",
      "3    0.361329  0.857075  1.091804 -0.583308 -0.793331\n",
      "4    0.760247  0.635524 -0.629203 -0.668640  0.852296\n",
      "..        ...       ...       ...       ...       ...\n",
      "995  1.992026 -0.677164  0.359728 -1.440335 -1.174272\n",
      "996  0.820284  1.107816  0.327750  0.381373 -0.738217\n",
      "997 -1.281891 -0.007687  0.348703  0.538619 -0.924867\n",
      "998 -0.623547 -0.012786 -0.503785 -2.120179  1.053466\n",
      "999 -1.294600  0.149326  0.271470 -0.696224 -0.417560\n",
      "\n",
      "[1000 rows x 5 columns]\n"
     ]
    }
   ],
   "source": [
    "df = DataFrame(np.random.randn(1000,5))\n",
    "print(df)"
   ]
  },
  {
   "cell_type": "code",
   "execution_count": 94,
   "metadata": {},
   "outputs": [
    {
     "data": {
      "text/html": [
       "<div>\n",
       "<style scoped>\n",
       "    .dataframe tbody tr th:only-of-type {\n",
       "        vertical-align: middle;\n",
       "    }\n",
       "\n",
       "    .dataframe tbody tr th {\n",
       "        vertical-align: top;\n",
       "    }\n",
       "\n",
       "    .dataframe thead th {\n",
       "        text-align: right;\n",
       "    }\n",
       "</style>\n",
       "<table border=\"1\" class=\"dataframe\">\n",
       "  <thead>\n",
       "    <tr style=\"text-align: right;\">\n",
       "      <th></th>\n",
       "      <th>0</th>\n",
       "      <th>1</th>\n",
       "      <th>2</th>\n",
       "      <th>3</th>\n",
       "      <th>4</th>\n",
       "    </tr>\n",
       "  </thead>\n",
       "  <tbody>\n",
       "    <tr>\n",
       "      <td>0</td>\n",
       "      <td>0.016981</td>\n",
       "      <td>0.507002</td>\n",
       "      <td>-0.007224</td>\n",
       "      <td>-0.124253</td>\n",
       "      <td>1.019130</td>\n",
       "    </tr>\n",
       "    <tr>\n",
       "      <td>1</td>\n",
       "      <td>0.921940</td>\n",
       "      <td>2.584330</td>\n",
       "      <td>-0.150516</td>\n",
       "      <td>-1.066901</td>\n",
       "      <td>1.543648</td>\n",
       "    </tr>\n",
       "    <tr>\n",
       "      <td>2</td>\n",
       "      <td>-0.607158</td>\n",
       "      <td>1.192339</td>\n",
       "      <td>-0.074251</td>\n",
       "      <td>-0.196025</td>\n",
       "      <td>1.547812</td>\n",
       "    </tr>\n",
       "    <tr>\n",
       "      <td>3</td>\n",
       "      <td>0.361329</td>\n",
       "      <td>0.857075</td>\n",
       "      <td>1.091804</td>\n",
       "      <td>-0.583308</td>\n",
       "      <td>-0.793331</td>\n",
       "    </tr>\n",
       "    <tr>\n",
       "      <td>4</td>\n",
       "      <td>0.760247</td>\n",
       "      <td>0.635524</td>\n",
       "      <td>-0.629203</td>\n",
       "      <td>-0.668640</td>\n",
       "      <td>0.852296</td>\n",
       "    </tr>\n",
       "  </tbody>\n",
       "</table>\n",
       "</div>"
      ],
      "text/plain": [
       "          0         1         2         3         4\n",
       "0  0.016981  0.507002 -0.007224 -0.124253  1.019130\n",
       "1  0.921940  2.584330 -0.150516 -1.066901  1.543648\n",
       "2 -0.607158  1.192339 -0.074251 -0.196025  1.547812\n",
       "3  0.361329  0.857075  1.091804 -0.583308 -0.793331\n",
       "4  0.760247  0.635524 -0.629203 -0.668640  0.852296"
      ]
     },
     "execution_count": 94,
     "metadata": {},
     "output_type": "execute_result"
    }
   ],
   "source": [
    "df.head()"
   ]
  },
  {
   "cell_type": "code",
   "execution_count": 95,
   "metadata": {},
   "outputs": [
    {
     "data": {
      "text/html": [
       "<div>\n",
       "<style scoped>\n",
       "    .dataframe tbody tr th:only-of-type {\n",
       "        vertical-align: middle;\n",
       "    }\n",
       "\n",
       "    .dataframe tbody tr th {\n",
       "        vertical-align: top;\n",
       "    }\n",
       "\n",
       "    .dataframe thead th {\n",
       "        text-align: right;\n",
       "    }\n",
       "</style>\n",
       "<table border=\"1\" class=\"dataframe\">\n",
       "  <thead>\n",
       "    <tr style=\"text-align: right;\">\n",
       "      <th></th>\n",
       "      <th>0</th>\n",
       "      <th>1</th>\n",
       "      <th>2</th>\n",
       "      <th>3</th>\n",
       "      <th>4</th>\n",
       "    </tr>\n",
       "  </thead>\n",
       "  <tbody>\n",
       "    <tr>\n",
       "      <td>995</td>\n",
       "      <td>1.992026</td>\n",
       "      <td>-0.677164</td>\n",
       "      <td>0.359728</td>\n",
       "      <td>-1.440335</td>\n",
       "      <td>-1.174272</td>\n",
       "    </tr>\n",
       "    <tr>\n",
       "      <td>996</td>\n",
       "      <td>0.820284</td>\n",
       "      <td>1.107816</td>\n",
       "      <td>0.327750</td>\n",
       "      <td>0.381373</td>\n",
       "      <td>-0.738217</td>\n",
       "    </tr>\n",
       "    <tr>\n",
       "      <td>997</td>\n",
       "      <td>-1.281891</td>\n",
       "      <td>-0.007687</td>\n",
       "      <td>0.348703</td>\n",
       "      <td>0.538619</td>\n",
       "      <td>-0.924867</td>\n",
       "    </tr>\n",
       "    <tr>\n",
       "      <td>998</td>\n",
       "      <td>-0.623547</td>\n",
       "      <td>-0.012786</td>\n",
       "      <td>-0.503785</td>\n",
       "      <td>-2.120179</td>\n",
       "      <td>1.053466</td>\n",
       "    </tr>\n",
       "    <tr>\n",
       "      <td>999</td>\n",
       "      <td>-1.294600</td>\n",
       "      <td>0.149326</td>\n",
       "      <td>0.271470</td>\n",
       "      <td>-0.696224</td>\n",
       "      <td>-0.417560</td>\n",
       "    </tr>\n",
       "  </tbody>\n",
       "</table>\n",
       "</div>"
      ],
      "text/plain": [
       "            0         1         2         3         4\n",
       "995  1.992026 -0.677164  0.359728 -1.440335 -1.174272\n",
       "996  0.820284  1.107816  0.327750  0.381373 -0.738217\n",
       "997 -1.281891 -0.007687  0.348703  0.538619 -0.924867\n",
       "998 -0.623547 -0.012786 -0.503785 -2.120179  1.053466\n",
       "999 -1.294600  0.149326  0.271470 -0.696224 -0.417560"
      ]
     },
     "execution_count": 95,
     "metadata": {},
     "output_type": "execute_result"
    }
   ],
   "source": [
    "df.tail()"
   ]
  },
  {
   "cell_type": "code",
   "execution_count": 96,
   "metadata": {},
   "outputs": [
    {
     "data": {
      "text/html": [
       "<div>\n",
       "<style scoped>\n",
       "    .dataframe tbody tr th:only-of-type {\n",
       "        vertical-align: middle;\n",
       "    }\n",
       "\n",
       "    .dataframe tbody tr th {\n",
       "        vertical-align: top;\n",
       "    }\n",
       "\n",
       "    .dataframe thead th {\n",
       "        text-align: right;\n",
       "    }\n",
       "</style>\n",
       "<table border=\"1\" class=\"dataframe\">\n",
       "  <thead>\n",
       "    <tr style=\"text-align: right;\">\n",
       "      <th></th>\n",
       "      <th>0</th>\n",
       "      <th>1</th>\n",
       "      <th>2</th>\n",
       "      <th>3</th>\n",
       "      <th>4</th>\n",
       "    </tr>\n",
       "  </thead>\n",
       "  <tbody>\n",
       "    <tr>\n",
       "      <td>count</td>\n",
       "      <td>1000.000000</td>\n",
       "      <td>1000.000000</td>\n",
       "      <td>1000.000000</td>\n",
       "      <td>1000.000000</td>\n",
       "      <td>1000.000000</td>\n",
       "    </tr>\n",
       "    <tr>\n",
       "      <td>mean</td>\n",
       "      <td>-0.025872</td>\n",
       "      <td>0.042529</td>\n",
       "      <td>0.021257</td>\n",
       "      <td>0.000165</td>\n",
       "      <td>0.010334</td>\n",
       "    </tr>\n",
       "    <tr>\n",
       "      <td>std</td>\n",
       "      <td>0.995587</td>\n",
       "      <td>1.021335</td>\n",
       "      <td>1.007767</td>\n",
       "      <td>1.009801</td>\n",
       "      <td>0.986622</td>\n",
       "    </tr>\n",
       "    <tr>\n",
       "      <td>min</td>\n",
       "      <td>-3.767240</td>\n",
       "      <td>-3.626928</td>\n",
       "      <td>-3.840668</td>\n",
       "      <td>-2.958843</td>\n",
       "      <td>-3.148342</td>\n",
       "    </tr>\n",
       "    <tr>\n",
       "      <td>25%</td>\n",
       "      <td>-0.652374</td>\n",
       "      <td>-0.648601</td>\n",
       "      <td>-0.675101</td>\n",
       "      <td>-0.698783</td>\n",
       "      <td>-0.683833</td>\n",
       "    </tr>\n",
       "    <tr>\n",
       "      <td>50%</td>\n",
       "      <td>-0.011248</td>\n",
       "      <td>0.017820</td>\n",
       "      <td>0.042713</td>\n",
       "      <td>-0.003307</td>\n",
       "      <td>-0.021333</td>\n",
       "    </tr>\n",
       "    <tr>\n",
       "      <td>75%</td>\n",
       "      <td>0.641616</td>\n",
       "      <td>0.706591</td>\n",
       "      <td>0.730585</td>\n",
       "      <td>0.663425</td>\n",
       "      <td>0.700501</td>\n",
       "    </tr>\n",
       "    <tr>\n",
       "      <td>max</td>\n",
       "      <td>3.002745</td>\n",
       "      <td>3.035073</td>\n",
       "      <td>3.035147</td>\n",
       "      <td>3.454859</td>\n",
       "      <td>3.213092</td>\n",
       "    </tr>\n",
       "  </tbody>\n",
       "</table>\n",
       "</div>"
      ],
      "text/plain": [
       "                 0            1            2            3            4\n",
       "count  1000.000000  1000.000000  1000.000000  1000.000000  1000.000000\n",
       "mean     -0.025872     0.042529     0.021257     0.000165     0.010334\n",
       "std       0.995587     1.021335     1.007767     1.009801     0.986622\n",
       "min      -3.767240    -3.626928    -3.840668    -2.958843    -3.148342\n",
       "25%      -0.652374    -0.648601    -0.675101    -0.698783    -0.683833\n",
       "50%      -0.011248     0.017820     0.042713    -0.003307    -0.021333\n",
       "75%       0.641616     0.706591     0.730585     0.663425     0.700501\n",
       "max       3.002745     3.035073     3.035147     3.454859     3.213092"
      ]
     },
     "execution_count": 96,
     "metadata": {},
     "output_type": "execute_result"
    }
   ],
   "source": [
    "df.describe()"
   ]
  },
  {
   "cell_type": "code",
   "execution_count": 97,
   "metadata": {},
   "outputs": [
    {
     "data": {
      "text/plain": [
       "0    0.016981\n",
       "1    0.921940\n",
       "2   -0.607158\n",
       "3    0.361329\n",
       "4    0.760247\n",
       "Name: 0, dtype: float64"
      ]
     },
     "execution_count": 97,
     "metadata": {},
     "output_type": "execute_result"
    }
   ],
   "source": [
    "column = df[0]\n",
    "column.head()"
   ]
  },
  {
   "cell_type": "code",
   "execution_count": 99,
   "metadata": {},
   "outputs": [
    {
     "data": {
      "text/plain": [
       "450   -3.097647\n",
       "580    3.002745\n",
       "665   -3.052788\n",
       "694   -3.177054\n",
       "877   -3.767240\n",
       "Name: 0, dtype: float64"
      ]
     },
     "execution_count": 99,
     "metadata": {},
     "output_type": "execute_result"
    }
   ],
   "source": [
    "column[np.abs(column)>3] # only return the elements of the column with an absolute value greater than 3"
   ]
  },
  {
   "cell_type": "code",
   "execution_count": 101,
   "metadata": {},
   "outputs": [
    {
     "data": {
      "text/html": [
       "<div>\n",
       "<style scoped>\n",
       "    .dataframe tbody tr th:only-of-type {\n",
       "        vertical-align: middle;\n",
       "    }\n",
       "\n",
       "    .dataframe tbody tr th {\n",
       "        vertical-align: top;\n",
       "    }\n",
       "\n",
       "    .dataframe thead th {\n",
       "        text-align: right;\n",
       "    }\n",
       "</style>\n",
       "<table border=\"1\" class=\"dataframe\">\n",
       "  <thead>\n",
       "    <tr style=\"text-align: right;\">\n",
       "      <th></th>\n",
       "      <th>0</th>\n",
       "      <th>1</th>\n",
       "      <th>2</th>\n",
       "      <th>3</th>\n",
       "      <th>4</th>\n",
       "    </tr>\n",
       "  </thead>\n",
       "  <tbody>\n",
       "    <tr>\n",
       "      <td>36</td>\n",
       "      <td>0.999154</td>\n",
       "      <td>-0.255100</td>\n",
       "      <td>-0.795448</td>\n",
       "      <td>3.084903</td>\n",
       "      <td>1.075723</td>\n",
       "    </tr>\n",
       "    <tr>\n",
       "      <td>99</td>\n",
       "      <td>-0.319735</td>\n",
       "      <td>-0.514322</td>\n",
       "      <td>1.341787</td>\n",
       "      <td>3.454859</td>\n",
       "      <td>0.236459</td>\n",
       "    </tr>\n",
       "    <tr>\n",
       "      <td>149</td>\n",
       "      <td>0.195969</td>\n",
       "      <td>-1.634706</td>\n",
       "      <td>0.550443</td>\n",
       "      <td>0.632452</td>\n",
       "      <td>-3.019441</td>\n",
       "    </tr>\n",
       "    <tr>\n",
       "      <td>238</td>\n",
       "      <td>1.271800</td>\n",
       "      <td>0.215127</td>\n",
       "      <td>-0.266239</td>\n",
       "      <td>3.100657</td>\n",
       "      <td>0.114898</td>\n",
       "    </tr>\n",
       "    <tr>\n",
       "      <td>450</td>\n",
       "      <td>-3.097647</td>\n",
       "      <td>-2.302262</td>\n",
       "      <td>-0.987600</td>\n",
       "      <td>0.525611</td>\n",
       "      <td>-1.140636</td>\n",
       "    </tr>\n",
       "    <tr>\n",
       "      <td>497</td>\n",
       "      <td>1.387693</td>\n",
       "      <td>0.424668</td>\n",
       "      <td>-0.153097</td>\n",
       "      <td>-0.101404</td>\n",
       "      <td>-3.148342</td>\n",
       "    </tr>\n",
       "    <tr>\n",
       "      <td>531</td>\n",
       "      <td>0.181724</td>\n",
       "      <td>-3.626928</td>\n",
       "      <td>-0.739751</td>\n",
       "      <td>1.334598</td>\n",
       "      <td>0.194981</td>\n",
       "    </tr>\n",
       "    <tr>\n",
       "      <td>580</td>\n",
       "      <td>3.002745</td>\n",
       "      <td>-0.270272</td>\n",
       "      <td>-1.736167</td>\n",
       "      <td>0.432572</td>\n",
       "      <td>-0.502366</td>\n",
       "    </tr>\n",
       "    <tr>\n",
       "      <td>665</td>\n",
       "      <td>-3.052788</td>\n",
       "      <td>1.260302</td>\n",
       "      <td>0.270334</td>\n",
       "      <td>-0.767722</td>\n",
       "      <td>0.019066</td>\n",
       "    </tr>\n",
       "    <tr>\n",
       "      <td>667</td>\n",
       "      <td>-2.047453</td>\n",
       "      <td>0.855645</td>\n",
       "      <td>-0.233430</td>\n",
       "      <td>0.071285</td>\n",
       "      <td>3.213092</td>\n",
       "    </tr>\n",
       "    <tr>\n",
       "      <td>694</td>\n",
       "      <td>-3.177054</td>\n",
       "      <td>-0.777920</td>\n",
       "      <td>0.454123</td>\n",
       "      <td>-0.251193</td>\n",
       "      <td>0.574748</td>\n",
       "    </tr>\n",
       "    <tr>\n",
       "      <td>695</td>\n",
       "      <td>0.487272</td>\n",
       "      <td>-0.533004</td>\n",
       "      <td>-3.840668</td>\n",
       "      <td>-0.363238</td>\n",
       "      <td>0.385782</td>\n",
       "    </tr>\n",
       "    <tr>\n",
       "      <td>723</td>\n",
       "      <td>1.149568</td>\n",
       "      <td>3.035073</td>\n",
       "      <td>0.560006</td>\n",
       "      <td>-0.365288</td>\n",
       "      <td>1.274071</td>\n",
       "    </tr>\n",
       "    <tr>\n",
       "      <td>859</td>\n",
       "      <td>1.038773</td>\n",
       "      <td>-3.130095</td>\n",
       "      <td>-0.353724</td>\n",
       "      <td>0.859275</td>\n",
       "      <td>-0.228161</td>\n",
       "    </tr>\n",
       "    <tr>\n",
       "      <td>877</td>\n",
       "      <td>-3.767240</td>\n",
       "      <td>-0.338669</td>\n",
       "      <td>-0.873236</td>\n",
       "      <td>-0.773204</td>\n",
       "      <td>0.282111</td>\n",
       "    </tr>\n",
       "    <tr>\n",
       "      <td>878</td>\n",
       "      <td>-1.928072</td>\n",
       "      <td>1.680427</td>\n",
       "      <td>3.035147</td>\n",
       "      <td>0.391580</td>\n",
       "      <td>-1.259983</td>\n",
       "    </tr>\n",
       "    <tr>\n",
       "      <td>880</td>\n",
       "      <td>0.451108</td>\n",
       "      <td>0.546453</td>\n",
       "      <td>-3.630070</td>\n",
       "      <td>-1.840954</td>\n",
       "      <td>-1.299969</td>\n",
       "    </tr>\n",
       "  </tbody>\n",
       "</table>\n",
       "</div>"
      ],
      "text/plain": [
       "            0         1         2         3         4\n",
       "36   0.999154 -0.255100 -0.795448  3.084903  1.075723\n",
       "99  -0.319735 -0.514322  1.341787  3.454859  0.236459\n",
       "149  0.195969 -1.634706  0.550443  0.632452 -3.019441\n",
       "238  1.271800  0.215127 -0.266239  3.100657  0.114898\n",
       "450 -3.097647 -2.302262 -0.987600  0.525611 -1.140636\n",
       "497  1.387693  0.424668 -0.153097 -0.101404 -3.148342\n",
       "531  0.181724 -3.626928 -0.739751  1.334598  0.194981\n",
       "580  3.002745 -0.270272 -1.736167  0.432572 -0.502366\n",
       "665 -3.052788  1.260302  0.270334 -0.767722  0.019066\n",
       "667 -2.047453  0.855645 -0.233430  0.071285  3.213092\n",
       "694 -3.177054 -0.777920  0.454123 -0.251193  0.574748\n",
       "695  0.487272 -0.533004 -3.840668 -0.363238  0.385782\n",
       "723  1.149568  3.035073  0.560006 -0.365288  1.274071\n",
       "859  1.038773 -3.130095 -0.353724  0.859275 -0.228161\n",
       "877 -3.767240 -0.338669 -0.873236 -0.773204  0.282111\n",
       "878 -1.928072  1.680427  3.035147  0.391580 -1.259983\n",
       "880  0.451108  0.546453 -3.630070 -1.840954 -1.299969"
      ]
     },
     "execution_count": 101,
     "metadata": {},
     "output_type": "execute_result"
    }
   ],
   "source": [
    "# return all the rows of the dataframe where at least 1 element has an absolute value greater than 3\n",
    "df[(np.abs(df)>3).any(1)] "
   ]
  },
  {
   "cell_type": "code",
   "execution_count": null,
   "metadata": {},
   "outputs": [],
   "source": []
  },
  {
   "cell_type": "code",
   "execution_count": null,
   "metadata": {},
   "outputs": [],
   "source": []
  }
 ],
 "metadata": {
  "kernelspec": {
   "display_name": "Python 3",
   "language": "python",
   "name": "python3"
  },
  "language_info": {
   "codemirror_mode": {
    "name": "ipython",
    "version": 3
   },
   "file_extension": ".py",
   "mimetype": "text/x-python",
   "name": "python",
   "nbconvert_exporter": "python",
   "pygments_lexer": "ipython3",
   "version": "3.7.4"
  }
 },
 "nbformat": 4,
 "nbformat_minor": 2
}
