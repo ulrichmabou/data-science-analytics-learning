{
 "cells": [
  {
   "cell_type": "markdown",
   "metadata": {},
   "source": [
    "## Load the dataset - iris flowers"
   ]
  },
  {
   "cell_type": "code",
   "execution_count": 1,
   "metadata": {},
   "outputs": [
    {
     "data": {
      "text/plain": [
       "sklearn.utils.Bunch"
      ]
     },
     "execution_count": 1,
     "metadata": {},
     "output_type": "execute_result"
    }
   ],
   "source": [
    "from sklearn.datasets import load_iris\n",
    "\n",
    "iris = load_iris()\n",
    "type(iris)"
   ]
  },
  {
   "cell_type": "code",
   "execution_count": 2,
   "metadata": {},
   "outputs": [
    {
     "name": "stdout",
     "output_type": "stream",
     "text": [
      "['sepal length (cm)', 'sepal width (cm)', 'petal length (cm)', 'petal width (cm)']\n"
     ]
    }
   ],
   "source": [
    "print(iris.feature_names)"
   ]
  },
  {
   "cell_type": "code",
   "execution_count": 3,
   "metadata": {},
   "outputs": [
    {
     "name": "stdout",
     "output_type": "stream",
     "text": [
      "['setosa' 'versicolor' 'virginica']\n"
     ]
    }
   ],
   "source": [
    "print(iris.target_names)"
   ]
  },
  {
   "cell_type": "code",
   "execution_count": 4,
   "metadata": {},
   "outputs": [
    {
     "name": "stdout",
     "output_type": "stream",
     "text": [
      "[0 0 0 0 0 0 0 0 0 0 0 0 0 0 0 0 0 0 0 0 0 0 0 0 0 0 0 0 0 0 0 0 0 0 0 0 0\n",
      " 0 0 0 0 0 0 0 0 0 0 0 0 0 1 1 1 1 1 1 1 1 1 1 1 1 1 1 1 1 1 1 1 1 1 1 1 1\n",
      " 1 1 1 1 1 1 1 1 1 1 1 1 1 1 1 1 1 1 1 1 1 1 1 1 1 1 2 2 2 2 2 2 2 2 2 2 2\n",
      " 2 2 2 2 2 2 2 2 2 2 2 2 2 2 2 2 2 2 2 2 2 2 2 2 2 2 2 2 2 2 2 2 2 2 2 2 2\n",
      " 2 2]\n"
     ]
    }
   ],
   "source": [
    "print(iris.target)"
   ]
  },
  {
   "cell_type": "code",
   "execution_count": 5,
   "metadata": {},
   "outputs": [
    {
     "name": "stdout",
     "output_type": "stream",
     "text": [
      "[[5.1 3.5 1.4 0.2]\n",
      " [4.9 3.  1.4 0.2]\n",
      " [4.7 3.2 1.3 0.2]\n",
      " [4.6 3.1 1.5 0.2]\n",
      " [5.  3.6 1.4 0.2]\n",
      " [5.4 3.9 1.7 0.4]\n",
      " [4.6 3.4 1.4 0.3]\n",
      " [5.  3.4 1.5 0.2]\n",
      " [4.4 2.9 1.4 0.2]\n",
      " [4.9 3.1 1.5 0.1]\n",
      " [5.4 3.7 1.5 0.2]\n",
      " [4.8 3.4 1.6 0.2]\n",
      " [4.8 3.  1.4 0.1]\n",
      " [4.3 3.  1.1 0.1]\n",
      " [5.8 4.  1.2 0.2]\n",
      " [5.7 4.4 1.5 0.4]\n",
      " [5.4 3.9 1.3 0.4]\n",
      " [5.1 3.5 1.4 0.3]\n",
      " [5.7 3.8 1.7 0.3]\n",
      " [5.1 3.8 1.5 0.3]\n",
      " [5.4 3.4 1.7 0.2]\n",
      " [5.1 3.7 1.5 0.4]\n",
      " [4.6 3.6 1.  0.2]\n",
      " [5.1 3.3 1.7 0.5]\n",
      " [4.8 3.4 1.9 0.2]\n",
      " [5.  3.  1.6 0.2]\n",
      " [5.  3.4 1.6 0.4]\n",
      " [5.2 3.5 1.5 0.2]\n",
      " [5.2 3.4 1.4 0.2]\n",
      " [4.7 3.2 1.6 0.2]\n",
      " [4.8 3.1 1.6 0.2]\n",
      " [5.4 3.4 1.5 0.4]\n",
      " [5.2 4.1 1.5 0.1]\n",
      " [5.5 4.2 1.4 0.2]\n",
      " [4.9 3.1 1.5 0.2]\n",
      " [5.  3.2 1.2 0.2]\n",
      " [5.5 3.5 1.3 0.2]\n",
      " [4.9 3.6 1.4 0.1]\n",
      " [4.4 3.  1.3 0.2]\n",
      " [5.1 3.4 1.5 0.2]\n",
      " [5.  3.5 1.3 0.3]\n",
      " [4.5 2.3 1.3 0.3]\n",
      " [4.4 3.2 1.3 0.2]\n",
      " [5.  3.5 1.6 0.6]\n",
      " [5.1 3.8 1.9 0.4]\n",
      " [4.8 3.  1.4 0.3]\n",
      " [5.1 3.8 1.6 0.2]\n",
      " [4.6 3.2 1.4 0.2]\n",
      " [5.3 3.7 1.5 0.2]\n",
      " [5.  3.3 1.4 0.2]\n",
      " [7.  3.2 4.7 1.4]\n",
      " [6.4 3.2 4.5 1.5]\n",
      " [6.9 3.1 4.9 1.5]\n",
      " [5.5 2.3 4.  1.3]\n",
      " [6.5 2.8 4.6 1.5]\n",
      " [5.7 2.8 4.5 1.3]\n",
      " [6.3 3.3 4.7 1.6]\n",
      " [4.9 2.4 3.3 1. ]\n",
      " [6.6 2.9 4.6 1.3]\n",
      " [5.2 2.7 3.9 1.4]\n",
      " [5.  2.  3.5 1. ]\n",
      " [5.9 3.  4.2 1.5]\n",
      " [6.  2.2 4.  1. ]\n",
      " [6.1 2.9 4.7 1.4]\n",
      " [5.6 2.9 3.6 1.3]\n",
      " [6.7 3.1 4.4 1.4]\n",
      " [5.6 3.  4.5 1.5]\n",
      " [5.8 2.7 4.1 1. ]\n",
      " [6.2 2.2 4.5 1.5]\n",
      " [5.6 2.5 3.9 1.1]\n",
      " [5.9 3.2 4.8 1.8]\n",
      " [6.1 2.8 4.  1.3]\n",
      " [6.3 2.5 4.9 1.5]\n",
      " [6.1 2.8 4.7 1.2]\n",
      " [6.4 2.9 4.3 1.3]\n",
      " [6.6 3.  4.4 1.4]\n",
      " [6.8 2.8 4.8 1.4]\n",
      " [6.7 3.  5.  1.7]\n",
      " [6.  2.9 4.5 1.5]\n",
      " [5.7 2.6 3.5 1. ]\n",
      " [5.5 2.4 3.8 1.1]\n",
      " [5.5 2.4 3.7 1. ]\n",
      " [5.8 2.7 3.9 1.2]\n",
      " [6.  2.7 5.1 1.6]\n",
      " [5.4 3.  4.5 1.5]\n",
      " [6.  3.4 4.5 1.6]\n",
      " [6.7 3.1 4.7 1.5]\n",
      " [6.3 2.3 4.4 1.3]\n",
      " [5.6 3.  4.1 1.3]\n",
      " [5.5 2.5 4.  1.3]\n",
      " [5.5 2.6 4.4 1.2]\n",
      " [6.1 3.  4.6 1.4]\n",
      " [5.8 2.6 4.  1.2]\n",
      " [5.  2.3 3.3 1. ]\n",
      " [5.6 2.7 4.2 1.3]\n",
      " [5.7 3.  4.2 1.2]\n",
      " [5.7 2.9 4.2 1.3]\n",
      " [6.2 2.9 4.3 1.3]\n",
      " [5.1 2.5 3.  1.1]\n",
      " [5.7 2.8 4.1 1.3]\n",
      " [6.3 3.3 6.  2.5]\n",
      " [5.8 2.7 5.1 1.9]\n",
      " [7.1 3.  5.9 2.1]\n",
      " [6.3 2.9 5.6 1.8]\n",
      " [6.5 3.  5.8 2.2]\n",
      " [7.6 3.  6.6 2.1]\n",
      " [4.9 2.5 4.5 1.7]\n",
      " [7.3 2.9 6.3 1.8]\n",
      " [6.7 2.5 5.8 1.8]\n",
      " [7.2 3.6 6.1 2.5]\n",
      " [6.5 3.2 5.1 2. ]\n",
      " [6.4 2.7 5.3 1.9]\n",
      " [6.8 3.  5.5 2.1]\n",
      " [5.7 2.5 5.  2. ]\n",
      " [5.8 2.8 5.1 2.4]\n",
      " [6.4 3.2 5.3 2.3]\n",
      " [6.5 3.  5.5 1.8]\n",
      " [7.7 3.8 6.7 2.2]\n",
      " [7.7 2.6 6.9 2.3]\n",
      " [6.  2.2 5.  1.5]\n",
      " [6.9 3.2 5.7 2.3]\n",
      " [5.6 2.8 4.9 2. ]\n",
      " [7.7 2.8 6.7 2. ]\n",
      " [6.3 2.7 4.9 1.8]\n",
      " [6.7 3.3 5.7 2.1]\n",
      " [7.2 3.2 6.  1.8]\n",
      " [6.2 2.8 4.8 1.8]\n",
      " [6.1 3.  4.9 1.8]\n",
      " [6.4 2.8 5.6 2.1]\n",
      " [7.2 3.  5.8 1.6]\n",
      " [7.4 2.8 6.1 1.9]\n",
      " [7.9 3.8 6.4 2. ]\n",
      " [6.4 2.8 5.6 2.2]\n",
      " [6.3 2.8 5.1 1.5]\n",
      " [6.1 2.6 5.6 1.4]\n",
      " [7.7 3.  6.1 2.3]\n",
      " [6.3 3.4 5.6 2.4]\n",
      " [6.4 3.1 5.5 1.8]\n",
      " [6.  3.  4.8 1.8]\n",
      " [6.9 3.1 5.4 2.1]\n",
      " [6.7 3.1 5.6 2.4]\n",
      " [6.9 3.1 5.1 2.3]\n",
      " [5.8 2.7 5.1 1.9]\n",
      " [6.8 3.2 5.9 2.3]\n",
      " [6.7 3.3 5.7 2.5]\n",
      " [6.7 3.  5.2 2.3]\n",
      " [6.3 2.5 5.  1.9]\n",
      " [6.5 3.  5.2 2. ]\n",
      " [6.2 3.4 5.4 2.3]\n",
      " [5.9 3.  5.1 1.8]]\n"
     ]
    }
   ],
   "source": [
    "print(iris.data)"
   ]
  },
  {
   "cell_type": "code",
   "execution_count": 6,
   "metadata": {},
   "outputs": [
    {
     "name": "stdout",
     "output_type": "stream",
     "text": [
      "<class 'numpy.ndarray'>\n"
     ]
    }
   ],
   "source": [
    "print(type(iris.data))"
   ]
  },
  {
   "cell_type": "code",
   "execution_count": 7,
   "metadata": {},
   "outputs": [
    {
     "name": "stdout",
     "output_type": "stream",
     "text": [
      "<class 'numpy.ndarray'>\n"
     ]
    }
   ],
   "source": [
    "print(type(iris.target))"
   ]
  },
  {
   "cell_type": "code",
   "execution_count": 8,
   "metadata": {},
   "outputs": [],
   "source": [
    "# Features and target\n",
    "\n",
    "X = iris.data\n",
    "\n",
    "y = iris.target"
   ]
  },
  {
   "cell_type": "markdown",
   "metadata": {},
   "source": [
    "## KNN Algorithm - k-Nearest Neighbors"
   ]
  },
  {
   "cell_type": "code",
   "execution_count": 11,
   "metadata": {},
   "outputs": [
    {
     "name": "stdout",
     "output_type": "stream",
     "text": [
      "KNeighborsClassifier(algorithm='auto', leaf_size=30, metric='minkowski',\n",
      "                     metric_params=None, n_jobs=None, n_neighbors=1, p=2,\n",
      "                     weights='uniform')\n"
     ]
    }
   ],
   "source": [
    "from sklearn.neighbors import KNeighborsClassifier\n",
    "knn = KNeighborsClassifier(n_neighbors=1)\n",
    "print(knn)"
   ]
  },
  {
   "cell_type": "code",
   "execution_count": 12,
   "metadata": {},
   "outputs": [
    {
     "data": {
      "text/plain": [
       "KNeighborsClassifier(algorithm='auto', leaf_size=30, metric='minkowski',\n",
       "                     metric_params=None, n_jobs=None, n_neighbors=1, p=2,\n",
       "                     weights='uniform')"
      ]
     },
     "execution_count": 12,
     "metadata": {},
     "output_type": "execute_result"
    }
   ],
   "source": [
    "# Fitting the model\n",
    "\n",
    "knn.fit(X, y)"
   ]
  },
  {
   "cell_type": "code",
   "execution_count": 17,
   "metadata": {},
   "outputs": [
    {
     "name": "stdout",
     "output_type": "stream",
     "text": [
      "[0]\n",
      "['setosa' 'versicolor' 'virginica']\n"
     ]
    }
   ],
   "source": [
    "# Making a prediction\n",
    "\n",
    "prediction = knn.predict([[2,4,3,1]])\n",
    "\n",
    "print(prediction)\n",
    "# type(prediction)\n",
    "print(iris.target_names) # 0 > 'setosa'"
   ]
  },
  {
   "cell_type": "code",
   "execution_count": 19,
   "metadata": {},
   "outputs": [
    {
     "name": "stdout",
     "output_type": "stream",
     "text": [
      "[0 2]\n"
     ]
    }
   ],
   "source": [
    "predictions = knn.predict([[2,4,3,1],[4,6,5,3]])\n",
    "\n",
    "print(predictions) # 0 > setosa, 1 > versicolor, 2 > virginica"
   ]
  },
  {
   "cell_type": "code",
   "execution_count": 20,
   "metadata": {},
   "outputs": [
    {
     "name": "stdout",
     "output_type": "stream",
     "text": [
      "KNeighborsClassifier(algorithm='auto', leaf_size=30, metric='minkowski',\n",
      "                     metric_params=None, n_jobs=None, n_neighbors=5, p=2,\n",
      "                     weights='uniform')\n"
     ]
    }
   ],
   "source": [
    "# Changing the number of neighbors\n",
    "\n",
    "knn_5 = KNeighborsClassifier(n_neighbors=5)\n",
    "print(knn_5)"
   ]
  },
  {
   "cell_type": "code",
   "execution_count": 21,
   "metadata": {},
   "outputs": [
    {
     "name": "stdout",
     "output_type": "stream",
     "text": [
      "[0]\n"
     ]
    }
   ],
   "source": [
    "knn_5.fit(X, y)\n",
    "\n",
    "prediction = knn_5.predict([[2,4,3,1]])\n",
    "\n",
    "print(prediction)"
   ]
  },
  {
   "cell_type": "code",
   "execution_count": 23,
   "metadata": {},
   "outputs": [
    {
     "name": "stdout",
     "output_type": "stream",
     "text": [
      "[0 1]\n"
     ]
    }
   ],
   "source": [
    "predictions = knn_5.predict([[2,4,3,1],[4,6,5,3]]) # Same inputs as above - different prediction for the second\n",
    "\n",
    "print(predictions) # 0 > setosa, 1 > versicolor, 2 > virginica"
   ]
  },
  {
   "cell_type": "code",
   "execution_count": 24,
   "metadata": {},
   "outputs": [
    {
     "name": "stdout",
     "output_type": "stream",
     "text": [
      "[0 2]\n"
     ]
    }
   ],
   "source": [
    "# For 8 neighbors\n",
    "\n",
    "knn_8 = KNeighborsClassifier(n_neighbors=8)\n",
    "\n",
    "knn_8.fit(X, y)\n",
    "\n",
    "predictions = knn_8.predict([[2,4,3,1],[4,6,5,3]])\n",
    "\n",
    "print(predictions)\n"
   ]
  },
  {
   "cell_type": "code",
   "execution_count": 29,
   "metadata": {},
   "outputs": [
    {
     "name": "stdout",
     "output_type": "stream",
     "text": [
      "Predictions for 1 neighbors: [0 2]\n",
      "Predictions for 2 neighbors: [0 2]\n",
      "Predictions for 3 neighbors: [0 2]\n",
      "Predictions for 4 neighbors: [0 1]\n",
      "Predictions for 5 neighbors: [0 1]\n",
      "Predictions for 6 neighbors: [0 1]\n",
      "Predictions for 7 neighbors: [0 2]\n",
      "Predictions for 8 neighbors: [0 2]\n",
      "Predictions for 9 neighbors: [0 2]\n",
      "Predictions for 10 neighbors: [0 2]\n",
      "Predictions for 11 neighbors: [0 2]\n",
      "Predictions for 12 neighbors: [0 2]\n",
      "Predictions for 13 neighbors: [0 2]\n",
      "Predictions for 14 neighbors: [0 2]\n",
      "Predictions for 15 neighbors: [0 2]\n",
      "Predictions for 16 neighbors: [0 2]\n",
      "Predictions for 17 neighbors: [0 2]\n",
      "Predictions for 18 neighbors: [0 2]\n",
      "Predictions for 19 neighbors: [0 2]\n",
      "Predictions for 20 neighbors: [0 2]\n",
      "Predictions for 21 neighbors: [0 2]\n",
      "Predictions for 22 neighbors: [0 2]\n",
      "Predictions for 23 neighbors: [0 2]\n",
      "Predictions for 24 neighbors: [0 2]\n",
      "Predictions for 25 neighbors: [0 2]\n",
      "Predictions for 26 neighbors: [0 2]\n",
      "Predictions for 27 neighbors: [0 2]\n",
      "Predictions for 28 neighbors: [0 2]\n",
      "Predictions for 29 neighbors: [0 2]\n",
      "Predictions for 30 neighbors: [0 2]\n"
     ]
    }
   ],
   "source": [
    "# n from 1 to 30\n",
    "\n",
    "for n in range (1, 31):\n",
    "    knn = KNeighborsClassifier(n_neighbors=n)\n",
    "    knn.fit(X, y)\n",
    "    predictions = knn.predict([[2,4,3,1],[4,6,5,3]])\n",
    "    print(f'Predictions for {n} neighbors:', predictions)"
   ]
  },
  {
   "cell_type": "markdown",
   "metadata": {},
   "source": [
    "## Logistic Regression"
   ]
  },
  {
   "cell_type": "code",
   "execution_count": 33,
   "metadata": {},
   "outputs": [
    {
     "data": {
      "text/plain": [
       "LogisticRegression(C=1.0, class_weight=None, dual=False, fit_intercept=True,\n",
       "                   intercept_scaling=1, l1_ratio=None, max_iter=100,\n",
       "                   multi_class='ovr', n_jobs=None, penalty='l2',\n",
       "                   random_state=None, solver='liblinear', tol=0.0001, verbose=0,\n",
       "                   warm_start=False)"
      ]
     },
     "execution_count": 33,
     "metadata": {},
     "output_type": "execute_result"
    }
   ],
   "source": [
    "from sklearn.linear_model import LogisticRegression\n",
    "\n",
    "l_reg = LogisticRegression(solver='liblinear', multi_class='ovr')\n",
    "\n",
    "l_reg.fit(X, y)"
   ]
  },
  {
   "cell_type": "code",
   "execution_count": 37,
   "metadata": {},
   "outputs": [
    {
     "name": "stdout",
     "output_type": "stream",
     "text": [
      "[2 2]\n",
      "['setosa' 'versicolor' 'virginica']\n"
     ]
    }
   ],
   "source": [
    "predictions_lr = l_reg.predict([[2,4,3,1],[4,6,5,3]])\n",
    "print(predictions_lr)\n",
    "\n",
    "print(iris.target_names)"
   ]
  },
  {
   "cell_type": "markdown",
   "metadata": {},
   "source": [
    "## Validation Using Model Selection"
   ]
  },
  {
   "cell_type": "code",
   "execution_count": 48,
   "metadata": {},
   "outputs": [],
   "source": [
    "# Train_Test_Split\n",
    "\n",
    "from sklearn.model_selection import train_test_split\n",
    "\n",
    "X_train,X_test, y_train, y_test = train_test_split(X, y, test_size = 0.4, random_state=4)"
   ]
  },
  {
   "cell_type": "code",
   "execution_count": 49,
   "metadata": {},
   "outputs": [
    {
     "name": "stdout",
     "output_type": "stream",
     "text": [
      "(150, 4)\n",
      "(90, 4)\n",
      "(60, 4)\n"
     ]
    }
   ],
   "source": [
    "print(X.shape)\n",
    "print(X_train.shape)\n",
    "print(X_test.shape)"
   ]
  },
  {
   "cell_type": "code",
   "execution_count": 50,
   "metadata": {},
   "outputs": [
    {
     "name": "stdout",
     "output_type": "stream",
     "text": [
      "(150,)\n",
      "(90,)\n",
      "(60,)\n"
     ]
    }
   ],
   "source": [
    "print(y.shape)\n",
    "print(y_train.shape)\n",
    "print(y_test.shape)"
   ]
  },
  {
   "cell_type": "code",
   "execution_count": 51,
   "metadata": {},
   "outputs": [
    {
     "data": {
      "text/plain": [
       "LogisticRegression(C=1.0, class_weight=None, dual=False, fit_intercept=True,\n",
       "                   intercept_scaling=1, l1_ratio=None, max_iter=100,\n",
       "                   multi_class='ovr', n_jobs=None, penalty='l2',\n",
       "                   random_state=None, solver='liblinear', tol=0.0001, verbose=0,\n",
       "                   warm_start=False)"
      ]
     },
     "execution_count": 51,
     "metadata": {},
     "output_type": "execute_result"
    }
   ],
   "source": [
    "# Using logistic regression\n",
    "\n",
    "l_reg = LogisticRegression(solver='liblinear', multi_class='ovr')\n",
    "\n",
    "l_reg.fit(X_train, y_train)"
   ]
  },
  {
   "cell_type": "code",
   "execution_count": 52,
   "metadata": {},
   "outputs": [],
   "source": [
    "y_pred = l_reg.predict(X_test)"
   ]
  },
  {
   "cell_type": "code",
   "execution_count": 53,
   "metadata": {},
   "outputs": [
    {
     "name": "stdout",
     "output_type": "stream",
     "text": [
      "0.9333333333333333\n"
     ]
    }
   ],
   "source": [
    "# Accuracy score\n",
    "\n",
    "from sklearn.metrics import accuracy_score\n",
    "\n",
    "print(accuracy_score(y_test, y_pred))"
   ]
  },
  {
   "cell_type": "code",
   "execution_count": 62,
   "metadata": {},
   "outputs": [
    {
     "name": "stdout",
     "output_type": "stream",
     "text": [
      "Predictions for 1 neighbors: [2 2]\n",
      "Accuracy score with 1 neighbors is: 0.95\n",
      "Predictions for 2 neighbors: [2 2]\n",
      "Accuracy score with 2 neighbors is: 0.95\n",
      "Predictions for 3 neighbors: [2 2]\n",
      "Accuracy score with 3 neighbors is: 0.9666666666666667\n",
      "Predictions for 4 neighbors: [2 2]\n",
      "Accuracy score with 4 neighbors is: 0.9666666666666667\n",
      "Predictions for 5 neighbors: [2 2]\n",
      "Accuracy score with 5 neighbors is: 0.9666666666666667\n",
      "Predictions for 6 neighbors: [2 2]\n",
      "Accuracy score with 6 neighbors is: 0.9833333333333333\n",
      "Predictions for 7 neighbors: [2 2]\n",
      "Accuracy score with 7 neighbors is: 0.9833333333333333\n",
      "Predictions for 8 neighbors: [2 2]\n",
      "Accuracy score with 8 neighbors is: 0.9833333333333333\n",
      "Predictions for 9 neighbors: [2 2]\n",
      "Accuracy score with 9 neighbors is: 0.9833333333333333\n",
      "Predictions for 10 neighbors: [2 2]\n",
      "Accuracy score with 10 neighbors is: 0.9833333333333333\n",
      "Predictions for 11 neighbors: [2 2]\n",
      "Accuracy score with 11 neighbors is: 0.9833333333333333\n",
      "Predictions for 12 neighbors: [2 2]\n",
      "Accuracy score with 12 neighbors is: 0.9833333333333333\n",
      "Predictions for 13 neighbors: [2 2]\n",
      "Accuracy score with 13 neighbors is: 0.9833333333333333\n",
      "Predictions for 14 neighbors: [2 2]\n",
      "Accuracy score with 14 neighbors is: 0.9833333333333333\n",
      "Predictions for 15 neighbors: [2 2]\n",
      "Accuracy score with 15 neighbors is: 0.9833333333333333\n",
      "Predictions for 16 neighbors: [2 2]\n",
      "Accuracy score with 16 neighbors is: 0.9833333333333333\n",
      "Predictions for 17 neighbors: [2 2]\n",
      "Accuracy score with 17 neighbors is: 0.9833333333333333\n",
      "Predictions for 18 neighbors: [2 2]\n",
      "Accuracy score with 18 neighbors is: 0.9666666666666667\n",
      "Predictions for 19 neighbors: [2 2]\n",
      "Accuracy score with 19 neighbors is: 0.9833333333333333\n",
      "Predictions for 20 neighbors: [2 2]\n",
      "Accuracy score with 20 neighbors is: 0.9666666666666667\n",
      "Predictions for 21 neighbors: [2 2]\n",
      "Accuracy score with 21 neighbors is: 0.9666666666666667\n",
      "Predictions for 22 neighbors: [2 2]\n",
      "Accuracy score with 22 neighbors is: 0.9666666666666667\n",
      "Predictions for 23 neighbors: [2 2]\n",
      "Accuracy score with 23 neighbors is: 0.9666666666666667\n",
      "Predictions for 24 neighbors: [2 2]\n",
      "Accuracy score with 24 neighbors is: 0.95\n",
      "Predictions for 25 neighbors: [2 2]\n",
      "Accuracy score with 25 neighbors is: 0.95\n",
      "Predictions for 26 neighbors: [2 2]\n",
      "Accuracy score with 26 neighbors is: 0.95\n",
      "Predictions for 27 neighbors: [2 2]\n",
      "Accuracy score with 27 neighbors is: 0.95\n",
      "Predictions for 28 neighbors: [2 2]\n",
      "Accuracy score with 28 neighbors is: 0.9666666666666667\n",
      "Predictions for 29 neighbors: [2 2]\n",
      "Accuracy score with 29 neighbors is: 0.95\n",
      "Predictions for 30 neighbors: [2 2]\n",
      "Accuracy score with 30 neighbors is: 0.9666666666666667\n"
     ]
    }
   ],
   "source": [
    "# Using KNN\n",
    "\n",
    "import numpy as np\n",
    "\n",
    "k_values = np.arange(1, 31)\n",
    "accuracy_scores = []\n",
    "\n",
    "for n in range (1, 31):\n",
    "    knn = KNeighborsClassifier(n_neighbors=n)\n",
    "    knn.fit(X_train, y_train)\n",
    "    y_pred = knn.predict(X_test)\n",
    "    \n",
    "    accuracy = accuracy_score(y_test, y_pred)\n",
    "    accuracy_scores.append(accuracy)\n",
    "    \n",
    "    print(f'Predictions for {n} neighbors:', predictions)\n",
    "    print(f'Accuracy score with {n} neighbors is:', accuracy)"
   ]
  },
  {
   "cell_type": "code",
   "execution_count": 84,
   "metadata": {},
   "outputs": [
    {
     "data": {
      "image/png": "[encoded data removed]",
      "text/plain": [
       "<Figure size 432x288 with 1 Axes>"
      ]
     },
     "metadata": {
      "needs_background": "light"
     },
     "output_type": "display_data"
    }
   ],
   "source": [
    "import matplotlib.pyplot as plt\n",
    "%matplotlib inline\n",
    "\n",
    "plt.plot(k_values, accuracy_scores)\n",
    "plt.title('Accuracy for different k-values (1-30)')\n",
    "plt.xlabel('k-values')\n",
    "plt.ylabel('Accuracy score')\n",
    "plt.show()"
   ]
  },
  {
   "cell_type": "markdown",
   "metadata": {},
   "source": [
    "## K-Fold Cross Validation"
   ]
  },
  {
   "cell_type": "code",
   "execution_count": 72,
   "metadata": {},
   "outputs": [
    {
     "name": "stdout",
     "output_type": "stream",
     "text": [
      "[1.         0.93333333 1.         1.         0.86666667 0.93333333\n",
      " 0.93333333 1.         1.         1.        ] \n",
      "\n",
      "0.9666666666666668\n"
     ]
    }
   ],
   "source": [
    "from sklearn.model_selection import cross_val_score\n",
    "\n",
    "knn_5 = KNeighborsClassifier(n_neighbors=5)\n",
    "\n",
    "scores = cross_val_score(knn_5, X, y, cv=10, scoring='accuracy')\n",
    "\n",
    "print(scores, '\\n')\n",
    "print(scores.mean())"
   ]
  },
  {
   "cell_type": "code",
   "execution_count": 82,
   "metadata": {},
   "outputs": [
    {
     "name": "stdout",
     "output_type": "stream",
     "text": [
      "Accuracy list for 1 neighbors: \n",
      " [1.         0.93333333 1.         0.93333333 0.86666667 1.\n",
      " 0.86666667 1.         1.         1.        ] \n",
      "\n",
      "Accuracy score for 1 neighbors is: 0.96 \n",
      "\n",
      "Accuracy list for 2 neighbors: \n",
      " [1.         0.93333333 1.         0.93333333 0.86666667 1.\n",
      " 0.86666667 0.93333333 1.         1.        ] \n",
      "\n",
      "Accuracy score for 2 neighbors is: 0.9533333333333334 \n",
      "\n",
      "Accuracy list for 3 neighbors: \n",
      " [1.         0.93333333 1.         0.93333333 0.86666667 1.\n",
      " 0.93333333 1.         1.         1.        ] \n",
      "\n",
      "Accuracy score for 3 neighbors is: 0.9666666666666666 \n",
      "\n",
      "Accuracy list for 4 neighbors: \n",
      " [1.         0.93333333 1.         0.93333333 0.86666667 1.\n",
      " 0.93333333 1.         1.         1.        ] \n",
      "\n",
      "Accuracy score for 4 neighbors is: 0.9666666666666666 \n",
      "\n",
      "Accuracy list for 5 neighbors: \n",
      " [1.         0.93333333 1.         1.         0.86666667 0.93333333\n",
      " 0.93333333 1.         1.         1.        ] \n",
      "\n",
      "Accuracy score for 5 neighbors is: 0.9666666666666668 \n",
      "\n",
      "Accuracy list for 6 neighbors: \n",
      " [1.         0.93333333 1.         1.         0.86666667 0.93333333\n",
      " 0.93333333 1.         1.         1.        ] \n",
      "\n",
      "Accuracy score for 6 neighbors is: 0.9666666666666668 \n",
      "\n",
      "Accuracy list for 7 neighbors: \n",
      " [1.         0.93333333 1.         1.         0.86666667 0.93333333\n",
      " 0.93333333 1.         1.         1.        ] \n",
      "\n",
      "Accuracy score for 7 neighbors is: 0.9666666666666668 \n",
      "\n",
      "Accuracy list for 8 neighbors: \n",
      " [1.         0.93333333 1.         1.         1.         0.86666667\n",
      " 0.93333333 0.93333333 1.         1.        ] \n",
      "\n",
      "Accuracy score for 8 neighbors is: 0.9666666666666668 \n",
      "\n",
      "Accuracy list for 9 neighbors: \n",
      " [1.         0.93333333 1.         1.         1.         0.93333333\n",
      " 0.93333333 0.93333333 1.         1.        ] \n",
      "\n",
      "Accuracy score for 9 neighbors is: 0.9733333333333334 \n",
      "\n",
      "Accuracy list for 10 neighbors: \n",
      " [1.         0.93333333 1.         1.         1.         0.86666667\n",
      " 0.93333333 0.93333333 1.         1.        ] \n",
      "\n",
      "Accuracy score for 10 neighbors is: 0.9666666666666668 \n",
      "\n",
      "Accuracy list for 11 neighbors: \n",
      " [1.         0.93333333 1.         1.         1.         0.86666667\n",
      " 0.93333333 0.93333333 1.         1.        ] \n",
      "\n",
      "Accuracy score for 11 neighbors is: 0.9666666666666668 \n",
      "\n",
      "Accuracy list for 12 neighbors: \n",
      " [1.         0.93333333 1.         1.         1.         0.93333333\n",
      " 0.93333333 0.93333333 1.         1.        ] \n",
      "\n",
      "Accuracy score for 12 neighbors is: 0.9733333333333334 \n",
      "\n",
      "Accuracy list for 13 neighbors: \n",
      " [1.         0.93333333 1.         1.         1.         0.93333333\n",
      " 0.93333333 1.         1.         1.        ] \n",
      "\n",
      "Accuracy score for 13 neighbors is: 0.9800000000000001 \n",
      "\n",
      "Accuracy list for 14 neighbors: \n",
      " [1.         0.93333333 1.         1.         1.         0.86666667\n",
      " 0.93333333 1.         1.         1.        ] \n",
      "\n",
      "Accuracy score for 14 neighbors is: 0.9733333333333334 \n",
      "\n",
      "Accuracy list for 15 neighbors: \n",
      " [0.93333333 0.93333333 1.         1.         1.         0.93333333\n",
      " 0.93333333 1.         1.         1.        ] \n",
      "\n",
      "Accuracy score for 15 neighbors is: 0.9733333333333334 \n",
      "\n",
      "Accuracy list for 16 neighbors: \n",
      " [1.         0.93333333 1.         1.         1.         0.93333333\n",
      " 0.93333333 0.93333333 1.         1.        ] \n",
      "\n",
      "Accuracy score for 16 neighbors is: 0.9733333333333334 \n",
      "\n",
      "Accuracy list for 17 neighbors: \n",
      " [0.93333333 0.93333333 1.         1.         1.         0.93333333\n",
      " 0.93333333 1.         1.         1.        ] \n",
      "\n",
      "Accuracy score for 17 neighbors is: 0.9733333333333334 \n",
      "\n",
      "Accuracy list for 18 neighbors: \n",
      " [1.         0.93333333 1.         1.         1.         0.93333333\n",
      " 0.93333333 1.         1.         1.        ] \n",
      "\n",
      "Accuracy score for 18 neighbors is: 0.9800000000000001 \n",
      "\n",
      "Accuracy list for 19 neighbors: \n",
      " [0.93333333 0.93333333 1.         1.         1.         0.93333333\n",
      " 0.93333333 1.         1.         1.        ] \n",
      "\n",
      "Accuracy score for 19 neighbors is: 0.9733333333333334 \n",
      "\n",
      "Accuracy list for 20 neighbors: \n",
      " [1.         0.93333333 1.         1.         1.         0.93333333\n",
      " 0.93333333 1.         1.         1.        ] \n",
      "\n",
      "Accuracy score for 20 neighbors is: 0.9800000000000001 \n",
      "\n",
      "Accuracy list for 21 neighbors: \n",
      " [0.93333333 0.93333333 1.         1.         0.93333333 0.93333333\n",
      " 0.93333333 1.         1.         1.        ] \n",
      "\n",
      "Accuracy score for 21 neighbors is: 0.9666666666666666 \n",
      "\n",
      "Accuracy list for 22 neighbors: \n",
      " [0.93333333 0.93333333 1.         1.         1.         0.93333333\n",
      " 0.93333333 0.93333333 1.         1.        ] \n",
      "\n",
      "Accuracy score for 22 neighbors is: 0.9666666666666666 \n",
      "\n",
      "Accuracy list for 23 neighbors: \n",
      " [0.93333333 0.93333333 1.         1.         1.         0.93333333\n",
      " 0.93333333 1.         1.         1.        ] \n",
      "\n",
      "Accuracy score for 23 neighbors is: 0.9733333333333334 \n",
      "\n",
      "Accuracy list for 24 neighbors: \n",
      " [0.93333333 0.93333333 1.         1.         1.         0.86666667\n",
      " 0.93333333 0.93333333 1.         1.        ] \n",
      "\n",
      "Accuracy score for 24 neighbors is: 0.96 \n",
      "\n",
      "Accuracy list for 25 neighbors: \n",
      " [0.93333333 0.93333333 1.         1.         1.         0.93333333\n",
      " 0.93333333 0.93333333 1.         1.        ] \n",
      "\n",
      "Accuracy score for 25 neighbors is: 0.9666666666666666 \n",
      "\n",
      "Accuracy list for 26 neighbors: \n",
      " [0.93333333 0.93333333 1.         1.         1.         0.86666667\n",
      " 0.93333333 0.93333333 1.         1.        ] \n",
      "\n",
      "Accuracy score for 26 neighbors is: 0.96 \n",
      "\n",
      "Accuracy list for 27 neighbors: \n",
      " [0.93333333 0.93333333 1.         1.         1.         0.86666667\n",
      " 0.93333333 1.         1.         1.        ] \n",
      "\n",
      "Accuracy score for 27 neighbors is: 0.9666666666666666 \n",
      "\n",
      "Accuracy list for 28 neighbors: \n",
      " [0.93333333 0.93333333 1.         0.93333333 1.         0.86666667\n",
      " 0.93333333 0.93333333 1.         1.        ] \n",
      "\n",
      "Accuracy score for 28 neighbors is: 0.9533333333333334 \n",
      "\n",
      "Accuracy list for 29 neighbors: \n",
      " [0.93333333 0.93333333 1.         0.93333333 1.         0.86666667\n",
      " 0.93333333 0.93333333 1.         1.        ] \n",
      "\n",
      "Accuracy score for 29 neighbors is: 0.9533333333333334 \n",
      "\n",
      "Accuracy list for 30 neighbors: \n",
      " [0.93333333 0.93333333 1.         0.93333333 1.         0.86666667\n",
      " 0.93333333 0.93333333 1.         1.        ] \n",
      "\n",
      "Accuracy score for 30 neighbors is: 0.9533333333333334 \n",
      "\n",
      "Accuracy list for 31 neighbors: \n",
      " [0.86666667 0.93333333 1.         0.93333333 1.         0.86666667\n",
      " 0.93333333 0.93333333 1.         1.        ] \n",
      "\n",
      "Accuracy score for 31 neighbors is: 0.9466666666666667 \n",
      "\n",
      "Accuracy list for 32 neighbors: \n",
      " [0.93333333 0.93333333 1.         0.93333333 1.         0.86666667\n",
      " 0.86666667 0.93333333 1.         1.        ] \n",
      "\n",
      "Accuracy score for 32 neighbors is: 0.9466666666666667 \n",
      "\n",
      "Accuracy list for 33 neighbors: \n",
      " [0.93333333 0.93333333 1.         0.93333333 1.         0.86666667\n",
      " 0.86666667 0.93333333 1.         1.        ] \n",
      "\n",
      "Accuracy score for 33 neighbors is: 0.9466666666666667 \n",
      "\n",
      "Accuracy list for 34 neighbors: \n",
      " [0.93333333 0.93333333 1.         0.93333333 1.         0.86666667\n",
      " 0.86666667 0.93333333 1.         1.        ] \n",
      "\n",
      "Accuracy score for 34 neighbors is: 0.9466666666666667 \n",
      "\n",
      "Accuracy list for 35 neighbors: \n",
      " [0.93333333 0.93333333 1.         0.93333333 1.         0.86666667\n",
      " 0.86666667 0.93333333 1.         1.        ] \n",
      "\n",
      "Accuracy score for 35 neighbors is: 0.9466666666666667 \n",
      "\n",
      "Accuracy list for 36 neighbors: \n",
      " [0.93333333 0.93333333 1.         0.93333333 1.         0.86666667\n",
      " 0.86666667 0.93333333 1.         1.        ] \n",
      "\n",
      "Accuracy score for 36 neighbors is: 0.9466666666666667 \n",
      "\n",
      "Accuracy list for 37 neighbors: \n",
      " [0.93333333 0.93333333 1.         0.93333333 1.         0.86666667\n",
      " 0.86666667 0.93333333 1.         1.        ] \n",
      "\n",
      "Accuracy score for 37 neighbors is: 0.9466666666666667 \n",
      "\n",
      "Accuracy list for 38 neighbors: \n",
      " [0.93333333 0.93333333 1.         0.93333333 1.         0.8\n",
      " 0.93333333 0.93333333 1.         1.        ] \n",
      "\n",
      "Accuracy score for 38 neighbors is: 0.9466666666666667 \n",
      "\n",
      "Accuracy list for 39 neighbors: \n",
      " [0.93333333 0.93333333 1.         0.93333333 1.         0.86666667\n",
      " 0.93333333 0.93333333 1.         1.        ] \n",
      "\n",
      "Accuracy score for 39 neighbors is: 0.9533333333333334 \n",
      "\n",
      "Accuracy list for 40 neighbors: \n",
      " [0.93333333 0.93333333 1.         0.93333333 1.         0.86666667\n",
      " 0.93333333 0.93333333 1.         1.        ] \n",
      "\n",
      "Accuracy score for 40 neighbors is: 0.9533333333333334 \n",
      "\n",
      "Accuracy list for 41 neighbors: \n",
      " [0.93333333 0.93333333 1.         0.93333333 1.         0.86666667\n",
      " 0.93333333 0.93333333 1.         1.        ] \n",
      "\n",
      "Accuracy score for 41 neighbors is: 0.9533333333333334 \n",
      "\n",
      "Accuracy list for 42 neighbors: \n",
      " [0.93333333 0.93333333 1.         0.93333333 1.         0.86666667\n",
      " 0.93333333 0.93333333 1.         1.        ] \n",
      "\n",
      "Accuracy score for 42 neighbors is: 0.9533333333333334 \n",
      "\n",
      "Accuracy list for 43 neighbors: \n",
      " [0.86666667 0.93333333 1.         0.93333333 1.         0.86666667\n",
      " 0.93333333 0.93333333 1.         1.        ] \n",
      "\n",
      "Accuracy score for 43 neighbors is: 0.9466666666666667 \n",
      "\n",
      "Accuracy list for 44 neighbors: \n",
      " [0.93333333 0.93333333 0.93333333 0.93333333 1.         0.8\n",
      " 0.93333333 0.93333333 1.         1.        ] \n",
      "\n",
      "Accuracy score for 44 neighbors is: 0.9400000000000001 \n",
      "\n",
      "Accuracy list for 45 neighbors: \n",
      " [0.86666667 0.93333333 0.93333333 0.93333333 1.         0.8\n",
      " 0.93333333 0.93333333 1.         1.        ] \n",
      "\n",
      "Accuracy score for 45 neighbors is: 0.9333333333333333 \n",
      "\n"
     ]
    }
   ],
   "source": [
    "k_values = np.arange(1, 46)\n",
    "accuracy_scores = []\n",
    "\n",
    "for n in k_values:\n",
    "    knn = KNeighborsClassifier(n_neighbors=n)\n",
    "    \n",
    "    scores = cross_val_score(knn, X, y, cv=10, scoring='accuracy')\n",
    "    \n",
    "    accuracy_scores.append(scores.mean())\n",
    "    \n",
    "    print(f'Accuracy list for {n} neighbors: \\n', scores,  '\\n')\n",
    "    print(f'Accuracy score for {n} neighbors is:', scores.mean(),  '\\n')"
   ]
  },
  {
   "cell_type": "code",
   "execution_count": 86,
   "metadata": {},
   "outputs": [
    {
     "data": {
      "image/png": "[encoded data removed]",
      "text/plain": [
       "<Figure size 432x288 with 1 Axes>"
      ]
     },
     "metadata": {
      "needs_background": "light"
     },
     "output_type": "display_data"
    }
   ],
   "source": [
    "plt.plot(k_values, accuracy_scores)\n",
    "plt.title('Accuracy for different k-values (1-45)')\n",
    "plt.xlabel('k-values for KNN')\n",
    "plt.ylabel('Mean accuracy score')\n",
    "plt.show()"
   ]
  },
  {
   "cell_type": "code",
   "execution_count": null,
   "metadata": {},
   "outputs": [],
   "source": []
  },
  {
   "cell_type": "code",
   "execution_count": null,
   "metadata": {},
   "outputs": [],
   "source": []
  },
  {
   "cell_type": "code",
   "execution_count": null,
   "metadata": {},
   "outputs": [],
   "source": []
  },
  {
   "cell_type": "code",
   "execution_count": null,
   "metadata": {},
   "outputs": [],
   "source": []
  }
 ],
 "metadata": {
  "kernelspec": {
   "display_name": "Python 3",
   "language": "python",
   "name": "python3"
  },
  "language_info": {
   "codemirror_mode": {
    "name": "ipython",
    "version": 3
   },
   "file_extension": ".py",
   "mimetype": "text/x-python",
   "name": "python",
   "nbconvert_exporter": "python",
   "pygments_lexer": "ipython3",
   "version": "3.7.4"
  }
 },
 "nbformat": 4,
 "nbformat_minor": 2
}
