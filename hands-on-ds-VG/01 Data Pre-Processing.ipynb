{
 "cells": [
  {
   "cell_type": "markdown",
   "metadata": {},
   "source": [
    "## Libraries Import"
   ]
  },
  {
   "cell_type": "code",
   "execution_count": 1,
   "metadata": {},
   "outputs": [],
   "source": [
    "import numpy as np\n",
    "import pandas as pd\n",
    "import matplotlib.pyplot as plt\n",
    "\n",
    "%matplotlib inline"
   ]
  },
  {
   "cell_type": "markdown",
   "metadata": {},
   "source": [
    "## Loading Data"
   ]
  },
  {
   "cell_type": "code",
   "execution_count": 2,
   "metadata": {},
   "outputs": [
    {
     "name": "stdout",
     "output_type": "stream",
     "text": [
      "        State        Age       Salary Purchased\n",
      "0  California  42.000000  60000.00000        No\n",
      "1     Florida  29.000000  55000.00000       Yes\n",
      "2       Texas  27.000000  72000.00000        No\n",
      "3     Florida  26.000000  48000.00000        No\n",
      "4       Texas  39.000000  65111.11111       Yes\n",
      "5  California  34.000000  54000.00000       Yes\n",
      "6     Florida  36.888889  57000.00000        No\n",
      "7  California  46.000000  80000.00000       Yes\n",
      "8       Texas  51.000000  85000.00000        No\n",
      "9  California  38.000000  75000.00000       Yes\n"
     ]
    }
   ],
   "source": [
    "dataset = pd.read_csv('Data.csv')\n",
    "print(dataset)"
   ]
  },
  {
   "cell_type": "code",
   "execution_count": 3,
   "metadata": {},
   "outputs": [
    {
     "name": "stdout",
     "output_type": "stream",
     "text": [
      "[['California' 42.0 60000.0]\n",
      " ['Florida' 29.0 55000.0]\n",
      " ['Texas' 27.0 72000.0]\n",
      " ['Florida' 26.0 48000.0]\n",
      " ['Texas' 39.0 65111.111110000005]\n",
      " ['California' 34.0 54000.0]\n",
      " ['Florida' 36.88888889 57000.0]\n",
      " ['California' 46.0 80000.0]\n",
      " ['Texas' 51.0 85000.0]\n",
      " ['California' 38.0 75000.0]]\n"
     ]
    }
   ],
   "source": [
    "# featutes - independent variables\n",
    "X = dataset.iloc[:, :-1].values\n",
    "print(X)"
   ]
  },
  {
   "cell_type": "code",
   "execution_count": 4,
   "metadata": {},
   "outputs": [
    {
     "name": "stdout",
     "output_type": "stream",
     "text": [
      "['No' 'Yes' 'No' 'No' 'Yes' 'Yes' 'No' 'Yes' 'No' 'Yes']\n"
     ]
    }
   ],
   "source": [
    "# target - dependent variable\n",
    "y = dataset.iloc[:, -1].values\n",
    "print(y)"
   ]
  },
  {
   "cell_type": "code",
   "execution_count": 5,
   "metadata": {},
   "outputs": [
    {
     "data": {
      "text/html": [
       "<div>\n",
       "<style scoped>\n",
       "    .dataframe tbody tr th:only-of-type {\n",
       "        vertical-align: middle;\n",
       "    }\n",
       "\n",
       "    .dataframe tbody tr th {\n",
       "        vertical-align: top;\n",
       "    }\n",
       "\n",
       "    .dataframe thead th {\n",
       "        text-align: right;\n",
       "    }\n",
       "</style>\n",
       "<table border=\"1\" class=\"dataframe\">\n",
       "  <thead>\n",
       "    <tr style=\"text-align: right;\">\n",
       "      <th></th>\n",
       "      <th>Age</th>\n",
       "      <th>Salary</th>\n",
       "    </tr>\n",
       "  </thead>\n",
       "  <tbody>\n",
       "    <tr>\n",
       "      <td>count</td>\n",
       "      <td>10.000000</td>\n",
       "      <td>10.000000</td>\n",
       "    </tr>\n",
       "    <tr>\n",
       "      <td>mean</td>\n",
       "      <td>36.888889</td>\n",
       "      <td>65111.111111</td>\n",
       "    </tr>\n",
       "    <tr>\n",
       "      <td>std</td>\n",
       "      <td>8.171012</td>\n",
       "      <td>12350.838428</td>\n",
       "    </tr>\n",
       "    <tr>\n",
       "      <td>min</td>\n",
       "      <td>26.000000</td>\n",
       "      <td>48000.000000</td>\n",
       "    </tr>\n",
       "    <tr>\n",
       "      <td>25%</td>\n",
       "      <td>30.250000</td>\n",
       "      <td>55500.000000</td>\n",
       "    </tr>\n",
       "    <tr>\n",
       "      <td>50%</td>\n",
       "      <td>37.444444</td>\n",
       "      <td>62555.555555</td>\n",
       "    </tr>\n",
       "    <tr>\n",
       "      <td>75%</td>\n",
       "      <td>41.250000</td>\n",
       "      <td>74250.000000</td>\n",
       "    </tr>\n",
       "    <tr>\n",
       "      <td>max</td>\n",
       "      <td>51.000000</td>\n",
       "      <td>85000.000000</td>\n",
       "    </tr>\n",
       "  </tbody>\n",
       "</table>\n",
       "</div>"
      ],
      "text/plain": [
       "             Age        Salary\n",
       "count  10.000000     10.000000\n",
       "mean   36.888889  65111.111111\n",
       "std     8.171012  12350.838428\n",
       "min    26.000000  48000.000000\n",
       "25%    30.250000  55500.000000\n",
       "50%    37.444444  62555.555555\n",
       "75%    41.250000  74250.000000\n",
       "max    51.000000  85000.000000"
      ]
     },
     "execution_count": 5,
     "metadata": {},
     "output_type": "execute_result"
    }
   ],
   "source": [
    "dataset.describe()"
   ]
  },
  {
   "cell_type": "markdown",
   "metadata": {},
   "source": [
    "## Working with missing data"
   ]
  },
  {
   "cell_type": "code",
   "execution_count": 6,
   "metadata": {},
   "outputs": [
    {
     "name": "stdout",
     "output_type": "stream",
     "text": [
      "        State        Age       Salary Purchased\n",
      "0  California  42.000000          NaN        No\n",
      "1     Florida  29.000000  55000.00000       Yes\n",
      "2       Texas  27.000000  72000.00000        No\n",
      "3     Florida  26.000000  48000.00000        No\n",
      "4       Texas  39.000000  65111.11111       Yes\n",
      "5  California  34.000000  54000.00000       Yes\n",
      "6     Florida  36.888889  57000.00000        No\n",
      "7  California  46.000000  80000.00000       Yes\n",
      "8       Texas        NaN  85000.00000        No\n",
      "9  California  38.000000  75000.00000       Yes\n"
     ]
    }
   ],
   "source": [
    "# Add some missing values in the features\n",
    "\n",
    "dataset[dataset == 51] = np.nan\n",
    "dataset[dataset == 60000] = np.nan\n",
    "print(dataset)"
   ]
  },
  {
   "cell_type": "code",
   "execution_count": 7,
   "metadata": {},
   "outputs": [
    {
     "name": "stdout",
     "output_type": "stream",
     "text": [
      "[['California' 42.0 nan]\n",
      " ['Florida' 29.0 55000.0]\n",
      " ['Texas' 27.0 72000.0]\n",
      " ['Florida' 26.0 48000.0]\n",
      " ['Texas' 39.0 65111.111110000005]\n",
      " ['California' 34.0 54000.0]\n",
      " ['Florida' 36.88888889 57000.0]\n",
      " ['California' 46.0 80000.0]\n",
      " ['Texas' nan 85000.0]\n",
      " ['California' 38.0 75000.0]]\n"
     ]
    }
   ],
   "source": [
    "# featutes \n",
    "X = dataset.iloc[:, :-1].values\n",
    "print(X)"
   ]
  },
  {
   "cell_type": "code",
   "execution_count": 8,
   "metadata": {},
   "outputs": [
    {
     "name": "stdout",
     "output_type": "stream",
     "text": [
      "['No' 'Yes' 'No' 'No' 'Yes' 'Yes' 'No' 'Yes' 'No' 'Yes']\n"
     ]
    }
   ],
   "source": [
    "# target\n",
    "y = dataset.iloc[:, -1].values\n",
    "print(y)"
   ]
  },
  {
   "cell_type": "code",
   "execution_count": 9,
   "metadata": {},
   "outputs": [
    {
     "name": "stdout",
     "output_type": "stream",
     "text": [
      "[['California' 42.0 65679.01234555554]\n",
      " ['Florida' 29.0 55000.0]\n",
      " ['Texas' 27.0 72000.0]\n",
      " ['Florida' 26.0 48000.0]\n",
      " ['Texas' 39.0 65111.111110000005]\n",
      " ['California' 34.0 54000.0]\n",
      " ['Florida' 36.88888889 57000.0]\n",
      " ['California' 46.0 80000.0]\n",
      " ['Texas' 35.320987654444444 85000.0]\n",
      " ['California' 38.0 75000.0]]\n"
     ]
    }
   ],
   "source": [
    "# Replace the missing values using the SimpleImputer from sklearn\n",
    "\n",
    "from sklearn.impute import SimpleImputer\n",
    "\n",
    "# replacing any missing values with the mean of the column\n",
    "imputer = SimpleImputer(missing_values=np.nan, strategy='mean') \n",
    "imputer.fit(X[:, 1:3])\n",
    "X[:, 1:3] = imputer.transform(X[:, 1:3])\n",
    "\n",
    "print(X)"
   ]
  },
  {
   "cell_type": "markdown",
   "metadata": {},
   "source": [
    "## Encoding Categorical Data"
   ]
  },
  {
   "cell_type": "code",
   "execution_count": 10,
   "metadata": {},
   "outputs": [
    {
     "name": "stdout",
     "output_type": "stream",
     "text": [
      "[[1.00000000e+00 0.00000000e+00 0.00000000e+00 4.20000000e+01\n",
      "  6.56790123e+04]\n",
      " [0.00000000e+00 1.00000000e+00 0.00000000e+00 2.90000000e+01\n",
      "  5.50000000e+04]\n",
      " [0.00000000e+00 0.00000000e+00 1.00000000e+00 2.70000000e+01\n",
      "  7.20000000e+04]\n",
      " [0.00000000e+00 1.00000000e+00 0.00000000e+00 2.60000000e+01\n",
      "  4.80000000e+04]\n",
      " [0.00000000e+00 0.00000000e+00 1.00000000e+00 3.90000000e+01\n",
      "  6.51111111e+04]\n",
      " [1.00000000e+00 0.00000000e+00 0.00000000e+00 3.40000000e+01\n",
      "  5.40000000e+04]\n",
      " [0.00000000e+00 1.00000000e+00 0.00000000e+00 3.68888889e+01\n",
      "  5.70000000e+04]\n",
      " [1.00000000e+00 0.00000000e+00 0.00000000e+00 4.60000000e+01\n",
      "  8.00000000e+04]\n",
      " [0.00000000e+00 0.00000000e+00 1.00000000e+00 3.53209877e+01\n",
      "  8.50000000e+04]\n",
      " [1.00000000e+00 0.00000000e+00 0.00000000e+00 3.80000000e+01\n",
      "  7.50000000e+04]]\n"
     ]
    }
   ],
   "source": [
    "# Encoding an independent variable - 'State'\n",
    "\n",
    "from sklearn.preprocessing import OneHotEncoder\n",
    "from sklearn.compose import ColumnTransformer\n",
    "\n",
    "ct = ColumnTransformer(transformers=[('one_hot_encoder', OneHotEncoder(categories='auto'), [0])],\n",
    "                      remainder='passthrough')\n",
    "\n",
    "X = np.array(ct.fit_transform(X), dtype=np.float)\n",
    "\n",
    "print(X)\n",
    "\n",
    "# An example of the output below - the encoding change after every run\n",
    "# 'California'> 100\n",
    "# 'Florida'> 010\n",
    "# 'Texas'> 001"
   ]
  },
  {
   "cell_type": "code",
   "execution_count": 14,
   "metadata": {},
   "outputs": [
    {
     "name": "stdout",
     "output_type": "stream",
     "text": [
      "[0 1 0 0 1 1 0 1 0 1]\n"
     ]
    }
   ],
   "source": [
    "# Encoding the dependent variable - 'Purchased'\n",
    "\n",
    "from sklearn.preprocessing import LabelEncoder\n",
    "le = LabelEncoder()\n",
    "y = le.fit_transform(y)\n",
    "\n",
    "print(y)\n",
    "\n",
    "# 0 > No\n",
    "# 1 > Yes"
   ]
  },
  {
   "cell_type": "markdown",
   "metadata": {},
   "source": [
    "## Train & Test Sets - Splitting Data"
   ]
  },
  {
   "cell_type": "code",
   "execution_count": 16,
   "metadata": {},
   "outputs": [
    {
     "name": "stdout",
     "output_type": "stream",
     "text": [
      "(10, 5)\n",
      "(8, 5)\n",
      "(2, 5)\n"
     ]
    }
   ],
   "source": [
    "from sklearn.model_selection import train_test_split\n",
    "\n",
    "X_train, X_test, y_train, y_test = train_test_split(X, y, test_size=0.2, random_state=0)\n",
    "\n",
    "print(X.shape)\n",
    "print(X_train.shape)\n",
    "print(X_test.shape)"
   ]
  },
  {
   "cell_type": "code",
   "execution_count": 17,
   "metadata": {},
   "outputs": [
    {
     "name": "stdout",
     "output_type": "stream",
     "text": [
      "(10,)\n",
      "(8,)\n",
      "(2,)\n"
     ]
    }
   ],
   "source": [
    "print(y.shape)\n",
    "print(y_train.shape)\n",
    "print(y_test.shape)"
   ]
  },
  {
   "cell_type": "markdown",
   "metadata": {},
   "source": [
    "## Feature Scaling\n",
    "\n",
    "Standardization vs Normalization"
   ]
  },
  {
   "cell_type": "code",
   "execution_count": 18,
   "metadata": {},
   "outputs": [
    {
     "name": "stdout",
     "output_type": "stream",
     "text": [
      "[[-1.         -0.77459667  2.64575131  0.42967955  0.25609847]\n",
      " [ 1.         -0.77459667 -0.37796447  0.26685361  1.21635534]\n",
      " [-1.          1.29099445 -0.37796447 -1.19857978 -0.72573721]\n",
      " [-1.          1.29099445 -0.37796447  0.08593591 -0.53152795]\n",
      " [ 1.         -0.77459667 -0.37796447  1.56946108  1.70187847]\n",
      " [-1.          1.29099445 -0.37796447 -1.68705758 -1.40546959]\n",
      " [ 1.         -0.77459667 -0.37796447  0.91815734  0.31124431]\n",
      " [ 1.         -0.77459667 -0.37796447 -0.38445012 -0.82284183]]\n"
     ]
    }
   ],
   "source": [
    "from sklearn.preprocessing import StandardScaler\n",
    "\n",
    "sc_X = StandardScaler()\n",
    "\n",
    "X_train = sc_X.fit_transform(X_train)\n",
    "X_test = sc_X.transform(X_test)\n",
    "\n",
    "print(X_train)"
   ]
  },
  {
   "cell_type": "markdown",
   "metadata": {},
   "source": [
    "## Data Pre-Processing Template"
   ]
  },
  {
   "cell_type": "code",
   "execution_count": 19,
   "metadata": {},
   "outputs": [],
   "source": [
    "# Importing libraries\n",
    "import numpy as np\n",
    "import pandas as pd\n",
    "import matplotlib.pyplot as plt\n",
    "\n",
    "# Importing dataset\n",
    "dataset = pd.read_csv(\"Data.csv\")\n",
    "X = dataset.iloc[:, :-1].values\n",
    "Y = dataset.iloc[:, 3].values\n",
    "dataset.describe()\n",
    "\n",
    "# Split dataset into train and test set\n",
    "from sklearn.model_selection import train_test_split\n",
    "X_train, X_test, Y_train, Y_test = train_test_split(X,Y,test_size=0.20,random_state=0)\n"
   ]
  },
  {
   "cell_type": "code",
   "execution_count": null,
   "metadata": {},
   "outputs": [],
   "source": []
  }
 ],
 "metadata": {
  "kernelspec": {
   "display_name": "Python 3",
   "language": "python",
   "name": "python3"
  },
  "language_info": {
   "codemirror_mode": {
    "name": "ipython",
    "version": 3
   },
   "file_extension": ".py",
   "mimetype": "text/x-python",
   "name": "python",
   "nbconvert_exporter": "python",
   "pygments_lexer": "ipython3",
   "version": "3.7.4"
  }
 },
 "nbformat": 4,
 "nbformat_minor": 2
}
