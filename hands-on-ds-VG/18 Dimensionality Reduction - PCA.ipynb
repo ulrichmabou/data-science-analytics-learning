{
 "cells": [
  {
   "cell_type": "markdown",
   "metadata": {},
   "source": [
    "## Principal Component Analysis (PCA)"
   ]
  },
  {
   "cell_type": "code",
   "execution_count": 1,
   "metadata": {},
   "outputs": [],
   "source": [
    "# Importing libraries\n",
    "\n",
    "import numpy as np\n",
    "import pandas as pd\n",
    "import matplotlib.pyplot as plt\n",
    "\n",
    "%matplotlib inline"
   ]
  },
  {
   "cell_type": "code",
   "execution_count": 6,
   "metadata": {},
   "outputs": [
    {
     "name": "stdout",
     "output_type": "stream",
     "text": [
      "   Wine  Alcohol  Malic.acid   Ash   Acl   Mg  Phenols  Flavanoids  \\\n",
      "0     1    14.23        1.71  2.43  15.6  127     2.80        3.06   \n",
      "1     1    13.20        1.78  2.14  11.2  100     2.65        2.76   \n",
      "2     1    13.16        2.36  2.67  18.6  101     2.80        3.24   \n",
      "3     1    14.37        1.95  2.50  16.8  113     3.85        3.49   \n",
      "4     1    13.24        2.59  2.87  21.0  118     2.80        2.69   \n",
      "\n",
      "   Nonflavanoid.phenols  Proanth  Color.int   Hue    OD  Proline  \n",
      "0                  0.28     2.29       5.64  1.04  3.92     1065  \n",
      "1                  0.26     1.28       4.38  1.05  3.40     1050  \n",
      "2                  0.30     2.81       5.68  1.03  3.17     1185  \n",
      "3                  0.24     2.18       7.80  0.86  3.45     1480  \n",
      "4                  0.39     1.82       4.32  1.04  2.93      735  \n",
      "     Wine  Alcohol  Malic.acid   Ash   Acl   Mg  Phenols  Flavanoids  \\\n",
      "173     3    13.71        5.65  2.45  20.5   95     1.68        0.61   \n",
      "174     3    13.40        3.91  2.48  23.0  102     1.80        0.75   \n",
      "175     3    13.27        4.28  2.26  20.0  120     1.59        0.69   \n",
      "176     3    13.17        2.59  2.37  20.0  120     1.65        0.68   \n",
      "177     3    14.13        4.10  2.74  24.5   96     2.05        0.76   \n",
      "\n",
      "     Nonflavanoid.phenols  Proanth  Color.int   Hue    OD  Proline  \n",
      "173                  0.52     1.06        7.7  0.64  1.74      740  \n",
      "174                  0.43     1.41        7.3  0.70  1.56      750  \n",
      "175                  0.43     1.35       10.2  0.59  1.56      835  \n",
      "176                  0.53     1.46        9.3  0.60  1.62      840  \n",
      "177                  0.56     1.35        9.2  0.61  1.60      560  \n",
      "[[1.423e+01 1.710e+00 2.430e+00 ... 1.040e+00 3.920e+00 1.065e+03]\n",
      " [1.320e+01 1.780e+00 2.140e+00 ... 1.050e+00 3.400e+00 1.050e+03]\n",
      " [1.316e+01 2.360e+00 2.670e+00 ... 1.030e+00 3.170e+00 1.185e+03]\n",
      " ...\n",
      " [1.327e+01 4.280e+00 2.260e+00 ... 5.900e-01 1.560e+00 8.350e+02]\n",
      " [1.317e+01 2.590e+00 2.370e+00 ... 6.000e-01 1.620e+00 8.400e+02]\n",
      " [1.413e+01 4.100e+00 2.740e+00 ... 6.100e-01 1.600e+00 5.600e+02]]\n",
      "[1 1 1 1 1 1 1 1 1 1 1 1 1 1 1 1 1 1 1 1 1 1 1 1 1 1 1 1 1 1 1 1 1 1 1 1 1\n",
      " 1 1 1 1 1 1 1 1 1 1 1 1 1 1 1 1 1 1 1 1 1 1 2 2 2 2 2 2 2 2 2 2 2 2 2 2 2\n",
      " 2 2 2 2 2 2 2 2 2 2 2 2 2 2 2 2 2 2 2 2 2 2 2 2 2 2 2 2 2 2 2 2 2 2 2 2 2\n",
      " 2 2 2 2 2 2 2 2 2 2 2 2 2 2 2 2 2 2 2 3 3 3 3 3 3 3 3 3 3 3 3 3 3 3 3 3 3\n",
      " 3 3 3 3 3 3 3 3 3 3 3 3 3 3 3 3 3 3 3 3 3 3 3 3 3 3 3 3 3 3]\n"
     ]
    }
   ],
   "source": [
    "# Loading data\n",
    "\n",
    "dataset = pd.read_csv(\"wine.csv\")\n",
    "\n",
    "print(dataset.head())\n",
    "print(dataset.tail())\n",
    "\n",
    "# independent variables \n",
    "X = dataset.iloc[:, 1:14].values\n",
    "print(X)\n",
    "\n",
    "# dependent variable - type of whine (1, 2 or 3)\n",
    "y = dataset.iloc[:, 0].values\n",
    "print(y)\n"
   ]
  },
  {
   "cell_type": "code",
   "execution_count": 7,
   "metadata": {},
   "outputs": [
    {
     "name": "stdout",
     "output_type": "stream",
     "text": [
      "(142, 13)\n",
      "(36, 13)\n"
     ]
    }
   ],
   "source": [
    "# Split dataset into train and test set\n",
    "\n",
    "from sklearn.model_selection import train_test_split\n",
    "X_train, X_test, y_train, y_test = train_test_split(X, y, test_size=0.2, random_state=0)\n",
    "\n",
    "print(X_train.shape)\n",
    "print(X_test.shape)"
   ]
  },
  {
   "cell_type": "code",
   "execution_count": 8,
   "metadata": {},
   "outputs": [],
   "source": [
    "# Feature scaling on independent variables\n",
    "\n",
    "from sklearn.preprocessing import StandardScaler\n",
    "\n",
    "sc = StandardScaler()\n",
    "\n",
    "X_train = sc.fit_transform(X_train)\n",
    "X_test = sc.fit_transform(X_test)"
   ]
  },
  {
   "cell_type": "code",
   "execution_count": 12,
   "metadata": {},
   "outputs": [
    {
     "name": "stdout",
     "output_type": "stream",
     "text": [
      "[0.36884109 0.19318394]\n"
     ]
    }
   ],
   "source": [
    "# Applying PCA\n",
    "\n",
    "from sklearn.decomposition import PCA\n",
    "\n",
    "pca = PCA(n_components=2)\n",
    "\n",
    "X_train = pca.fit_transform(X_train)\n",
    "X_test = pca.transform(X_test)\n",
    "\n",
    "explained_variance = pca.explained_variance_ratio_\n",
    "print(explained_variance)"
   ]
  },
  {
   "cell_type": "code",
   "execution_count": 16,
   "metadata": {},
   "outputs": [
    {
     "name": "stdout",
     "output_type": "stream",
     "text": [
      "[[-2.17884511e+00 -1.07218467e+00]\n",
      " [-1.80819239e+00  1.57822344e+00]\n",
      " [ 1.09829474e+00  2.22124345e+00]\n",
      " [-2.55584748e+00 -1.66210369e+00]\n",
      " [ 1.85698063e+00  2.41573166e-01]\n",
      " [ 2.58288576e+00 -1.37668170e+00]\n",
      " [ 8.72876119e-01  2.25618512e+00]\n",
      " [-4.18384029e-01  2.35415681e+00]\n",
      " [-3.04977245e-01  2.27659433e+00]\n",
      " [ 2.14082532e+00 -1.10052871e+00]\n",
      " [-2.98136465e+00 -2.47159183e-01]\n",
      " [ 1.96188242e+00  1.25407738e+00]\n",
      " [-2.16177795e+00 -9.75966550e-01]\n",
      " [ 2.21976084e+00 -2.39507167e+00]\n",
      " [-2.30179529e+00 -2.05791962e-01]\n",
      " [-3.00953827e+00 -2.79141212e-01]\n",
      " [ 2.63443473e+00 -8.68313119e-01]\n",
      " [-1.09219965e+00 -3.53906625e+00]\n",
      " [ 2.62578435e+00 -2.96852840e-03]\n",
      " [ 1.98077342e-01  2.29193443e+00]\n",
      " [-2.67442753e+00 -2.58800132e+00]\n",
      " [-2.54763698e+00 -4.52703891e-01]\n",
      " [ 1.77416736e+00  8.43586940e-01]\n",
      " [-2.77786938e+00 -4.32090258e-01]\n",
      " [-2.86679938e+00 -1.87580875e+00]\n",
      " [ 1.35498845e+00  3.99545184e-02]\n",
      " [-2.43900474e+00  9.44074889e-02]\n",
      " [-2.27268121e+00  5.05883053e-01]\n",
      " [ 1.17887166e+00  2.50068415e+00]\n",
      " [-2.30673313e+00  1.30502777e+00]\n",
      " [-2.53020738e+00 -5.51277126e-01]\n",
      " [ 1.63200028e-01  1.29107817e+00]\n",
      " [ 2.57881158e+00 -1.17515982e+00]\n",
      " [-7.62471566e-01  3.16097049e+00]\n",
      " [ 2.57005937e+00 -9.66718786e-02]\n",
      " [-4.78337042e-01  5.77763823e-01]\n",
      " [ 5.47417096e-01 -3.77647780e-01]\n",
      " [ 3.55763538e+00 -1.45816125e+00]\n",
      " [ 1.69260971e+00  1.37844174e+00]\n",
      " [ 2.65288395e+00 -2.39399539e-01]\n",
      " [-3.62047411e+00 -6.90153979e-01]\n",
      " [-1.61462317e+00 -2.41170340e+00]\n",
      " [ 1.50959767e+00  1.32717326e+00]\n",
      " [ 5.36413494e-02  2.07680094e+00]\n",
      " [-1.07889168e-01  2.85115217e+00]\n",
      " [-2.39610454e+00 -2.45883860e+00]\n",
      " [-3.12315181e+00  4.23261512e-01]\n",
      " [ 3.28569649e+00 -3.22859884e-01]\n",
      " [-3.55506872e+00 -1.74242946e+00]\n",
      " [-3.87020538e-01  2.61510101e+00]\n",
      " [-4.74514016e-01  1.98023790e+00]\n",
      " [-1.06865761e+00  6.78906271e-01]\n",
      " [ 1.08546036e+00  1.30817801e+00]\n",
      " [ 2.02340107e+00  1.56926094e+00]\n",
      " [ 2.76257094e+00 -1.85603600e+00]\n",
      " [ 2.06778286e+00 -1.35861191e+00]\n",
      " [ 9.06600653e-01  2.04110996e+00]\n",
      " [ 3.52336455e+00 -1.39946872e+00]\n",
      " [-3.79914321e+00 -4.92727617e-02]\n",
      " [ 1.75250993e+00  4.64283651e-01]\n",
      " [-3.46539192e+00 -7.90385134e-01]\n",
      " [ 3.16221605e+00 -8.39879111e-01]\n",
      " [ 2.37656864e+00 -1.72475988e+00]\n",
      " [ 1.31278073e+00  8.53348760e-01]\n",
      " [ 3.57258440e+00 -1.78091597e+00]\n",
      " [ 9.50877158e-01  2.38927332e+00]\n",
      " [ 4.95461316e-01  2.16498322e+00]\n",
      " [ 3.79294638e+00 -2.92787186e+00]\n",
      " [-2.37978591e+00 -2.13572422e+00]\n",
      " [-1.50346992e+00  1.39146991e+00]\n",
      " [ 2.50566646e+00 -1.30365941e+00]\n",
      " [-6.97535788e-01  2.78160736e-01]\n",
      " [-7.25562555e-01  2.54007170e+00]\n",
      " [ 9.24047324e-01  1.46344718e+00]\n",
      " [-1.25151294e+00  2.74792621e-02]\n",
      " [ 2.20937835e+00 -8.05690832e-01]\n",
      " [-3.84416995e+00 -5.74263508e-01]\n",
      " [-1.77983157e+00 -1.38012167e+00]\n",
      " [ 4.35413058e+00 -2.33750318e+00]\n",
      " [ 3.33834347e+00 -1.51169086e+00]\n",
      " [-1.44769123e+00  1.90826204e+00]\n",
      " [-2.75066706e+00 -2.07100640e+00]\n",
      " [ 2.79475799e+00 -1.36659228e+00]\n",
      " [ 1.84642601e+00 -6.82481476e-01]\n",
      " [-4.13332842e-01  2.20440158e+00]\n",
      " [-4.81356617e-02  1.17469609e+00]\n",
      " [ 1.99166500e+00 -2.50860656e-01]\n",
      " [ 2.26421169e+00 -1.32120813e+00]\n",
      " [ 7.85551414e-01 -2.46487051e-01]\n",
      " [-3.32586984e+00 -2.14485564e+00]\n",
      " [ 1.00496881e+00  7.20390295e-01]\n",
      " [ 2.31479633e+00  2.62129546e-01]\n",
      " [ 8.67032066e-01  1.36440259e+00]\n",
      " [-2.28629769e+00 -4.54244754e-01]\n",
      " [ 3.14452871e+00 -1.29318898e+00]\n",
      " [-1.65297942e+00  1.74177394e+00]\n",
      " [-2.84689388e+00 -7.78426712e-02]\n",
      " [-2.68393126e+00 -2.53813173e-01]\n",
      " [ 1.97280128e+00 -1.70171835e+00]\n",
      " [ 1.63120111e+00  7.24762688e-01]\n",
      " [-2.05082836e+00 -2.11848206e-01]\n",
      " [ 2.28798382e+00 -1.95899701e+00]\n",
      " [-2.28266458e+00 -2.07243579e-01]\n",
      " [-3.45079842e-01  1.92360626e+00]\n",
      " [ 1.49448758e+00 -7.18673825e-01]\n",
      " [ 2.26695932e+00 -7.93531817e-01]\n",
      " [-3.44673144e-01  1.92686997e+00]\n",
      " [ 2.75927029e+00 -1.56391999e+00]\n",
      " [-2.86839562e+00 -1.85579453e+00]\n",
      " [-1.46228982e+00  1.22151405e+00]\n",
      " [-3.31754434e+00 -1.20382601e+00]\n",
      " [ 1.72057718e+00 -1.36843828e-01]\n",
      " [-2.90065973e+00 -3.71521776e-01]\n",
      " [-2.30532411e+00 -2.14386284e+00]\n",
      " [-3.51377495e+00 -1.17981731e+00]\n",
      " [ 2.32780065e+00 -2.95396131e-01]\n",
      " [ 1.54528723e+00  1.99996309e+00]\n",
      " [-3.32660657e-01  2.37118865e+00]\n",
      " [ 4.96648201e-01  9.57282660e-01]\n",
      " [ 6.69654741e-01  3.80907536e+00]\n",
      " [-2.76009366e+00 -1.48785734e+00]\n",
      " [-3.19187371e+00 -2.70815669e+00]\n",
      " [-6.05023707e-01  1.10583182e+00]\n",
      " [-1.34006934e+00  1.51232906e+00]\n",
      " [ 1.05506599e+00 -9.49724036e-01]\n",
      " [ 1.16017702e+00  1.39768493e+00]\n",
      " [-2.87675356e+00 -1.15157946e+00]\n",
      " [-2.35838421e+00 -2.44842974e+00]\n",
      " [ 2.54704855e+00 -1.86824592e+00]\n",
      " [ 3.20597222e+00 -1.85912926e+00]\n",
      " [-2.69949485e+00 -1.75638262e-01]\n",
      " [-9.67436859e-01  1.81399824e+00]\n",
      " [-1.46454259e+00  1.01680272e+00]\n",
      " [-4.04000223e-01  2.40815711e+00]\n",
      " [ 1.46393837e+00 -6.90763351e-01]\n",
      " [ 1.15903114e+00 -2.91379684e-01]\n",
      " [ 2.82057099e+00 -8.99578955e-01]\n",
      " [-5.01011897e-01  2.68453162e+00]\n",
      " [ 3.30453915e-01  2.43396193e+00]\n",
      " [ 1.09727608e-02  1.99585453e+00]\n",
      " [ 2.89176687e+00 -7.71555485e-01]\n",
      " [-2.44830439e+00 -2.11360296e+00]]\n"
     ]
    }
   ],
   "source": [
    "print(X_train)"
   ]
  },
  {
   "cell_type": "code",
   "execution_count": 18,
   "metadata": {},
   "outputs": [
    {
     "data": {
      "text/plain": [
       "LogisticRegression(C=1.0, class_weight=None, dual=False, fit_intercept=True,\n",
       "                   intercept_scaling=1, l1_ratio=None, max_iter=100,\n",
       "                   multi_class='multinomial', n_jobs=None, penalty='l2',\n",
       "                   random_state=0, solver='lbfgs', tol=0.0001, verbose=0,\n",
       "                   warm_start=False)"
      ]
     },
     "execution_count": 18,
     "metadata": {},
     "output_type": "execute_result"
    }
   ],
   "source": [
    "# Fitting logistic regression to training set\n",
    "\n",
    "from sklearn.linear_model import LogisticRegression\n",
    "\n",
    "classifier = LogisticRegression(random_state=0, solver='lbfgs', multi_class='multinomial')\n",
    "\n",
    "classifier.fit(X_train, y_train)"
   ]
  },
  {
   "cell_type": "code",
   "execution_count": 19,
   "metadata": {},
   "outputs": [
    {
     "name": "stdout",
     "output_type": "stream",
     "text": [
      "[1 3 2 1 2 1 1 3 2 2 3 3 1 2 3 2 1 1 2 1 2 1 1 2 2 2 2 2 2 3 1 1 2 1 1 1]\n",
      "[1 3 2 1 2 2 1 3 2 2 3 3 1 2 3 2 1 1 2 1 2 1 1 2 2 2 2 2 2 3 1 1 2 1 1 1]\n"
     ]
    }
   ],
   "source": [
    "# Predicting Test set results\n",
    "\n",
    "y_pred = classifier.predict(X_test)\n",
    "print(y_pred)\n",
    "print(y_test)"
   ]
  },
  {
   "cell_type": "code",
   "execution_count": 20,
   "metadata": {},
   "outputs": [
    {
     "name": "stdout",
     "output_type": "stream",
     "text": [
      "[[14  0  0]\n",
      " [ 1 15  0]\n",
      " [ 0  0  6]]\n"
     ]
    }
   ],
   "source": [
    "# Confusion Matrix\n",
    "\n",
    "from sklearn.metrics import confusion_matrix\n",
    "cm = confusion_matrix(y_test, y_pred)\n",
    "print(cm)"
   ]
  },
  {
   "cell_type": "code",
   "execution_count": 23,
   "metadata": {},
   "outputs": [
    {
     "name": "stdout",
     "output_type": "stream",
     "text": [
      "97.22222222222221\n"
     ]
    }
   ],
   "source": [
    "accuracy = (14 + 15 + 6)/36 * 100\n",
    "print(accuracy)"
   ]
  },
  {
   "cell_type": "code",
   "execution_count": null,
   "metadata": {},
   "outputs": [],
   "source": []
  },
  {
   "cell_type": "code",
   "execution_count": null,
   "metadata": {},
   "outputs": [],
   "source": []
  }
 ],
 "metadata": {
  "kernelspec": {
   "display_name": "Python 3",
   "language": "python",
   "name": "python3"
  },
  "language_info": {
   "codemirror_mode": {
    "name": "ipython",
    "version": 3
   },
   "file_extension": ".py",
   "mimetype": "text/x-python",
   "name": "python",
   "nbconvert_exporter": "python",
   "pygments_lexer": "ipython3",
   "version": "3.7.4"
  }
 },
 "nbformat": 4,
 "nbformat_minor": 2
}
