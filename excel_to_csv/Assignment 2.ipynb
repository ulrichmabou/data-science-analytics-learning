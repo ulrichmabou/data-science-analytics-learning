{
 "cells": [
  {
   "cell_type": "markdown",
   "metadata": {},
   "source": [
    "## Problem Statement:\n",
    "\n",
    "1. Create a single .xlsx file with 10 sheets inside filled with dummy data.\n",
    "2. Read the .xlsx file using pandas\n",
    "3. Export every single sheet of the .xlsx file as a .csv file. (The Output should produce 10 .csv files that contains values of each sheet of .xlsx file respectively)"
   ]
  },
  {
   "cell_type": "code",
   "execution_count": 1,
   "metadata": {},
   "outputs": [],
   "source": [
    "# Importing libraries\n",
    "\n",
    "import numpy as np\n",
    "import pandas as pd"
   ]
  },
  {
   "cell_type": "code",
   "execution_count": 3,
   "metadata": {},
   "outputs": [
    {
     "data": {
      "text/plain": [
       "{'name': ['Alice', 'Bella', 'Sara', 'Emily'],\n",
       " 'number': [18, 20, 22, 24],\n",
       " 'score': [85, 87, 83, 89]}"
      ]
     },
     "execution_count": 3,
     "metadata": {},
     "output_type": "execute_result"
    }
   ],
   "source": [
    "dummy_d = {'name':['Alice','Bella','Sara','Emily'],\n",
    "     'number':[18,20,22,24],\n",
    "     'score':[85,87,83,89]}\n",
    "\n",
    "dummy_d"
   ]
  },
  {
   "cell_type": "code",
   "execution_count": 4,
   "metadata": {},
   "outputs": [
    {
     "data": {
      "text/html": [
       "<div>\n",
       "<style scoped>\n",
       "    .dataframe tbody tr th:only-of-type {\n",
       "        vertical-align: middle;\n",
       "    }\n",
       "\n",
       "    .dataframe tbody tr th {\n",
       "        vertical-align: top;\n",
       "    }\n",
       "\n",
       "    .dataframe thead th {\n",
       "        text-align: right;\n",
       "    }\n",
       "</style>\n",
       "<table border=\"1\" class=\"dataframe\">\n",
       "  <thead>\n",
       "    <tr style=\"text-align: right;\">\n",
       "      <th></th>\n",
       "      <th>name</th>\n",
       "      <th>number</th>\n",
       "      <th>score</th>\n",
       "    </tr>\n",
       "  </thead>\n",
       "  <tbody>\n",
       "    <tr>\n",
       "      <td>0</td>\n",
       "      <td>Alice</td>\n",
       "      <td>18</td>\n",
       "      <td>85</td>\n",
       "    </tr>\n",
       "    <tr>\n",
       "      <td>1</td>\n",
       "      <td>Bella</td>\n",
       "      <td>20</td>\n",
       "      <td>87</td>\n",
       "    </tr>\n",
       "    <tr>\n",
       "      <td>2</td>\n",
       "      <td>Sara</td>\n",
       "      <td>22</td>\n",
       "      <td>83</td>\n",
       "    </tr>\n",
       "    <tr>\n",
       "      <td>3</td>\n",
       "      <td>Emily</td>\n",
       "      <td>24</td>\n",
       "      <td>89</td>\n",
       "    </tr>\n",
       "  </tbody>\n",
       "</table>\n",
       "</div>"
      ],
      "text/plain": [
       "    name  number  score\n",
       "0  Alice      18     85\n",
       "1  Bella      20     87\n",
       "2   Sara      22     83\n",
       "3  Emily      24     89"
      ]
     },
     "execution_count": 4,
     "metadata": {},
     "output_type": "execute_result"
    }
   ],
   "source": [
    "dummy_data =pd.DataFrame(dummy_d)\n",
    "dummy_data"
   ]
  },
  {
   "cell_type": "code",
   "execution_count": 10,
   "metadata": {},
   "outputs": [],
   "source": [
    "# Creating the .xlsx file with 10 sheets\n",
    "\n",
    "data = dummy_data.copy()\n",
    "with pd.ExcelWriter('input_file.xlsx') as writer:  \n",
    "    dummy_data.to_excel(writer, sheet_name='Sheet_1', index=False)\n",
    "    dummy_data.to_excel(writer, sheet_name='Sheet_2', index=False)\n",
    "    dummy_data.to_excel(writer, sheet_name='Sheet_3', index=False)\n",
    "    dummy_data.to_excel(writer, sheet_name='Sheet_4', index=False)\n",
    "    dummy_data.to_excel(writer, sheet_name='Sheet_5', index=False)\n",
    "    dummy_data.to_excel(writer, sheet_name='Sheet_6', index=False)\n",
    "    dummy_data.to_excel(writer, sheet_name='Sheet_7', index=False)\n",
    "    dummy_data.to_excel(writer, sheet_name='Sheet_8', index=False)\n",
    "    dummy_data.to_excel(writer, sheet_name='Sheet_9', index=False)\n",
    "    dummy_data.to_excel(writer, sheet_name='Sheet_10', index=False)\n",
    "    \n",
    "   "
   ]
  },
  {
   "cell_type": "code",
   "execution_count": 19,
   "metadata": {},
   "outputs": [],
   "source": [
    "# Exporting the 10 .csv files\n",
    "\n",
    "sheet1 = pd.read_excel('input_file.xlsx',sheet_name='Sheet_1')\n",
    "sheet1.to_csv('sheet1.csv',index=False)\n",
    "\n",
    "sheet2 = pd.read_excel('input_file.xlsx',sheet_name='Sheet_2')\n",
    "sheet2.to_csv('sheet2.csv',index=False)\n",
    "\n",
    "sheet3 = pd.read_excel('input_file.xlsx',sheet_name='Sheet_3')\n",
    "sheet3.to_csv('sheet3.csv',index=False)\n",
    "\n",
    "sheet4 = pd.read_excel('input_file.xlsx',sheet_name='Sheet_4')\n",
    "sheet4.to_csv('sheet4.csv',index=False)\n",
    "\n",
    "sheet5 = pd.read_excel('input_file.xlsx',sheet_name='Sheet_5')\n",
    "sheet5.to_csv('sheet5.csv',index=False)\n",
    "\n",
    "sheet6 = pd.read_excel('input_file.xlsx',sheet_name='Sheet_6')\n",
    "sheet6.to_csv('sheet6.csv',index=False)\n",
    "\n",
    "sheet7 = pd.read_excel('input_file.xlsx',sheet_name='Sheet_7')\n",
    "sheet7.to_csv('sheet7.csv',index=False)\n",
    "\n",
    "sheet8 = pd.read_excel('input_file.xlsx',sheet_name='Sheet_8')\n",
    "sheet8.to_csv('sheet8.csv',index=False)\n",
    "\n",
    "sheet9 = pd.read_excel('input_file.xlsx',sheet_name='Sheet_9')\n",
    "sheet9.to_csv('sheet9.csv',index=False)\n",
    "\n",
    "sheet10 = pd.read_excel('input_file.xlsx',sheet_name='Sheet_10')\n",
    "sheet10.to_csv('sheet10.csv',index=False)"
   ]
  },
  {
   "cell_type": "code",
   "execution_count": null,
   "metadata": {},
   "outputs": [],
   "source": []
  },
  {
   "cell_type": "code",
   "execution_count": null,
   "metadata": {},
   "outputs": [],
   "source": []
  },
  {
   "cell_type": "code",
   "execution_count": null,
   "metadata": {},
   "outputs": [],
   "source": []
  }
 ],
 "metadata": {
  "kernelspec": {
   "display_name": "Python 3",
   "language": "python",
   "name": "python3"
  },
  "language_info": {
   "codemirror_mode": {
    "name": "ipython",
    "version": 3
   },
   "file_extension": ".py",
   "mimetype": "text/x-python",
   "name": "python",
   "nbconvert_exporter": "python",
   "pygments_lexer": "ipython3",
   "version": "3.7.4"
  }
 },
 "nbformat": 4,
 "nbformat_minor": 2
}
