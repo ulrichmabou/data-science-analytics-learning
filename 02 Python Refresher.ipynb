{
 "cells": [
  {
   "cell_type": "markdown",
   "metadata": {},
   "source": [
    "## Composite Data Types\n",
    "\n",
    "### List, tuple, dictionary, frozenset, set"
   ]
  },
  {
   "cell_type": "code",
   "execution_count": 9,
   "metadata": {},
   "outputs": [
    {
     "name": "stdout",
     "output_type": "stream",
     "text": [
      "['a', 'b', 'c', 1.5]\n"
     ]
    }
   ],
   "source": [
    "# list\n",
    "our_list = ['a','b','c', 1.5]\n",
    "print(our_list)"
   ]
  },
  {
   "cell_type": "code",
   "execution_count": 2,
   "metadata": {},
   "outputs": [
    {
     "name": "stdout",
     "output_type": "stream",
     "text": [
      "('a', 'b', 'c')\n"
     ]
    }
   ],
   "source": [
    "# tuple: similar to a list, but immutable\n",
    "our_tuple = ('a','b','c')\n",
    "print(our_tuple)"
   ]
  },
  {
   "cell_type": "code",
   "execution_count": 4,
   "metadata": {},
   "outputs": [
    {
     "name": "stdout",
     "output_type": "stream",
     "text": [
      "{'key1': 'value1', 'key2': 'value2'}\n",
      "{'name': 'Ulrich', 'height': 178.0}\n"
     ]
    }
   ],
   "source": [
    "# dictionary: key-value pairs\n",
    "our_first_dict = {'key1':'value1', 'key2':'value2'}\n",
    "print(our_first_dict)\n",
    "\n",
    "our_second_dict = {'name':'Ulrich', 'height': 178.0}\n",
    "print(our_second_dict)"
   ]
  },
  {
   "cell_type": "code",
   "execution_count": 7,
   "metadata": {},
   "outputs": [
    {
     "name": "stdout",
     "output_type": "stream",
     "text": [
      "{'three', 'one', 'two'}\n"
     ]
    }
   ],
   "source": [
    "# set: it's like an unordered list, and only return unique elements\n",
    "our_set = {'one', 'two', 'three', 'two'}\n",
    "print(our_set)"
   ]
  },
  {
   "cell_type": "code",
   "execution_count": 10,
   "metadata": {},
   "outputs": [
    {
     "name": "stdout",
     "output_type": "stream",
     "text": [
      "frozenset({'three', 'one', 'two'})\n"
     ]
    }
   ],
   "source": [
    "# frozenset: an immutable set\n",
    "our_frozenset = frozenset(our_set)\n",
    "print(our_frozenset)"
   ]
  },
  {
   "cell_type": "markdown",
   "metadata": {},
   "source": [
    "## Conditional and Loops "
   ]
  },
  {
   "cell_type": "code",
   "execution_count": 11,
   "metadata": {},
   "outputs": [],
   "source": [
    "# while & for loops ..."
   ]
  },
  {
   "cell_type": "markdown",
   "metadata": {},
   "source": [
    "## Functions and Class Objects"
   ]
  },
  {
   "cell_type": "code",
   "execution_count": 13,
   "metadata": {},
   "outputs": [
    {
     "name": "stdout",
     "output_type": "stream",
     "text": [
      "I should become a data analyst By: Ulrich \n",
      " I have already started to learn data science.\n"
     ]
    }
   ],
   "source": [
    "class Report:\n",
    "    def __init__(self, title, author):\n",
    "        self.title = title\n",
    "        self.author = author\n",
    "        \n",
    "    def write_report(self, text):\n",
    "        return \"{} By: {} \\n {}\".format(self.title, self.author, text)\n",
    "    \n",
    "my_report = Report(\"I should become a data analyst\", \"Ulrich\")\n",
    "\n",
    "print(my_report.write_report(\"I have already started to learn data science.\"))"
   ]
  },
  {
   "cell_type": "code",
   "execution_count": null,
   "metadata": {},
   "outputs": [],
   "source": []
  }
 ],
 "metadata": {
  "kernelspec": {
   "display_name": "Python 3",
   "language": "python",
   "name": "python3"
  },
  "language_info": {
   "codemirror_mode": {
    "name": "ipython",
    "version": 3
   },
   "file_extension": ".py",
   "mimetype": "text/x-python",
   "name": "python",
   "nbconvert_exporter": "python",
   "pygments_lexer": "ipython3",
   "version": "3.7.4"
  }
 },
 "nbformat": 4,
 "nbformat_minor": 2
}
