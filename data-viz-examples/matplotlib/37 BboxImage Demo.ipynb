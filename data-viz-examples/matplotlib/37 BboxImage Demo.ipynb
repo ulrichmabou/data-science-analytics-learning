{
 "cells": [
  {
   "cell_type": "markdown",
   "metadata": {},
   "source": [
    "# BboxImage Demo\n",
    "\n",
    "A [BboxImage](https://matplotlib.org/api/image_api.html#matplotlib.image.BboxImage) can be used to position an image according to a bounding box. This demo shows how to show an image inside a [text.Text](https://matplotlib.org/api/text_api.html#matplotlib.text.Text)'s bounding box as well as how to manually create a bounding box for the image."
   ]
  },
  {
   "cell_type": "code",
   "execution_count": 1,
   "metadata": {},
   "outputs": [],
   "source": [
    "import matplotlib.pyplot as plt\n",
    "import numpy as np\n",
    "from matplotlib.image import BboxImage\n",
    "from matplotlib.transforms import Bbox, TransformedBbox\n",
    "\n",
    "%matplotlib inline"
   ]
  },
  {
   "cell_type": "code",
   "execution_count": 4,
   "metadata": {},
   "outputs": [
    {
     "data": {
      "image/png": "[encoded data removed]",
      "text/plain": [
       "<Figure size 432x288 with 2 Axes>"
      ]
     },
     "metadata": {
      "needs_background": "light"
     },
     "output_type": "display_data"
    }
   ],
   "source": [
    "fig, (ax1, ax2) = plt.subplots(ncols=2)\n",
    "\n",
    "# ----------------------------\n",
    "# Create a BboxImage with Text\n",
    "# ----------------------------\n",
    "txt = ax1.text(0.5, 0.5, \"test\", size=30, ha=\"center\", color=\"w\")\n",
    "kwargs = dict()\n",
    "\n",
    "bbox_image = BboxImage(txt.get_window_extent,\n",
    "                       norm=None,\n",
    "                       origin=None,\n",
    "                       clip_on=False,\n",
    "                       **kwargs\n",
    "                       )\n",
    "a = np.arange(256).reshape(1, 256)/256.\n",
    "bbox_image.set_data(a)\n",
    "ax1.add_artist(bbox_image)\n",
    "\n",
    "# ------------------------------------\n",
    "# Create a BboxImage for each colormap\n",
    "# ------------------------------------\n",
    "a = np.linspace(0, 1, 256).reshape(1, -1)\n",
    "a = np.vstack((a, a))\n",
    "\n",
    "# List of all colormaps; skip reversed colormaps.\n",
    "maps = sorted(m for m in plt.cm.cmap_d if not m.endswith(\"_r\"))\n",
    "\n",
    "ncol = 2\n",
    "nrow = len(maps)//ncol + 1\n",
    "\n",
    "xpad_fraction = 0.3\n",
    "dx = 1./(ncol + xpad_fraction*(ncol - 1))\n",
    "\n",
    "ypad_fraction = 0.3\n",
    "dy = 1./(nrow + ypad_fraction*(nrow - 1))\n",
    "\n",
    "for i, m in enumerate(maps):\n",
    "    ix, iy = divmod(i, nrow)\n",
    "\n",
    "    bbox0 = Bbox.from_bounds(ix*dx*(1 + xpad_fraction),\n",
    "                             1. - iy*dy*(1 + ypad_fraction) - dy,\n",
    "                             dx, dy)\n",
    "    bbox = TransformedBbox(bbox0, ax2.transAxes)\n",
    "\n",
    "    bbox_image = BboxImage(bbox,\n",
    "                           cmap=plt.get_cmap(m),\n",
    "                           norm=None,\n",
    "                           origin=None,\n",
    "                           **kwargs\n",
    "                           )\n",
    "\n",
    "    bbox_image.set_data(a)\n",
    "    ax2.add_artist(bbox_image)\n",
    "\n",
    "plt.show()"
   ]
  },
  {
   "cell_type": "code",
   "execution_count": null,
   "metadata": {},
   "outputs": [],
   "source": []
  }
 ],
 "metadata": {
  "kernelspec": {
   "display_name": "Python 3",
   "language": "python",
   "name": "python3"
  },
  "language_info": {
   "codemirror_mode": {
    "name": "ipython",
    "version": 3
   },
   "file_extension": ".py",
   "mimetype": "text/x-python",
   "name": "python",
   "nbconvert_exporter": "python",
   "pygments_lexer": "ipython3",
   "version": "3.7.4"
  }
 },
 "nbformat": 4,
 "nbformat_minor": 2
}
