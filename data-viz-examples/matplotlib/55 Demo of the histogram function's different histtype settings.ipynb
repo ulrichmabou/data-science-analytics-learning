{
 "cells": [
  {
   "cell_type": "markdown",
   "metadata": {},
   "source": [
    "# Demo of the histogram function's different histtype settings\n",
    "\n",
    "- Histogram with step curve that has a color fill.\n",
    "- Histogram with step curve with no fill.\n",
    "- Histogram with custom and unequal bin widths.\n",
    "- Two histograms with stacked bars.\n",
    "\n",
    "Selecting different bin counts and sizes can significantly affect the shape of a histogram. The Astropy docs have a great section on how to select these parameters: http://docs.astropy.org/en/stable/visualization/histogram.html"
   ]
  },
  {
   "cell_type": "code",
   "execution_count": 1,
   "metadata": {},
   "outputs": [],
   "source": [
    "import numpy as np\n",
    "import matplotlib.pyplot as plt\n",
    "\n",
    "%matplotlib inline"
   ]
  },
  {
   "cell_type": "code",
   "execution_count": 2,
   "metadata": {},
   "outputs": [],
   "source": [
    "np.random.seed(19680801)\n",
    "\n",
    "mu_x = 200\n",
    "sigma_x = 25\n",
    "x = np.random.normal(mu_x, sigma_x, size=100)\n",
    "\n",
    "mu_w = 200\n",
    "sigma_w = 10\n",
    "w = np.random.normal(mu_w, sigma_w, size=100)"
   ]
  },
  {
   "cell_type": "code",
   "execution_count": 3,
   "metadata": {},
   "outputs": [
    {
     "data": {
      "image/png": "[encoded data removed]",
      "text/plain": [
       "<Figure size 432x288 with 4 Axes>"
      ]
     },
     "metadata": {
      "needs_background": "light"
     },
     "output_type": "display_data"
    }
   ],
   "source": [
    "fig, axs = plt.subplots(nrows=2, ncols=2)\n",
    "\n",
    "axs[0, 0].hist(x, 20, density=True, histtype='stepfilled', facecolor='g',\n",
    "               alpha=0.75)\n",
    "axs[0, 0].set_title('stepfilled')\n",
    "\n",
    "axs[0, 1].hist(x, 20, density=True, histtype='step', facecolor='g',\n",
    "               alpha=0.75)\n",
    "axs[0, 1].set_title('step')\n",
    "\n",
    "axs[1, 0].hist(x, density=True, histtype='barstacked', rwidth=0.8)\n",
    "axs[1, 0].hist(w, density=True, histtype='barstacked', rwidth=0.8)\n",
    "axs[1, 0].set_title('barstacked')\n",
    "\n",
    "# Create a histogram by providing the bin edges (unequally spaced).\n",
    "bins = [100, 150, 180, 195, 205, 220, 250, 300]\n",
    "axs[1, 1].hist(x, bins, density=True, histtype='bar', rwidth=0.8)\n",
    "axs[1, 1].set_title('bar, unequal bins')\n",
    "\n",
    "fig.tight_layout()\n",
    "plt.show()"
   ]
  },
  {
   "cell_type": "code",
   "execution_count": null,
   "metadata": {},
   "outputs": [],
   "source": []
  }
 ],
 "metadata": {
  "kernelspec": {
   "display_name": "Python 3",
   "language": "python",
   "name": "python3"
  },
  "language_info": {
   "codemirror_mode": {
    "name": "ipython",
    "version": 3
   },
   "file_extension": ".py",
   "mimetype": "text/x-python",
   "name": "python",
   "nbconvert_exporter": "python",
   "pygments_lexer": "ipython3",
   "version": "3.7.4"
  }
 },
 "nbformat": 4,
 "nbformat_minor": 2
}
