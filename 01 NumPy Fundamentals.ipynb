{
 "cells": [
  {
   "cell_type": "code",
   "execution_count": 1,
   "metadata": {},
   "outputs": [],
   "source": [
    "import numpy as np"
   ]
  },
  {
   "cell_type": "markdown",
   "metadata": {},
   "source": [
    "## Array Creation"
   ]
  },
  {
   "cell_type": "code",
   "execution_count": 2,
   "metadata": {},
   "outputs": [
    {
     "name": "stdout",
     "output_type": "stream",
     "text": [
      "[1 2 3 4 5]\n"
     ]
    }
   ],
   "source": [
    "array_a = np.array([1,2,3,4,5])\n",
    "print(array_a)"
   ]
  },
  {
   "cell_type": "code",
   "execution_count": 5,
   "metadata": {},
   "outputs": [
    {
     "name": "stdout",
     "output_type": "stream",
     "text": [
      "[1, 2, 3, 4, 5]\n"
     ]
    }
   ],
   "source": [
    "print([1,2,3,4,5])\n",
    "\n",
    "# This 'normal' Python array can be heterogeneous\n",
    "# but a NumPy array like the one above is homogeneous (only 1 data type)\n",
    "# this makes computing faster and more efficient"
   ]
  },
  {
   "cell_type": "code",
   "execution_count": 6,
   "metadata": {},
   "outputs": [
    {
     "name": "stdout",
     "output_type": "stream",
     "text": [
      "[1, 2, 3, 4, 5, 'ulrich']\n"
     ]
    }
   ],
   "source": [
    "print([1,2,3,4,5, 'ulrich'])"
   ]
  },
  {
   "cell_type": "code",
   "execution_count": 8,
   "metadata": {},
   "outputs": [
    {
     "name": "stdout",
     "output_type": "stream",
     "text": [
      "['1' '2' '3' '4' '5' 'ulrich']\n"
     ]
    }
   ],
   "source": [
    "array_a = np.array([1,2,3,4,5, 'ulrich'])\n",
    "print(array_a)\n",
    "\n",
    "# Notice that all the elements have been converted to strings,\n",
    "# which is not the desired outcome..."
   ]
  },
  {
   "cell_type": "code",
   "execution_count": 9,
   "metadata": {},
   "outputs": [
    {
     "name": "stdout",
     "output_type": "stream",
     "text": [
      "[1 2 3 4 5]\n"
     ]
    }
   ],
   "source": [
    "array_a = np.array([1,2,3,4,5])\n",
    "print(array_a)"
   ]
  },
  {
   "cell_type": "code",
   "execution_count": 11,
   "metadata": {},
   "outputs": [
    {
     "name": "stdout",
     "output_type": "stream",
     "text": [
      "(5,)\n"
     ]
    }
   ],
   "source": [
    "# shape of an array - dimensions\n",
    "print(array_a.shape)"
   ]
  },
  {
   "cell_type": "code",
   "execution_count": 13,
   "metadata": {},
   "outputs": [
    {
     "name": "stdout",
     "output_type": "stream",
     "text": [
      "[[1 2 3 4 5]\n",
      " [1 2 3 4 5]]\n",
      "(2, 5)\n"
     ]
    }
   ],
   "source": [
    "# Multidimensional array\n",
    "array_b = np.array([[1,2,3,4,5], [1,2,3,4,5]])\n",
    "\n",
    "print(array_b)\n",
    "print(array_b.shape)"
   ]
  },
  {
   "cell_type": "code",
   "execution_count": 14,
   "metadata": {},
   "outputs": [
    {
     "name": "stdout",
     "output_type": "stream",
     "text": [
      "[[1 2 3]\n",
      " [4 5 6]\n",
      " [7 8 9]]\n",
      "(3, 3)\n"
     ]
    }
   ],
   "source": [
    "# A 3x3 array\n",
    "seq_a = [1,2,3]\n",
    "seq_b = [4,5,6]\n",
    "seq_c = [7,8,9]\n",
    "\n",
    "array_abc = np.array([seq_a, seq_b, seq_c])\n",
    "\n",
    "print(array_abc)\n",
    "print(array_abc.shape)"
   ]
  },
  {
   "cell_type": "markdown",
   "metadata": {},
   "source": [
    "## Indexing & Reshaping"
   ]
  },
  {
   "cell_type": "code",
   "execution_count": 17,
   "metadata": {},
   "outputs": [
    {
     "name": "stdout",
     "output_type": "stream",
     "text": [
      "(2, 3)\n",
      "6\n"
     ]
    }
   ],
   "source": [
    "array_a = np.array([[1,2,3],[4,5,6]])\n",
    "\n",
    "print(array_a.shape)\n",
    "print(array_a.size)"
   ]
  },
  {
   "cell_type": "code",
   "execution_count": 18,
   "metadata": {},
   "outputs": [
    {
     "name": "stdout",
     "output_type": "stream",
     "text": [
      "[[1 2]\n",
      " [3 4]\n",
      " [5 6]]\n"
     ]
    }
   ],
   "source": [
    "# To reshape, the size must remain the same\n",
    "array_b = array_a.reshape(3, 2)\n",
    "print(array_b)"
   ]
  },
  {
   "cell_type": "code",
   "execution_count": 19,
   "metadata": {},
   "outputs": [
    {
     "name": "stdout",
     "output_type": "stream",
     "text": [
      "[[1 4]\n",
      " [2 5]\n",
      " [3 6]]\n"
     ]
    }
   ],
   "source": [
    "# This specific reshape could also be done with a Transpose\n",
    "array_c = array_a.T\n",
    "print(array_c)"
   ]
  },
  {
   "cell_type": "code",
   "execution_count": 23,
   "metadata": {},
   "outputs": [
    {
     "name": "stdout",
     "output_type": "stream",
     "text": [
      "[1 2]\n",
      "[2 4 6]\n",
      "1\n"
     ]
    }
   ],
   "source": [
    "# Simple indexing\n",
    "\n",
    "print(array_b[0])\n",
    "print(array_b[:,1])\n",
    "print(array_b[0,0])"
   ]
  },
  {
   "cell_type": "markdown",
   "metadata": {},
   "source": [
    "## Default Arrays"
   ]
  },
  {
   "cell_type": "code",
   "execution_count": 24,
   "metadata": {},
   "outputs": [
    {
     "name": "stdout",
     "output_type": "stream",
     "text": [
      "[[1. 2. 3.]\n",
      " [4. 5. 6.]]\n"
     ]
    }
   ],
   "source": [
    "# Change the default data type\n",
    "\n",
    "array_a = np.array([[1,2,3],[4,5,6]], dtype=float)\n",
    "print(array_a)"
   ]
  },
  {
   "cell_type": "code",
   "execution_count": 26,
   "metadata": {},
   "outputs": [
    {
     "name": "stdout",
     "output_type": "stream",
     "text": [
      "[[0. 0. 0.]\n",
      " [0. 0. 0.]\n",
      " [0. 0. 0.]]\n"
     ]
    }
   ],
   "source": [
    "array_b = np.zeros((3,3))\n",
    "print(array_b)"
   ]
  },
  {
   "cell_type": "code",
   "execution_count": 28,
   "metadata": {},
   "outputs": [
    {
     "name": "stdout",
     "output_type": "stream",
     "text": [
      "[[1. 1. 1.]\n",
      " [1. 1. 1.]\n",
      " [1. 1. 1.]]\n"
     ]
    }
   ],
   "source": [
    "array_c = np.ones((3,3))\n",
    "print(array_c)"
   ]
  },
  {
   "cell_type": "code",
   "execution_count": 29,
   "metadata": {},
   "outputs": [
    {
     "name": "stdout",
     "output_type": "stream",
     "text": [
      "[[5 5 5]\n",
      " [5 5 5]\n",
      " [5 5 5]]\n"
     ]
    }
   ],
   "source": [
    "array_d = np.full((3,3), 5)\n",
    "print(array_d)"
   ]
  },
  {
   "cell_type": "code",
   "execution_count": 30,
   "metadata": {},
   "outputs": [
    {
     "name": "stdout",
     "output_type": "stream",
     "text": [
      "[[0.38652232 0.09543378 0.62081682 0.08058635]\n",
      " [0.26836797 0.80385976 0.08054029 0.20733584]\n",
      " [0.57606085 0.14131411 0.78821171 0.21200953]]\n"
     ]
    }
   ],
   "source": [
    "array_e = np.random.random((3,4))\n",
    "print(array_e)"
   ]
  },
  {
   "cell_type": "markdown",
   "metadata": {},
   "source": [
    "## Advanced Indexing"
   ]
  },
  {
   "cell_type": "code",
   "execution_count": 31,
   "metadata": {},
   "outputs": [
    {
     "name": "stdout",
     "output_type": "stream",
     "text": [
      "[[ 1  2  3  4  5]\n",
      " [ 6  7  8  9 10]\n",
      " [11 12 13 14 15]\n",
      " [16 17 18 19 20]\n",
      " [21 22 23 24 25]]\n"
     ]
    }
   ],
   "source": [
    "row_1 = [1,2,3,4,5]\n",
    "row_2 = [6,7,8,9,10]\n",
    "row_3 = [11,12,13,14,15]\n",
    "row_4 = [16,17,18,19,20]\n",
    "row_5 = [21,22,23,24,25]\n",
    "\n",
    "test_data = np.array([row_1, row_2, row_3, row_4, row_5])\n",
    "print(test_data)"
   ]
  },
  {
   "cell_type": "code",
   "execution_count": 34,
   "metadata": {},
   "outputs": [
    {
     "name": "stdout",
     "output_type": "stream",
     "text": [
      "[[ 3  4]\n",
      " [ 8  9]\n",
      " [13 14]\n",
      " [18 19]\n",
      " [23 24]]\n"
     ]
    }
   ],
   "source": [
    "# Slice\n",
    "\n",
    "print(test_data[:, 2:4:1])"
   ]
  },
  {
   "cell_type": "code",
   "execution_count": 35,
   "metadata": {},
   "outputs": [
    {
     "name": "stdout",
     "output_type": "stream",
     "text": [
      "[[ 4  3]\n",
      " [ 9  8]\n",
      " [14 13]\n",
      " [19 18]\n",
      " [24 23]]\n"
     ]
    }
   ],
   "source": [
    "# Negative indexing\n",
    "\n",
    "print(test_data[:, -2:-4:-1])"
   ]
  },
  {
   "cell_type": "code",
   "execution_count": 37,
   "metadata": {},
   "outputs": [
    {
     "name": "stdout",
     "output_type": "stream",
     "text": [
      "[[False False False False False]\n",
      " [ True  True  True  True  True]\n",
      " [ True  True  True  True  True]\n",
      " [ True  True  True  True  True]\n",
      " [ True  True  True  True  True]]\n",
      "[ 6  7  8  9 10 11 12 13 14 15 16 17 18 19 20 21 22 23 24 25]\n"
     ]
    }
   ],
   "source": [
    "# Boolean indexing\n",
    "\n",
    "greater_than_five = test_data > 5\n",
    "print(greater_than_five)\n",
    "print(test_data[greater_than_five])"
   ]
  },
  {
   "cell_type": "code",
   "execution_count": 41,
   "metadata": {},
   "outputs": [
    {
     "name": "stdout",
     "output_type": "stream",
     "text": [
      "[[ 0  0  0  0  0]\n",
      " [ 6  7  8  9 10]\n",
      " [11 12 13 14 15]\n",
      " [16 17 18 19 20]\n",
      " [21 22 23 24 25]]\n"
     ]
    }
   ],
   "source": [
    "# Conditional ndexing with 'where' method\n",
    "# Keep the shape of the original array\n",
    "\n",
    "drop_under_five_array = np.where(test_data > 5, test_data, 0)\n",
    "print(drop_under_five_array)"
   ]
  },
  {
   "cell_type": "code",
   "execution_count": 44,
   "metadata": {},
   "outputs": [
    {
     "name": "stdout",
     "output_type": "stream",
     "text": [
      "[[False False False False False]\n",
      " [ True  True  True  True  True]\n",
      " [ True  True  True  True  True]\n",
      " [ True  True  True  True False]\n",
      " [False False False False False]]\n",
      "[ 6  7  8  9 10 11 12 13 14 15 16 17 18 19]\n"
     ]
    }
   ],
   "source": [
    "# Conditional indexing with 'logical_and' method\n",
    "\n",
    "drop_under_5_and_over_20 = np.logical_and(test_data > 5, test_data < 20)\n",
    "print(drop_under_5_and_over_20)\n",
    "print(test_data[drop_under_5_and_over_20])\n",
    "\n"
   ]
  },
  {
   "cell_type": "markdown",
   "metadata": {},
   "source": [
    "## Array Math"
   ]
  },
  {
   "cell_type": "code",
   "execution_count": 46,
   "metadata": {},
   "outputs": [],
   "source": [
    "array_a = np.array([[1,2],[3,4]])\n",
    "array_b = np.array([[2,2],[6,6]])"
   ]
  },
  {
   "cell_type": "code",
   "execution_count": 55,
   "metadata": {},
   "outputs": [
    {
     "name": "stdout",
     "output_type": "stream",
     "text": [
      "10\n",
      "[3 7]\n",
      "[4 6]\n",
      "[ 1  3  6 10]\n",
      "24\n",
      "[ 1  2  6 24]\n"
     ]
    }
   ],
   "source": [
    "# Single array operations\n",
    "\n",
    "print(array_a.sum()) # sum all the elements of the array\n",
    "\n",
    "print(array_a.sum(axis=1)) # sum along the rows\n",
    "\n",
    "print(array_a.sum(axis=0)) # sum along the columns\n",
    "\n",
    "print(array_a.cumsum()) # cumulative sum\n",
    "\n",
    "print(array_a.prod()) # product of all the elements\n",
    "\n",
    "print(array_a.cumprod()) # cumulative product"
   ]
  },
  {
   "cell_type": "code",
   "execution_count": 57,
   "metadata": {},
   "outputs": [
    {
     "name": "stdout",
     "output_type": "stream",
     "text": [
      "[[ 3  4]\n",
      " [ 9 10]]\n",
      "[[-1  0]\n",
      " [-3 -2]]\n",
      "[[ 2  4]\n",
      " [18 24]]\n",
      "[[0.5        1.        ]\n",
      " [0.5        0.66666667]]\n"
     ]
    }
   ],
   "source": [
    "# Two arrays math\n",
    "\n",
    "print(array_a + array_b) # element by element operations\n",
    "print(array_a - array_b)\n",
    "print(array_a * array_b)\n",
    "print(array_a / array_b)"
   ]
  },
  {
   "cell_type": "code",
   "execution_count": 58,
   "metadata": {},
   "outputs": [
    {
     "name": "stdout",
     "output_type": "stream",
     "text": [
      "[[14 14]\n",
      " [30 30]]\n"
     ]
    }
   ],
   "source": [
    "# Vector product of 2 arrays\n",
    "\n",
    "print(np.dot(array_a, array_b))"
   ]
  },
  {
   "cell_type": "code",
   "execution_count": null,
   "metadata": {},
   "outputs": [],
   "source": []
  }
 ],
 "metadata": {
  "kernelspec": {
   "display_name": "Python 3",
   "language": "python",
   "name": "python3"
  },
  "language_info": {
   "codemirror_mode": {
    "name": "ipython",
    "version": 3
   },
   "file_extension": ".py",
   "mimetype": "text/x-python",
   "name": "python",
   "nbconvert_exporter": "python",
   "pygments_lexer": "ipython3",
   "version": "3.7.4"
  }
 },
 "nbformat": 4,
 "nbformat_minor": 2
}
